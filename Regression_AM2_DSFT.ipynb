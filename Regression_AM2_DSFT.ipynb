{
 "cells": [
  {
   "cell_type": "markdown",
   "metadata": {},
   "source": [
    "# EDSA Apple Prices Challenge\n",
    "\n",
    "Regression_AM2_DSFT team is determined to help the Fresh Produce Industry to accurately determine how much stock to have on hand and what price to set the Golden Delicious Apples to.\n",
    "\n",
    "In the Fresh Produce Industry, having the right amount of stock on hand is crucial. That's, not having too little that you run out of stock when customers want to buy more. And not having too much that food waste occurs. Yields from farms fluctuate by season. Should the prices then also fluctuate by season? The is a need for a more accurate method to determine how much stock to have on hand and what price to set the Golden Delicious Apples to.\n",
    "\n",
    "Regression_AM2_DSFT will investigate key factors that have a great impact on the price of the Golden Delicious Apples to be maximised. We will construct a regression algorithm, capable of accurately predicting how much a kilogram of Golden Delicious Apples will cost, given certain parameters.\n",
    "\n",
    "![Golden Apples](apples.png)\n"
   ]
  },
  {
   "cell_type": "markdown",
   "metadata": {},
   "source": [
    "## Data Cleaning and Formatting\n",
    "Before we do anything, we first have to clean our data. Our data contains negative values that don't make sense, i.e. a negative weight doesn't exist. We'll go now convert all the negative values into positive values.\n",
    "\n",
    "### Libraries"
   ]
  },
  {
   "cell_type": "code",
   "execution_count": 1,
   "metadata": {},
   "outputs": [],
   "source": [
    "import pandas as pd\n",
    "import numpy as np\n",
    "import seaborn as sns\n",
    "import matplotlib.pyplot as plt\n",
    "from datetime import datetime"
   ]
  },
  {
   "cell_type": "markdown",
   "metadata": {},
   "source": [
    "### Datasets"
   ]
  },
  {
   "cell_type": "code",
   "execution_count": 2,
   "metadata": {},
   "outputs": [],
   "source": [
    "df_train = pd.read_csv(\"df-train_set.csv\")\n",
    "df_test = pd.read_csv(\"df-test_set.csv\")\n",
    "test_index = df_test['Index']\n",
    "df_test = df_test.drop('Index', axis = 1)"
   ]
  },
  {
   "cell_type": "code",
   "execution_count": 3,
   "metadata": {},
   "outputs": [],
   "source": [
    "df_train = df_train[df_train['Commodities'] == 'APPLE GOLDEN DELICIOUS']"
   ]
  },
  {
   "cell_type": "markdown",
   "metadata": {},
   "source": [
    "**Let's first take a look at our training data**"
   ]
  },
  {
   "cell_type": "code",
   "execution_count": 4,
   "metadata": {},
   "outputs": [
    {
     "data": {
      "text/html": [
       "<div>\n",
       "<style scoped>\n",
       "    .dataframe tbody tr th:only-of-type {\n",
       "        vertical-align: middle;\n",
       "    }\n",
       "\n",
       "    .dataframe tbody tr th {\n",
       "        vertical-align: top;\n",
       "    }\n",
       "\n",
       "    .dataframe thead th {\n",
       "        text-align: right;\n",
       "    }\n",
       "</style>\n",
       "<table border=\"1\" class=\"dataframe\">\n",
       "  <thead>\n",
       "    <tr style=\"text-align: right;\">\n",
       "      <th></th>\n",
       "      <th>Province</th>\n",
       "      <th>Container</th>\n",
       "      <th>Size_Grade</th>\n",
       "      <th>Weight_Kg</th>\n",
       "      <th>Commodities</th>\n",
       "      <th>Date</th>\n",
       "      <th>Low_Price</th>\n",
       "      <th>High_Price</th>\n",
       "      <th>Sales_Total</th>\n",
       "      <th>Total_Qty_Sold</th>\n",
       "      <th>Total_Kg_Sold</th>\n",
       "      <th>Stock_On_Hand</th>\n",
       "      <th>avg_price_per_kg</th>\n",
       "    </tr>\n",
       "  </thead>\n",
       "  <tbody>\n",
       "    <tr>\n",
       "      <th>1</th>\n",
       "      <td>CAPE</td>\n",
       "      <td>M4183</td>\n",
       "      <td>1L</td>\n",
       "      <td>18.3</td>\n",
       "      <td>APPLE GOLDEN DELICIOUS</td>\n",
       "      <td>2020-09-09</td>\n",
       "      <td>150.0</td>\n",
       "      <td>170.0</td>\n",
       "      <td>51710.0</td>\n",
       "      <td>332</td>\n",
       "      <td>6075.6</td>\n",
       "      <td>822</td>\n",
       "      <td>8.51</td>\n",
       "    </tr>\n",
       "    <tr>\n",
       "      <th>7</th>\n",
       "      <td>CAPE</td>\n",
       "      <td>JG110</td>\n",
       "      <td>2M</td>\n",
       "      <td>11.0</td>\n",
       "      <td>APPLE GOLDEN DELICIOUS</td>\n",
       "      <td>2020-04-14</td>\n",
       "      <td>50.0</td>\n",
       "      <td>50.0</td>\n",
       "      <td>16000.0</td>\n",
       "      <td>320</td>\n",
       "      <td>3520.0</td>\n",
       "      <td>0</td>\n",
       "      <td>4.55</td>\n",
       "    </tr>\n",
       "    <tr>\n",
       "      <th>24</th>\n",
       "      <td>W.CAPE-BERGRIVER ETC</td>\n",
       "      <td>JE090</td>\n",
       "      <td>2S</td>\n",
       "      <td>9.0</td>\n",
       "      <td>APPLE GOLDEN DELICIOUS</td>\n",
       "      <td>2020-04-16</td>\n",
       "      <td>55.0</td>\n",
       "      <td>55.0</td>\n",
       "      <td>990.0</td>\n",
       "      <td>18</td>\n",
       "      <td>162.0</td>\n",
       "      <td>1506</td>\n",
       "      <td>6.11</td>\n",
       "    </tr>\n",
       "    <tr>\n",
       "      <th>40</th>\n",
       "      <td>CAPE</td>\n",
       "      <td>M4183</td>\n",
       "      <td>1S</td>\n",
       "      <td>18.3</td>\n",
       "      <td>APPLE GOLDEN DELICIOUS</td>\n",
       "      <td>2020-05-04</td>\n",
       "      <td>80.0</td>\n",
       "      <td>120.0</td>\n",
       "      <td>32020.0</td>\n",
       "      <td>388</td>\n",
       "      <td>7100.4</td>\n",
       "      <td>443</td>\n",
       "      <td>4.51</td>\n",
       "    </tr>\n",
       "    <tr>\n",
       "      <th>69</th>\n",
       "      <td>EASTERN CAPE</td>\n",
       "      <td>IA400</td>\n",
       "      <td>1S</td>\n",
       "      <td>400.0</td>\n",
       "      <td>APPLE GOLDEN DELICIOUS</td>\n",
       "      <td>2020-09-28</td>\n",
       "      <td>1800.0</td>\n",
       "      <td>1800.0</td>\n",
       "      <td>1800.0</td>\n",
       "      <td>1</td>\n",
       "      <td>400.0</td>\n",
       "      <td>2</td>\n",
       "      <td>4.50</td>\n",
       "    </tr>\n",
       "  </tbody>\n",
       "</table>\n",
       "</div>"
      ],
      "text/plain": [
       "                Province Container Size_Grade  Weight_Kg  \\\n",
       "1                   CAPE     M4183         1L       18.3   \n",
       "7                   CAPE     JG110         2M       11.0   \n",
       "24  W.CAPE-BERGRIVER ETC     JE090         2S        9.0   \n",
       "40                  CAPE     M4183         1S       18.3   \n",
       "69          EASTERN CAPE     IA400         1S      400.0   \n",
       "\n",
       "               Commodities        Date  Low_Price  High_Price  Sales_Total  \\\n",
       "1   APPLE GOLDEN DELICIOUS  2020-09-09      150.0       170.0      51710.0   \n",
       "7   APPLE GOLDEN DELICIOUS  2020-04-14       50.0        50.0      16000.0   \n",
       "24  APPLE GOLDEN DELICIOUS  2020-04-16       55.0        55.0        990.0   \n",
       "40  APPLE GOLDEN DELICIOUS  2020-05-04       80.0       120.0      32020.0   \n",
       "69  APPLE GOLDEN DELICIOUS  2020-09-28     1800.0      1800.0       1800.0   \n",
       "\n",
       "    Total_Qty_Sold  Total_Kg_Sold  Stock_On_Hand  avg_price_per_kg  \n",
       "1              332         6075.6            822              8.51  \n",
       "7              320         3520.0              0              4.55  \n",
       "24              18          162.0           1506              6.11  \n",
       "40             388         7100.4            443              4.51  \n",
       "69               1          400.0              2              4.50  "
      ]
     },
     "execution_count": 4,
     "metadata": {},
     "output_type": "execute_result"
    }
   ],
   "source": [
    "df_train.head()"
   ]
  },
  {
   "cell_type": "code",
   "execution_count": 5,
   "metadata": {},
   "outputs": [
    {
     "data": {
      "text/plain": [
       "(1952, 13)"
      ]
     },
     "execution_count": 5,
     "metadata": {},
     "output_type": "execute_result"
    }
   ],
   "source": [
    "df_train.shape"
   ]
  },
  {
   "cell_type": "code",
   "execution_count": 6,
   "metadata": {},
   "outputs": [
    {
     "name": "stdout",
     "output_type": "stream",
     "text": [
      "<class 'pandas.core.frame.DataFrame'>\n",
      "Int64Index: 1952 entries, 1 to 64310\n",
      "Data columns (total 13 columns):\n",
      " #   Column            Non-Null Count  Dtype  \n",
      "---  ------            --------------  -----  \n",
      " 0   Province          1952 non-null   object \n",
      " 1   Container         1952 non-null   object \n",
      " 2   Size_Grade        1952 non-null   object \n",
      " 3   Weight_Kg         1952 non-null   float64\n",
      " 4   Commodities       1952 non-null   object \n",
      " 5   Date              1952 non-null   object \n",
      " 6   Low_Price         1952 non-null   float64\n",
      " 7   High_Price        1952 non-null   float64\n",
      " 8   Sales_Total       1952 non-null   float64\n",
      " 9   Total_Qty_Sold    1952 non-null   int64  \n",
      " 10  Total_Kg_Sold     1952 non-null   float64\n",
      " 11  Stock_On_Hand     1952 non-null   int64  \n",
      " 12  avg_price_per_kg  1952 non-null   float64\n",
      "dtypes: float64(6), int64(2), object(5)\n",
      "memory usage: 213.5+ KB\n"
     ]
    }
   ],
   "source": [
    "df_train.info()"
   ]
  },
  {
   "cell_type": "code",
   "execution_count": 7,
   "metadata": {},
   "outputs": [],
   "source": [
    "# missing values\n",
    "def total_missing(df):\n",
    "    mis_val = df.isnull().sum()\n",
    "    return mis_val"
   ]
  },
  {
   "cell_type": "code",
   "execution_count": 8,
   "metadata": {},
   "outputs": [
    {
     "data": {
      "text/plain": [
       "Province            0\n",
       "Container           0\n",
       "Size_Grade          0\n",
       "Weight_Kg           0\n",
       "Commodities         0\n",
       "Date                0\n",
       "Low_Price           0\n",
       "High_Price          0\n",
       "Sales_Total         0\n",
       "Total_Qty_Sold      0\n",
       "Total_Kg_Sold       0\n",
       "Stock_On_Hand       0\n",
       "avg_price_per_kg    0\n",
       "dtype: int64"
      ]
     },
     "execution_count": 8,
     "metadata": {},
     "output_type": "execute_result"
    }
   ],
   "source": [
    "total_missing(df_train)"
   ]
  },
  {
   "cell_type": "code",
   "execution_count": 9,
   "metadata": {},
   "outputs": [
    {
     "data": {
      "text/html": [
       "<div>\n",
       "<style scoped>\n",
       "    .dataframe tbody tr th:only-of-type {\n",
       "        vertical-align: middle;\n",
       "    }\n",
       "\n",
       "    .dataframe tbody tr th {\n",
       "        vertical-align: top;\n",
       "    }\n",
       "\n",
       "    .dataframe thead th {\n",
       "        text-align: right;\n",
       "    }\n",
       "</style>\n",
       "<table border=\"1\" class=\"dataframe\">\n",
       "  <thead>\n",
       "    <tr style=\"text-align: right;\">\n",
       "      <th></th>\n",
       "      <th>Weight_Kg</th>\n",
       "      <th>Low_Price</th>\n",
       "      <th>High_Price</th>\n",
       "      <th>Sales_Total</th>\n",
       "      <th>Total_Qty_Sold</th>\n",
       "      <th>Total_Kg_Sold</th>\n",
       "      <th>Stock_On_Hand</th>\n",
       "      <th>avg_price_per_kg</th>\n",
       "    </tr>\n",
       "  </thead>\n",
       "  <tbody>\n",
       "    <tr>\n",
       "      <th>count</th>\n",
       "      <td>1952.000000</td>\n",
       "      <td>1952.000000</td>\n",
       "      <td>1952.000000</td>\n",
       "      <td>1952.000000</td>\n",
       "      <td>1952.000000</td>\n",
       "      <td>1952.000000</td>\n",
       "      <td>1952.000000</td>\n",
       "      <td>1952.000000</td>\n",
       "    </tr>\n",
       "    <tr>\n",
       "      <th>mean</th>\n",
       "      <td>40.460912</td>\n",
       "      <td>174.307377</td>\n",
       "      <td>215.648053</td>\n",
       "      <td>20053.533811</td>\n",
       "      <td>174.510758</td>\n",
       "      <td>2960.176332</td>\n",
       "      <td>408.393955</td>\n",
       "      <td>6.778893</td>\n",
       "    </tr>\n",
       "    <tr>\n",
       "      <th>std</th>\n",
       "      <td>99.655169</td>\n",
       "      <td>373.553578</td>\n",
       "      <td>433.546159</td>\n",
       "      <td>39005.069445</td>\n",
       "      <td>308.810797</td>\n",
       "      <td>6097.416527</td>\n",
       "      <td>724.450582</td>\n",
       "      <td>2.248744</td>\n",
       "    </tr>\n",
       "    <tr>\n",
       "      <th>min</th>\n",
       "      <td>3.000000</td>\n",
       "      <td>2.000000</td>\n",
       "      <td>5.000000</td>\n",
       "      <td>5.000000</td>\n",
       "      <td>1.000000</td>\n",
       "      <td>3.000000</td>\n",
       "      <td>0.000000</td>\n",
       "      <td>0.250000</td>\n",
       "    </tr>\n",
       "    <tr>\n",
       "      <th>25%</th>\n",
       "      <td>9.000000</td>\n",
       "      <td>50.000000</td>\n",
       "      <td>60.000000</td>\n",
       "      <td>1325.000000</td>\n",
       "      <td>12.000000</td>\n",
       "      <td>219.600000</td>\n",
       "      <td>9.000000</td>\n",
       "      <td>5.460000</td>\n",
       "    </tr>\n",
       "    <tr>\n",
       "      <th>50%</th>\n",
       "      <td>12.000000</td>\n",
       "      <td>80.000000</td>\n",
       "      <td>108.000000</td>\n",
       "      <td>5495.000000</td>\n",
       "      <td>64.000000</td>\n",
       "      <td>853.500000</td>\n",
       "      <td>126.500000</td>\n",
       "      <td>6.670000</td>\n",
       "    </tr>\n",
       "    <tr>\n",
       "      <th>75%</th>\n",
       "      <td>18.300000</td>\n",
       "      <td>127.250000</td>\n",
       "      <td>160.000000</td>\n",
       "      <td>21082.500000</td>\n",
       "      <td>200.000000</td>\n",
       "      <td>3093.525000</td>\n",
       "      <td>468.000000</td>\n",
       "      <td>8.280000</td>\n",
       "    </tr>\n",
       "    <tr>\n",
       "      <th>max</th>\n",
       "      <td>400.000000</td>\n",
       "      <td>2300.000000</td>\n",
       "      <td>3300.000000</td>\n",
       "      <td>369464.000000</td>\n",
       "      <td>4237.000000</td>\n",
       "      <td>74000.000000</td>\n",
       "      <td>6400.000000</td>\n",
       "      <td>21.240000</td>\n",
       "    </tr>\n",
       "  </tbody>\n",
       "</table>\n",
       "</div>"
      ],
      "text/plain": [
       "         Weight_Kg    Low_Price   High_Price    Sales_Total  Total_Qty_Sold  \\\n",
       "count  1952.000000  1952.000000  1952.000000    1952.000000     1952.000000   \n",
       "mean     40.460912   174.307377   215.648053   20053.533811      174.510758   \n",
       "std      99.655169   373.553578   433.546159   39005.069445      308.810797   \n",
       "min       3.000000     2.000000     5.000000       5.000000        1.000000   \n",
       "25%       9.000000    50.000000    60.000000    1325.000000       12.000000   \n",
       "50%      12.000000    80.000000   108.000000    5495.000000       64.000000   \n",
       "75%      18.300000   127.250000   160.000000   21082.500000      200.000000   \n",
       "max     400.000000  2300.000000  3300.000000  369464.000000     4237.000000   \n",
       "\n",
       "       Total_Kg_Sold  Stock_On_Hand  avg_price_per_kg  \n",
       "count    1952.000000    1952.000000       1952.000000  \n",
       "mean     2960.176332     408.393955          6.778893  \n",
       "std      6097.416527     724.450582          2.248744  \n",
       "min         3.000000       0.000000          0.250000  \n",
       "25%       219.600000       9.000000          5.460000  \n",
       "50%       853.500000     126.500000          6.670000  \n",
       "75%      3093.525000     468.000000          8.280000  \n",
       "max     74000.000000    6400.000000         21.240000  "
      ]
     },
     "execution_count": 9,
     "metadata": {},
     "output_type": "execute_result"
    }
   ],
   "source": [
    "df_train.describe()"
   ]
  },
  {
   "cell_type": "markdown",
   "metadata": {},
   "source": [
    "By just looking at the above summary statistics, one can see that the values are not evenly distributed, we have very small values such as the minimum value of the variable `Low_Price` and big values such as the maximum of the variable `Stock_On_Hand`. This problem can have a negative impact on how well our model perform. Therefore, we will standardise our variables.\n",
    "\n",
    "There's something wrong with our variable `avg_price_per_kg`, it has `infinity` values. The presence of `infinity` values in this variable is preventing us to compute summary statistics, as a result we don't know much about this variable. Let's go ahead and find out what is really going on"
   ]
  },
  {
   "cell_type": "markdown",
   "metadata": {},
   "source": [
    "We have `eight` rows with `infinity` values. To get the values of `avg_price_per_kg`, we divide `Sales_Total` by `Total_Kg_Sold`. In mathematics, it is not allowed to divide any number by `zero`. All these rows have `Total_Kg_Sold` of `zero`. Therefore, it makes sense why their corresponding `avg_price_per_kg` variable contains infinity values.\n",
    "\n",
    "So what are we going to do with this information, **we'll delete all the rows with infinity values**. Our data has `64376`, hopefully deleting this `8` rows won't have a great impact on the performance of our model."
   ]
  },
  {
   "cell_type": "markdown",
   "metadata": {},
   "source": [
    "#### Test Data"
   ]
  },
  {
   "cell_type": "code",
   "execution_count": 10,
   "metadata": {},
   "outputs": [
    {
     "data": {
      "text/html": [
       "<div>\n",
       "<style scoped>\n",
       "    .dataframe tbody tr th:only-of-type {\n",
       "        vertical-align: middle;\n",
       "    }\n",
       "\n",
       "    .dataframe tbody tr th {\n",
       "        vertical-align: top;\n",
       "    }\n",
       "\n",
       "    .dataframe thead th {\n",
       "        text-align: right;\n",
       "    }\n",
       "</style>\n",
       "<table border=\"1\" class=\"dataframe\">\n",
       "  <thead>\n",
       "    <tr style=\"text-align: right;\">\n",
       "      <th></th>\n",
       "      <th>Province</th>\n",
       "      <th>Container</th>\n",
       "      <th>Size_Grade</th>\n",
       "      <th>Weight_Kg</th>\n",
       "      <th>Commodities</th>\n",
       "      <th>Date</th>\n",
       "      <th>Low_Price</th>\n",
       "      <th>High_Price</th>\n",
       "      <th>Sales_Total</th>\n",
       "      <th>Total_Qty_Sold</th>\n",
       "      <th>Total_Kg_Sold</th>\n",
       "      <th>Stock_On_Hand</th>\n",
       "    </tr>\n",
       "  </thead>\n",
       "  <tbody>\n",
       "    <tr>\n",
       "      <th>0</th>\n",
       "      <td>W.CAPE-BERGRIVER ETC</td>\n",
       "      <td>EC120</td>\n",
       "      <td>1M</td>\n",
       "      <td>12.0</td>\n",
       "      <td>APPLE GOLDEN DELICIOUS</td>\n",
       "      <td>09/07/2020</td>\n",
       "      <td>128.0</td>\n",
       "      <td>136.0</td>\n",
       "      <td>5008.0</td>\n",
       "      <td>38</td>\n",
       "      <td>456.0</td>\n",
       "      <td>0</td>\n",
       "    </tr>\n",
       "    <tr>\n",
       "      <th>1</th>\n",
       "      <td>W.CAPE-BERGRIVER ETC</td>\n",
       "      <td>M4183</td>\n",
       "      <td>1X</td>\n",
       "      <td>18.3</td>\n",
       "      <td>APPLE GOLDEN DELICIOUS</td>\n",
       "      <td>20/01/2020</td>\n",
       "      <td>220.0</td>\n",
       "      <td>220.0</td>\n",
       "      <td>1760.0</td>\n",
       "      <td>8</td>\n",
       "      <td>146.4</td>\n",
       "      <td>2</td>\n",
       "    </tr>\n",
       "  </tbody>\n",
       "</table>\n",
       "</div>"
      ],
      "text/plain": [
       "               Province Container Size_Grade  Weight_Kg  \\\n",
       "0  W.CAPE-BERGRIVER ETC     EC120         1M       12.0   \n",
       "1  W.CAPE-BERGRIVER ETC     M4183         1X       18.3   \n",
       "\n",
       "              Commodities        Date  Low_Price  High_Price  Sales_Total  \\\n",
       "0  APPLE GOLDEN DELICIOUS  09/07/2020      128.0       136.0       5008.0   \n",
       "1  APPLE GOLDEN DELICIOUS  20/01/2020      220.0       220.0       1760.0   \n",
       "\n",
       "   Total_Qty_Sold  Total_Kg_Sold  Stock_On_Hand  \n",
       "0              38          456.0              0  \n",
       "1               8          146.4              2  "
      ]
     },
     "execution_count": 10,
     "metadata": {},
     "output_type": "execute_result"
    }
   ],
   "source": [
    "df_test.head(2)"
   ]
  },
  {
   "cell_type": "code",
   "execution_count": 11,
   "metadata": {},
   "outputs": [
    {
     "data": {
      "text/plain": [
       "Index(['Province', 'Container', 'Size_Grade', 'Weight_Kg', 'Commodities',\n",
       "       'Date', 'Low_Price', 'High_Price', 'Sales_Total', 'Total_Qty_Sold',\n",
       "       'Total_Kg_Sold', 'Stock_On_Hand'],\n",
       "      dtype='object')"
      ]
     },
     "execution_count": 11,
     "metadata": {},
     "output_type": "execute_result"
    }
   ],
   "source": [
    "df_test.columns"
   ]
  },
  {
   "cell_type": "code",
   "execution_count": 12,
   "metadata": {},
   "outputs": [
    {
     "name": "stdout",
     "output_type": "stream",
     "text": [
      "<class 'pandas.core.frame.DataFrame'>\n",
      "RangeIndex: 685 entries, 0 to 684\n",
      "Data columns (total 12 columns):\n",
      " #   Column          Non-Null Count  Dtype  \n",
      "---  ------          --------------  -----  \n",
      " 0   Province        685 non-null    object \n",
      " 1   Container       685 non-null    object \n",
      " 2   Size_Grade      685 non-null    object \n",
      " 3   Weight_Kg       685 non-null    float64\n",
      " 4   Commodities     685 non-null    object \n",
      " 5   Date            685 non-null    object \n",
      " 6   Low_Price       685 non-null    float64\n",
      " 7   High_Price      685 non-null    float64\n",
      " 8   Sales_Total     685 non-null    float64\n",
      " 9   Total_Qty_Sold  685 non-null    int64  \n",
      " 10  Total_Kg_Sold   685 non-null    float64\n",
      " 11  Stock_On_Hand   685 non-null    int64  \n",
      "dtypes: float64(5), int64(2), object(5)\n",
      "memory usage: 64.3+ KB\n"
     ]
    }
   ],
   "source": [
    "df_test.info()"
   ]
  },
  {
   "cell_type": "code",
   "execution_count": 13,
   "metadata": {},
   "outputs": [
    {
     "data": {
      "text/html": [
       "<div>\n",
       "<style scoped>\n",
       "    .dataframe tbody tr th:only-of-type {\n",
       "        vertical-align: middle;\n",
       "    }\n",
       "\n",
       "    .dataframe tbody tr th {\n",
       "        vertical-align: top;\n",
       "    }\n",
       "\n",
       "    .dataframe thead th {\n",
       "        text-align: right;\n",
       "    }\n",
       "</style>\n",
       "<table border=\"1\" class=\"dataframe\">\n",
       "  <thead>\n",
       "    <tr style=\"text-align: right;\">\n",
       "      <th></th>\n",
       "      <th>Weight_Kg</th>\n",
       "      <th>Low_Price</th>\n",
       "      <th>High_Price</th>\n",
       "      <th>Sales_Total</th>\n",
       "      <th>Total_Qty_Sold</th>\n",
       "      <th>Total_Kg_Sold</th>\n",
       "      <th>Stock_On_Hand</th>\n",
       "    </tr>\n",
       "  </thead>\n",
       "  <tbody>\n",
       "    <tr>\n",
       "      <th>count</th>\n",
       "      <td>685.000000</td>\n",
       "      <td>685.000000</td>\n",
       "      <td>685.000000</td>\n",
       "      <td>685.000000</td>\n",
       "      <td>685.000000</td>\n",
       "      <td>685.000000</td>\n",
       "      <td>685.000000</td>\n",
       "    </tr>\n",
       "    <tr>\n",
       "      <th>mean</th>\n",
       "      <td>34.142482</td>\n",
       "      <td>164.202891</td>\n",
       "      <td>195.590073</td>\n",
       "      <td>18788.111212</td>\n",
       "      <td>174.883212</td>\n",
       "      <td>2725.402336</td>\n",
       "      <td>439.245255</td>\n",
       "    </tr>\n",
       "    <tr>\n",
       "      <th>std</th>\n",
       "      <td>87.575995</td>\n",
       "      <td>355.167319</td>\n",
       "      <td>389.109476</td>\n",
       "      <td>33951.586813</td>\n",
       "      <td>299.351142</td>\n",
       "      <td>5059.123311</td>\n",
       "      <td>715.985761</td>\n",
       "    </tr>\n",
       "    <tr>\n",
       "      <th>min</th>\n",
       "      <td>3.000000</td>\n",
       "      <td>10.000000</td>\n",
       "      <td>10.000000</td>\n",
       "      <td>10.000000</td>\n",
       "      <td>1.000000</td>\n",
       "      <td>6.300000</td>\n",
       "      <td>0.000000</td>\n",
       "    </tr>\n",
       "    <tr>\n",
       "      <th>25%</th>\n",
       "      <td>9.000000</td>\n",
       "      <td>50.000000</td>\n",
       "      <td>64.000000</td>\n",
       "      <td>1300.000000</td>\n",
       "      <td>13.000000</td>\n",
       "      <td>204.000000</td>\n",
       "      <td>20.000000</td>\n",
       "    </tr>\n",
       "    <tr>\n",
       "      <th>50%</th>\n",
       "      <td>12.000000</td>\n",
       "      <td>80.000000</td>\n",
       "      <td>112.000000</td>\n",
       "      <td>5520.000000</td>\n",
       "      <td>62.000000</td>\n",
       "      <td>860.100000</td>\n",
       "      <td>153.000000</td>\n",
       "    </tr>\n",
       "    <tr>\n",
       "      <th>75%</th>\n",
       "      <td>18.300000</td>\n",
       "      <td>128.000000</td>\n",
       "      <td>160.000000</td>\n",
       "      <td>21176.000000</td>\n",
       "      <td>200.000000</td>\n",
       "      <td>3033.000000</td>\n",
       "      <td>516.000000</td>\n",
       "    </tr>\n",
       "    <tr>\n",
       "      <th>max</th>\n",
       "      <td>400.000000</td>\n",
       "      <td>2400.000000</td>\n",
       "      <td>2400.000000</td>\n",
       "      <td>308010.000000</td>\n",
       "      <td>2774.000000</td>\n",
       "      <td>47200.000000</td>\n",
       "      <td>6827.000000</td>\n",
       "    </tr>\n",
       "  </tbody>\n",
       "</table>\n",
       "</div>"
      ],
      "text/plain": [
       "        Weight_Kg    Low_Price   High_Price    Sales_Total  Total_Qty_Sold  \\\n",
       "count  685.000000   685.000000   685.000000     685.000000      685.000000   \n",
       "mean    34.142482   164.202891   195.590073   18788.111212      174.883212   \n",
       "std     87.575995   355.167319   389.109476   33951.586813      299.351142   \n",
       "min      3.000000    10.000000    10.000000      10.000000        1.000000   \n",
       "25%      9.000000    50.000000    64.000000    1300.000000       13.000000   \n",
       "50%     12.000000    80.000000   112.000000    5520.000000       62.000000   \n",
       "75%     18.300000   128.000000   160.000000   21176.000000      200.000000   \n",
       "max    400.000000  2400.000000  2400.000000  308010.000000     2774.000000   \n",
       "\n",
       "       Total_Kg_Sold  Stock_On_Hand  \n",
       "count     685.000000     685.000000  \n",
       "mean     2725.402336     439.245255  \n",
       "std      5059.123311     715.985761  \n",
       "min         6.300000       0.000000  \n",
       "25%       204.000000      20.000000  \n",
       "50%       860.100000     153.000000  \n",
       "75%      3033.000000     516.000000  \n",
       "max     47200.000000    6827.000000  "
      ]
     },
     "execution_count": 13,
     "metadata": {},
     "output_type": "execute_result"
    }
   ],
   "source": [
    "df_test.describe()"
   ]
  },
  {
   "cell_type": "markdown",
   "metadata": {},
   "source": [
    "Now we'll go ahead and remove all the rows with infinity values"
   ]
  },
  {
   "cell_type": "code",
   "execution_count": 14,
   "metadata": {},
   "outputs": [],
   "source": [
    "# Seasons Generating Function\n",
    "def season(x, date_format):\n",
    "    date_str = [str(i) for i in x]\n",
    "    months = [datetime.strptime(i, date_format).month for i in date_str]\n",
    "    \n",
    "    dict_ = {1: 'January',\n",
    "             2: 'February',\n",
    "             3: 'March',\n",
    "             4: 'April',\n",
    "             5: 'May',\n",
    "             6: 'June',\n",
    "             7: 'July',\n",
    "             8: 'August',\n",
    "             9: 'September',\n",
    "             10: 'October',\n",
    "             11: 'November',\n",
    "             12: 'December'}\n",
    "    \n",
    "    seasons = [dict_[month] for month in months] \n",
    "    \n",
    "    return seasons"
   ]
  },
  {
   "cell_type": "code",
   "execution_count": 15,
   "metadata": {},
   "outputs": [],
   "source": [
    "#df_test['Season'] = pd.DataFrame(season(df_test.Date, '%d/%m/%Y'))\n",
    "#df_test.head(2)"
   ]
  },
  {
   "cell_type": "markdown",
   "metadata": {},
   "source": [
    "Since we don't need the date column anymore, we can drop it"
   ]
  },
  {
   "cell_type": "code",
   "execution_count": 16,
   "metadata": {},
   "outputs": [],
   "source": [
    "df_test = df_test.drop(columns = ['Date'])"
   ]
  },
  {
   "cell_type": "code",
   "execution_count": 17,
   "metadata": {},
   "outputs": [],
   "source": [
    "#df_train['Season'] = pd.DataFrame(season(df_train.Date, '%Y-%m-%d'))\n",
    "#df_train.head(2)"
   ]
  },
  {
   "cell_type": "markdown",
   "metadata": {},
   "source": [
    "Let's drop the date column"
   ]
  },
  {
   "cell_type": "code",
   "execution_count": 18,
   "metadata": {},
   "outputs": [],
   "source": [
    "df_train = df_train.drop(columns = ['Date'])"
   ]
  },
  {
   "cell_type": "code",
   "execution_count": 19,
   "metadata": {},
   "outputs": [
    {
     "data": {
      "text/plain": [
       "array(['APPLE GOLDEN DELICIOUS'], dtype=object)"
      ]
     },
     "execution_count": 19,
     "metadata": {},
     "output_type": "execute_result"
    }
   ],
   "source": [
    "a = df_train.Commodities.unique()\n",
    "a"
   ]
  },
  {
   "cell_type": "code",
   "execution_count": 20,
   "metadata": {},
   "outputs": [
    {
     "data": {
      "text/plain": [
       "array(['APPLE GOLDEN DELICIOUS'], dtype=object)"
      ]
     },
     "execution_count": 20,
     "metadata": {},
     "output_type": "execute_result"
    }
   ],
   "source": [
    "df_test.Commodities.unique()"
   ]
  },
  {
   "cell_type": "markdown",
   "metadata": {},
   "source": [
    "We'll change the values of `Commodities` variable to `APPLE GOLDEN DELICIOUS`"
   ]
  },
  {
   "cell_type": "markdown",
   "metadata": {},
   "source": [
    "Since all the data now contain `one` commodity, we might as well delete the variable `Commodities`"
   ]
  },
  {
   "cell_type": "code",
   "execution_count": 21,
   "metadata": {},
   "outputs": [],
   "source": [
    "df_train = df_train.drop(columns = ['Commodities'])"
   ]
  },
  {
   "cell_type": "code",
   "execution_count": 22,
   "metadata": {},
   "outputs": [
    {
     "data": {
      "text/plain": [
       "array(['M4183', 'JG110', 'JE090', 'IA400', 'EC120', 'AC030', 'M6125',\n",
       "       'EF120', 'DT063', 'M9125', 'EG140'], dtype=object)"
      ]
     },
     "execution_count": 22,
     "metadata": {},
     "output_type": "execute_result"
    }
   ],
   "source": [
    "b = df_train.Container.unique()\n",
    "b"
   ]
  },
  {
   "cell_type": "code",
   "execution_count": 23,
   "metadata": {},
   "outputs": [
    {
     "data": {
      "text/plain": [
       "array(['EC120', 'M4183', 'IA400', 'JG110', 'JE090', 'M6125', 'EF120',\n",
       "       'AC030', 'DT063', 'M9125', 'EG140'], dtype=object)"
      ]
     },
     "execution_count": 23,
     "metadata": {},
     "output_type": "execute_result"
    }
   ],
   "source": [
    "x = df_test.Container.unique()\n",
    "x"
   ]
  },
  {
   "cell_type": "code",
   "execution_count": 24,
   "metadata": {},
   "outputs": [
    {
     "data": {
      "text/plain": [
       "True"
      ]
     },
     "execution_count": 24,
     "metadata": {},
     "output_type": "execute_result"
    }
   ],
   "source": [
    "x = set(x)\n",
    "y = set(b)\n",
    "x.issubset(y)"
   ]
  },
  {
   "cell_type": "code",
   "execution_count": 25,
   "metadata": {},
   "outputs": [
    {
     "data": {
      "text/plain": [
       "array(['CAPE', 'W.CAPE-BERGRIVER ETC', 'EASTERN CAPE', 'NATAL',\n",
       "       'WEST COAST', 'TRANSVAAL', 'ORANGE FREE STATE'], dtype=object)"
      ]
     },
     "execution_count": 25,
     "metadata": {},
     "output_type": "execute_result"
    }
   ],
   "source": [
    "c = df_train.Province.unique()\n",
    "c"
   ]
  },
  {
   "cell_type": "code",
   "execution_count": 26,
   "metadata": {},
   "outputs": [
    {
     "data": {
      "text/plain": [
       "array(['W.CAPE-BERGRIVER ETC', 'CAPE', 'NATAL', 'EASTERN CAPE',\n",
       "       'ORANGE FREE STATE', 'WEST COAST', 'TRANSVAAL'], dtype=object)"
      ]
     },
     "execution_count": 26,
     "metadata": {},
     "output_type": "execute_result"
    }
   ],
   "source": [
    "df_test.Province.unique()"
   ]
  },
  {
   "cell_type": "code",
   "execution_count": 27,
   "metadata": {},
   "outputs": [
    {
     "data": {
      "text/plain": [
       "array(['1L', '2M', '2S', '1S', '1M', '1X', '2L', '2U', '2X', '1U'],\n",
       "      dtype=object)"
      ]
     },
     "execution_count": 27,
     "metadata": {},
     "output_type": "execute_result"
    }
   ],
   "source": [
    "d = df_train.Size_Grade.unique()\n",
    "d"
   ]
  },
  {
   "cell_type": "code",
   "execution_count": 28,
   "metadata": {},
   "outputs": [
    {
     "data": {
      "text/plain": [
       "array(['1M', '1X', '1S', '1L', '2S', '2M', '2U', '2L', '2X', '1U'],\n",
       "      dtype=object)"
      ]
     },
     "execution_count": 28,
     "metadata": {},
     "output_type": "execute_result"
    }
   ],
   "source": [
    "df_test.Size_Grade.unique()"
   ]
  },
  {
   "cell_type": "markdown",
   "metadata": {},
   "source": [
    "## Exploratory Data Analysis"
   ]
  },
  {
   "cell_type": "markdown",
   "metadata": {},
   "source": [
    "### Univariate Analysis"
   ]
  },
  {
   "cell_type": "markdown",
   "metadata": {},
   "source": [
    "This project is all about building a model that predict the price of the `Golden Delicious Apples`, so it before we start building our model, we should try to learn more about this price. The price of the `Golden Delicious Apples` in our dataset is represented by the variable `avg_price_per_kg`. We'll go ahead and look at the summary statistics of this variable."
   ]
  },
  {
   "cell_type": "code",
   "execution_count": 29,
   "metadata": {},
   "outputs": [
    {
     "data": {
      "text/plain": [
       "count    1952.000000\n",
       "mean        6.778893\n",
       "std         2.248744\n",
       "min         0.250000\n",
       "25%         5.460000\n",
       "50%         6.670000\n",
       "75%         8.280000\n",
       "max        21.240000\n",
       "Name: avg_price_per_kg, dtype: float64"
      ]
     },
     "execution_count": 29,
     "metadata": {},
     "output_type": "execute_result"
    }
   ],
   "source": [
    "df_train.avg_price_per_kg.describe()"
   ]
  },
  {
   "cell_type": "markdown",
   "metadata": {},
   "source": [
    "Very well... It seems that our minimum price is larger than zero. Now let's look at its distribution"
   ]
  },
  {
   "cell_type": "code",
   "execution_count": 30,
   "metadata": {},
   "outputs": [
    {
     "name": "stderr",
     "output_type": "stream",
     "text": [
      "C:\\DSToolkit\\lib\\site-packages\\seaborn\\distributions.py:2551: FutureWarning: `distplot` is a deprecated function and will be removed in a future version. Please adapt your code to use either `displot` (a figure-level function with similar flexibility) or `histplot` (an axes-level function for histograms).\n",
      "  warnings.warn(msg, FutureWarning)\n"
     ]
    },
    {
     "data": {
      "text/plain": [
       "<AxesSubplot:xlabel='avg_price_per_kg', ylabel='Density'>"
      ]
     },
     "execution_count": 30,
     "metadata": {},
     "output_type": "execute_result"
    },
    {
     "data": {
      "image/png": "[encoded data removed]",
      "text/plain": [
       "<Figure size 432x288 with 1 Axes>"
      ]
     },
     "metadata": {
      "needs_background": "light"
     },
     "output_type": "display_data"
    }
   ],
   "source": [
    "#histogram\n",
    "sns.distplot(df_train['avg_price_per_kg'])"
   ]
  },
  {
   "cell_type": "markdown",
   "metadata": {},
   "source": [
    "Excellent!, we can see that `avg_price_per_kg` is normally distributed. However, it looks like we have few prices that are in the range of `15` to `20`, these are values are probably `outliers`. Let's go ahead and find out if this are indeed outliers."
   ]
  },
  {
   "cell_type": "code",
   "execution_count": 31,
   "metadata": {},
   "outputs": [
    {
     "data": {
      "image/png": "[encoded data removed]",
      "text/plain": [
       "<Figure size 432x288 with 1 Axes>"
      ]
     },
     "metadata": {
      "needs_background": "light"
     },
     "output_type": "display_data"
    }
   ],
   "source": [
    "sns.boxplot(x='avg_price_per_kg', data=df_train);"
   ]
  },
  {
   "cell_type": "code",
   "execution_count": 32,
   "metadata": {},
   "outputs": [
    {
     "name": "stdout",
     "output_type": "stream",
     "text": [
      "Skewness: 0.082452\n",
      "Kurtosis: 1.042921\n"
     ]
    }
   ],
   "source": [
    "#skewness and kurtosis\n",
    "print(\"Skewness: %f\" % df_train['avg_price_per_kg'].skew())\n",
    "print(\"Kurtosis: %f\" % df_train['avg_price_per_kg'].kurt())"
   ]
  },
  {
   "cell_type": "markdown",
   "metadata": {},
   "source": [
    "Great!, we can see from the above analysis that `avg_price_per_kg` is `Fairly Symmetrical`. A `Kurtosis of less than 3 represent lack of outliers`. However, we might want to do something about `avg_price_per_kg` with a value greater than 20. They're definately `outliers`."
   ]
  },
  {
   "cell_type": "code",
   "execution_count": 33,
   "metadata": {},
   "outputs": [
    {
     "data": {
      "image/png": "[encoded data removed]",
      "text/plain": [
       "<Figure size 1296x720 with 8 Axes>"
      ]
     },
     "metadata": {
      "needs_background": "light"
     },
     "output_type": "display_data"
    }
   ],
   "source": [
    "fig, axes = plt.subplots(2, 4, figsize = (18, 10))\n",
    "sns.boxplot(ax=axes[0,0], data = df_train, x = 'Weight_Kg')\n",
    "sns.boxplot(ax=axes[0,1], data = df_train, x = 'Low_Price')\n",
    "sns.boxplot(ax=axes[0,2], data = df_train, x = 'High_Price')\n",
    "sns.boxplot(ax=axes[0,3], data = df_train, x = 'Sales_Total')\n",
    "sns.boxplot(ax=axes[1,0], data = df_train, x = 'Total_Qty_Sold')\n",
    "sns.boxplot(ax=axes[1,1], data = df_train, x = 'Total_Kg_Sold')\n",
    "sns.boxplot(ax=axes[1,2], data = df_train, x = 'Stock_On_Hand')\n",
    "sns.boxplot(ax=axes[1,3], data = df_train, x = 'avg_price_per_kg')\n",
    "plt.show()"
   ]
  },
  {
   "cell_type": "markdown",
   "metadata": {},
   "source": [
    "### Multivariate Analysis"
   ]
  },
  {
   "cell_type": "markdown",
   "metadata": {},
   "source": [
    "Alright, so what's the relationship of `avg_price_per_kg` with other variables. Let's find out\n",
    "\n",
    "#### `avg_price_per_kg` relationship with numerical variables"
   ]
  },
  {
   "cell_type": "code",
   "execution_count": 34,
   "metadata": {},
   "outputs": [
    {
     "data": {
      "text/plain": [
       "<AxesSubplot:xlabel='Total_Kg_Sold', ylabel='avg_price_per_kg'>"
      ]
     },
     "execution_count": 34,
     "metadata": {},
     "output_type": "execute_result"
    },
    {
     "data": {
      "image/png": "[encoded data removed]",
      "text/plain": [
       "<Figure size 432x288 with 1 Axes>"
      ]
     },
     "metadata": {},
     "output_type": "display_data"
    }
   ],
   "source": [
    "#scatter plot grlivarea/saleprice\n",
    "plt.style.use('ggplot')\n",
    "sns.scatterplot(data = df_train, x=\"Total_Kg_Sold\", y=\"avg_price_per_kg\")"
   ]
  },
  {
   "cell_type": "code",
   "execution_count": 35,
   "metadata": {},
   "outputs": [
    {
     "data": {
      "text/plain": [
       "<AxesSubplot:xlabel='Sales_Total', ylabel='avg_price_per_kg'>"
      ]
     },
     "execution_count": 35,
     "metadata": {},
     "output_type": "execute_result"
    },
    {
     "data": {
      "image/png": "[encoded data removed]",
      "text/plain": [
       "<Figure size 432x288 with 1 Axes>"
      ]
     },
     "metadata": {},
     "output_type": "display_data"
    }
   ],
   "source": [
    "#scatter plot grlivarea/saleprice\n",
    "sns.scatterplot(data = df_train, x=\"Sales_Total\", y=\"avg_price_per_kg\")"
   ]
  },
  {
   "cell_type": "code",
   "execution_count": 36,
   "metadata": {},
   "outputs": [],
   "source": [
    "#Stock_On_Hand"
   ]
  },
  {
   "cell_type": "code",
   "execution_count": 37,
   "metadata": {},
   "outputs": [
    {
     "data": {
      "text/html": [
       "<div>\n",
       "<style scoped>\n",
       "    .dataframe tbody tr th:only-of-type {\n",
       "        vertical-align: middle;\n",
       "    }\n",
       "\n",
       "    .dataframe tbody tr th {\n",
       "        vertical-align: top;\n",
       "    }\n",
       "\n",
       "    .dataframe thead th {\n",
       "        text-align: right;\n",
       "    }\n",
       "</style>\n",
       "<table border=\"1\" class=\"dataframe\">\n",
       "  <thead>\n",
       "    <tr style=\"text-align: right;\">\n",
       "      <th></th>\n",
       "      <th>Weight_Kg</th>\n",
       "      <th>Low_Price</th>\n",
       "      <th>High_Price</th>\n",
       "      <th>Sales_Total</th>\n",
       "      <th>Total_Qty_Sold</th>\n",
       "      <th>Total_Kg_Sold</th>\n",
       "      <th>Stock_On_Hand</th>\n",
       "      <th>avg_price_per_kg</th>\n",
       "    </tr>\n",
       "  </thead>\n",
       "  <tbody>\n",
       "    <tr>\n",
       "      <th>Weight_Kg</th>\n",
       "      <td>1.000000</td>\n",
       "      <td>0.863182</td>\n",
       "      <td>0.905852</td>\n",
       "      <td>0.180518</td>\n",
       "      <td>-0.133317</td>\n",
       "      <td>0.294117</td>\n",
       "      <td>-0.144105</td>\n",
       "      <td>-0.337886</td>\n",
       "    </tr>\n",
       "    <tr>\n",
       "      <th>Low_Price</th>\n",
       "      <td>0.863182</td>\n",
       "      <td>1.000000</td>\n",
       "      <td>0.938140</td>\n",
       "      <td>0.183230</td>\n",
       "      <td>-0.122823</td>\n",
       "      <td>0.269744</td>\n",
       "      <td>-0.127677</td>\n",
       "      <td>-0.141740</td>\n",
       "    </tr>\n",
       "    <tr>\n",
       "      <th>High_Price</th>\n",
       "      <td>0.905852</td>\n",
       "      <td>0.938140</td>\n",
       "      <td>1.000000</td>\n",
       "      <td>0.265672</td>\n",
       "      <td>-0.096456</td>\n",
       "      <td>0.372282</td>\n",
       "      <td>-0.094174</td>\n",
       "      <td>-0.164496</td>\n",
       "    </tr>\n",
       "    <tr>\n",
       "      <th>Sales_Total</th>\n",
       "      <td>0.180518</td>\n",
       "      <td>0.183230</td>\n",
       "      <td>0.265672</td>\n",
       "      <td>1.000000</td>\n",
       "      <td>0.771865</td>\n",
       "      <td>0.962338</td>\n",
       "      <td>0.284693</td>\n",
       "      <td>0.108473</td>\n",
       "    </tr>\n",
       "    <tr>\n",
       "      <th>Total_Qty_Sold</th>\n",
       "      <td>-0.133317</td>\n",
       "      <td>-0.122823</td>\n",
       "      <td>-0.096456</td>\n",
       "      <td>0.771865</td>\n",
       "      <td>1.000000</td>\n",
       "      <td>0.651440</td>\n",
       "      <td>0.390168</td>\n",
       "      <td>0.087536</td>\n",
       "    </tr>\n",
       "    <tr>\n",
       "      <th>Total_Kg_Sold</th>\n",
       "      <td>0.294117</td>\n",
       "      <td>0.269744</td>\n",
       "      <td>0.372282</td>\n",
       "      <td>0.962338</td>\n",
       "      <td>0.651440</td>\n",
       "      <td>1.000000</td>\n",
       "      <td>0.229062</td>\n",
       "      <td>-0.001007</td>\n",
       "    </tr>\n",
       "    <tr>\n",
       "      <th>Stock_On_Hand</th>\n",
       "      <td>-0.144105</td>\n",
       "      <td>-0.127677</td>\n",
       "      <td>-0.094174</td>\n",
       "      <td>0.284693</td>\n",
       "      <td>0.390168</td>\n",
       "      <td>0.229062</td>\n",
       "      <td>1.000000</td>\n",
       "      <td>0.105028</td>\n",
       "    </tr>\n",
       "    <tr>\n",
       "      <th>avg_price_per_kg</th>\n",
       "      <td>-0.337886</td>\n",
       "      <td>-0.141740</td>\n",
       "      <td>-0.164496</td>\n",
       "      <td>0.108473</td>\n",
       "      <td>0.087536</td>\n",
       "      <td>-0.001007</td>\n",
       "      <td>0.105028</td>\n",
       "      <td>1.000000</td>\n",
       "    </tr>\n",
       "  </tbody>\n",
       "</table>\n",
       "</div>"
      ],
      "text/plain": [
       "                  Weight_Kg  Low_Price  High_Price  Sales_Total  \\\n",
       "Weight_Kg          1.000000   0.863182    0.905852     0.180518   \n",
       "Low_Price          0.863182   1.000000    0.938140     0.183230   \n",
       "High_Price         0.905852   0.938140    1.000000     0.265672   \n",
       "Sales_Total        0.180518   0.183230    0.265672     1.000000   \n",
       "Total_Qty_Sold    -0.133317  -0.122823   -0.096456     0.771865   \n",
       "Total_Kg_Sold      0.294117   0.269744    0.372282     0.962338   \n",
       "Stock_On_Hand     -0.144105  -0.127677   -0.094174     0.284693   \n",
       "avg_price_per_kg  -0.337886  -0.141740   -0.164496     0.108473   \n",
       "\n",
       "                  Total_Qty_Sold  Total_Kg_Sold  Stock_On_Hand  \\\n",
       "Weight_Kg              -0.133317       0.294117      -0.144105   \n",
       "Low_Price              -0.122823       0.269744      -0.127677   \n",
       "High_Price             -0.096456       0.372282      -0.094174   \n",
       "Sales_Total             0.771865       0.962338       0.284693   \n",
       "Total_Qty_Sold          1.000000       0.651440       0.390168   \n",
       "Total_Kg_Sold           0.651440       1.000000       0.229062   \n",
       "Stock_On_Hand           0.390168       0.229062       1.000000   \n",
       "avg_price_per_kg        0.087536      -0.001007       0.105028   \n",
       "\n",
       "                  avg_price_per_kg  \n",
       "Weight_Kg                -0.337886  \n",
       "Low_Price                -0.141740  \n",
       "High_Price               -0.164496  \n",
       "Sales_Total               0.108473  \n",
       "Total_Qty_Sold            0.087536  \n",
       "Total_Kg_Sold            -0.001007  \n",
       "Stock_On_Hand             0.105028  \n",
       "avg_price_per_kg          1.000000  "
      ]
     },
     "execution_count": 37,
     "metadata": {},
     "output_type": "execute_result"
    }
   ],
   "source": [
    "df_train.corr()"
   ]
  },
  {
   "cell_type": "code",
   "execution_count": 38,
   "metadata": {},
   "outputs": [
    {
     "data": {
      "text/plain": [
       "<AxesSubplot:>"
      ]
     },
     "execution_count": 38,
     "metadata": {},
     "output_type": "execute_result"
    },
    {
     "data": {
      "image/png": "[encoded data removed]",
      "text/plain": [
       "<Figure size 432x288 with 2 Axes>"
      ]
     },
     "metadata": {},
     "output_type": "display_data"
    }
   ],
   "source": [
    "sns.heatmap(df_train.corr(), vmin = -1, vmax = 1, annot = True)"
   ]
  },
  {
   "cell_type": "markdown",
   "metadata": {},
   "source": [
    "## Feature Engineering and Selection"
   ]
  },
  {
   "cell_type": "markdown",
   "metadata": {},
   "source": [
    "### Dummy Variables"
   ]
  },
  {
   "cell_type": "code",
   "execution_count": 39,
   "metadata": {},
   "outputs": [],
   "source": [
    "df_train_ = pd.get_dummies(df_train, drop_first=True)\n",
    "df_train_.columns = [col.replace(\" \",\"_\") for col in df_train_.columns]\n",
    "df_train_.columns = [col.replace(\"-\",\"_\") for col in df_train_.columns]\n",
    "df_train_.columns = [col.replace(\"(\",\"_\") for col in df_train_.columns]\n",
    "df_train_.columns = [col.replace(\")\",\"_\") for col in df_train_.columns]\n",
    "df_train_.columns = [col.replace(\".\",\"_\") for col in df_train_.columns]"
   ]
  },
  {
   "cell_type": "markdown",
   "metadata": {},
   "source": [
    "### Variable Selection"
   ]
  },
  {
   "cell_type": "code",
   "execution_count": 40,
   "metadata": {},
   "outputs": [],
   "source": [
    "# import SelectKBest\n",
    "#from sklearn.feature_selection import SelectKBest\n",
    "\n",
    "#Let us now try to fit a model but we have to import neccessary tools to do that\n",
    "#from sklearn.tree import DecisionTreeRegressor\n",
    "\n",
    "# create a SelectKBest object\n",
    "#skb = SelectKBest(score_func=mutual_info_regression, k = 10)\n",
    "# fit the object to the training data\n",
    "#X_data_new = skb.fit_transform(X_standardise, y)\n",
    "\n",
    "# print the selected features\n",
    "#for feature_list_index in skb.get_support(indices = True):\n",
    "#    print(feature_names[feature_list_index])666\n",
    "\n",
    "# print the final prediction score\n",
    "#print(efs.best_score_)"
   ]
  },
  {
   "cell_type": "markdown",
   "metadata": {},
   "source": [
    "## Variable Selection by Variance Thresholds\n",
    "Variance Thresholds remove features whose values don't change much from observation to observation. The objective here is to remove all features that have a variance lower than the selected threshold.\n",
    "\n",
    "For example, suppose that in our loans dataset 97% of observations were for 40-year-old women, then the Age and Gender features can be removed without a great loss in information.\n",
    "\n",
    "It is important to note that variance is dependent on scale, so the features will have to be normalized before implementing variance thresholding."
   ]
  },
  {
   "cell_type": "code",
   "execution_count": null,
   "metadata": {},
   "outputs": [],
   "source": []
  },
  {
   "cell_type": "markdown",
   "metadata": {},
   "source": [
    "df_train_ = df_train_.drop(columns = ['Low_Price', 'Total_Kg_Sold', 'High_Price'])\n",
    "df_train_.head()"
   ]
  },
  {
   "cell_type": "code",
   "execution_count": 41,
   "metadata": {},
   "outputs": [
    {
     "data": {
      "text/plain": [
       "avg_price_per_kg                 1.000000\n",
       "Container_M4183                  0.403229\n",
       "Province_NATAL                   0.379801\n",
       "Container_IA400                  0.355565\n",
       "Size_Grade_2S                    0.352996\n",
       "Weight_Kg                        0.337886\n",
       "Container_JE090                  0.322235\n",
       "Province_W_CAPE_BERGRIVER_ETC    0.262051\n",
       "Size_Grade_1X                    0.251451\n",
       "Container_EC120                  0.188162\n",
       "Province_EASTERN_CAPE            0.178531\n",
       "Size_Grade_1M                    0.175779\n",
       "High_Price                       0.164496\n",
       "Size_Grade_2M                    0.153372\n",
       "Low_Price                        0.141740\n",
       "Container_JG110                  0.140148\n",
       "Container_EF120                  0.114297\n",
       "Sales_Total                      0.108473\n",
       "Stock_On_Hand                    0.105028\n",
       "Size_Grade_2L                    0.089733\n",
       "Total_Qty_Sold                   0.087536\n",
       "Size_Grade_2U                    0.069457\n",
       "Container_DT063                  0.059579\n",
       "Size_Grade_2X                    0.051624\n",
       "Size_Grade_1S                    0.028506\n",
       "Size_Grade_1U                    0.027335\n",
       "Province_WEST_COAST              0.025122\n",
       "Province_ORANGE_FREE_STATE       0.025026\n",
       "Container_EG140                  0.023753\n",
       "Province_TRANSVAAL               0.020415\n",
       "Container_M6125                  0.007568\n",
       "Container_M9125                  0.002812\n",
       "Total_Kg_Sold                    0.001007\n",
       "Name: avg_price_per_kg, dtype: float64"
      ]
     },
     "execution_count": 41,
     "metadata": {},
     "output_type": "execute_result"
    }
   ],
   "source": [
    "df_train_.corr()['avg_price_per_kg'].abs().sort_values(ascending=False)"
   ]
  },
  {
   "cell_type": "code",
   "execution_count": 42,
   "metadata": {},
   "outputs": [
    {
     "data": {
      "text/plain": [
       "(1952, 33)"
      ]
     },
     "execution_count": 42,
     "metadata": {},
     "output_type": "execute_result"
    }
   ],
   "source": [
    "df_train_.shape"
   ]
  },
  {
   "cell_type": "code",
   "execution_count": 43,
   "metadata": {},
   "outputs": [
    {
     "data": {
      "text/plain": [
       "<Figure size 3096x3096 with 0 Axes>"
      ]
     },
     "execution_count": 43,
     "metadata": {},
     "output_type": "execute_result"
    },
    {
     "data": {
      "text/plain": [
       "<Figure size 3096x3096 with 0 Axes>"
      ]
     },
     "metadata": {},
     "output_type": "display_data"
    }
   ],
   "source": [
    "plt.figure(figsize = (43,43))\n",
    "#sns.heatmap(df_train_.corr(), vmin = -1, vmax = 1, annot = True)"
   ]
  },
  {
   "cell_type": "markdown",
   "metadata": {},
   "source": [
    "#df_train_ = df_train_.drop(columns = ['Container_IA400', 'High_Price', 'Low_Price', 'Total_Kg_Sold'])\n",
    "df_train_ = df_train_[['avg_price_per_kg',\n",
    "'Container_M4183',\n",
    "'Province_NATAL',\n",
    "'Container_IA400',\n",
    "'Size_Grade_2S',\n",
    "'Container_JE090',\n",
    "'Province_W_CAPE_BERGRIVER_ETC',\n",
    "'Size_Grade_1X',\n",
    "'Container_EC120',\n",
    "'Province_EASTERN_CAPE',\n",
    "'Size_Grade_1M',\n",
    "'High_Price',\n",
    "'Size_Grade_2M',\n",
    "'Container_JG110',\n",
    "'Container_EF120',\n",
    "'Stock_On_Hand']]"
   ]
  },
  {
   "cell_type": "code",
   "execution_count": 44,
   "metadata": {},
   "outputs": [],
   "source": [
    "column_names = [col for col in df_train_.columns if col!= 'avg_price_per_kg'] + ['avg_price_per_kg']\n",
    "df_train_ = df_train_.reindex(columns=column_names)"
   ]
  },
  {
   "cell_type": "markdown",
   "metadata": {},
   "source": [
    "### Checking for Multicollinearity\n",
    "\n",
    "Multicollinearity refers to the presence of strong correlation among two or more of the predictor variables in the dataset. The presence of any correlation among predictors is detrimental to model quality for two reasons:"
   ]
  },
  {
   "cell_type": "markdown",
   "metadata": {},
   "source": [
    "## Fitting the model using `statsmodels.OLS`\n",
    "\n",
    "As was previously motivated within the train, `sklearn` is limited in terms of metrics and tools available to evaluate the appropriateness of the regression models we fit. Thus, as a means to expland our analysis, we import the `statsmodels` library which has a rich set of statistical tools to help us. "
   ]
  },
  {
   "cell_type": "code",
   "execution_count": 45,
   "metadata": {},
   "outputs": [],
   "source": [
    "import statsmodels.formula.api as sm"
   ]
  },
  {
   "cell_type": "code",
   "execution_count": 46,
   "metadata": {},
   "outputs": [
    {
     "data": {
      "text/plain": [
       "'avg_price_per_kg ~ Weight_Kg+Low_Price+High_Price+Sales_Total+Total_Qty_Sold+Total_Kg_Sold+Stock_On_Hand+Province_EASTERN_CAPE+Province_NATAL+Province_ORANGE_FREE_STATE+Province_TRANSVAAL+Province_W_CAPE_BERGRIVER_ETC+Province_WEST_COAST+Container_DT063+Container_EC120+Container_EF120+Container_EG140+Container_IA400+Container_JE090+Container_JG110+Container_M4183+Container_M6125+Container_M9125+Size_Grade_1M+Size_Grade_1S+Size_Grade_1U+Size_Grade_1X+Size_Grade_2L+Size_Grade_2M+Size_Grade_2S+Size_Grade_2U+Size_Grade_2X'"
      ]
     },
     "execution_count": 46,
     "metadata": {},
     "output_type": "execute_result"
    }
   ],
   "source": [
    "formula_str = df_train_.columns[-1]+' ~ '+'+'.join(df_train_.columns[:-1]); formula_str"
   ]
  },
  {
   "cell_type": "markdown",
   "metadata": {},
   "source": [
    "### Construct and fit the model\n",
    "We now go ahead and fit our model. We use the ols or Ordinary Least Squares regression model from the statsmodels library to do this:"
   ]
  },
  {
   "cell_type": "code",
   "execution_count": 47,
   "metadata": {},
   "outputs": [],
   "source": [
    "model=sm.ols(formula=formula_str, data=df_train_)"
   ]
  },
  {
   "cell_type": "code",
   "execution_count": 48,
   "metadata": {},
   "outputs": [],
   "source": [
    "fitted = model.fit()"
   ]
  },
  {
   "cell_type": "markdown",
   "metadata": {},
   "source": [
    "### Print model summary"
   ]
  },
  {
   "cell_type": "code",
   "execution_count": 49,
   "metadata": {},
   "outputs": [
    {
     "name": "stdout",
     "output_type": "stream",
     "text": [
      "                            OLS Regression Results                            \n",
      "==============================================================================\n",
      "Dep. Variable:       avg_price_per_kg   R-squared:                       0.611\n",
      "Model:                            OLS   Adj. R-squared:                  0.604\n",
      "Method:                 Least Squares   F-statistic:                     97.15\n",
      "Date:                Mon, 17 May 2021   Prob (F-statistic):               0.00\n",
      "Time:                        12:42:08   Log-Likelihood:                -3430.4\n",
      "No. Observations:                1952   AIC:                             6925.\n",
      "Df Residuals:                    1920   BIC:                             7103.\n",
      "Df Model:                          31                                         \n",
      "Covariance Type:            nonrobust                                         \n",
      "=================================================================================================\n",
      "                                    coef    std err          t      P>|t|      [0.025      0.975]\n",
      "-------------------------------------------------------------------------------------------------\n",
      "Intercept                         6.9574      0.318     21.871      0.000       6.334       7.581\n",
      "Weight_Kg                        -0.0109      0.001     -9.782      0.000      -0.013      -0.009\n",
      "Low_Price                         0.0004      0.000      1.564      0.118      -0.000       0.001\n",
      "High_Price                        0.0016      0.000      5.664      0.000       0.001       0.002\n",
      "Sales_Total                    6.831e-05   4.91e-06     13.916      0.000    5.87e-05    7.79e-05\n",
      "Total_Qty_Sold                   -0.0021      0.000     -9.349      0.000      -0.003      -0.002\n",
      "Total_Kg_Sold                    -0.0004   2.67e-05    -13.242      0.000      -0.000      -0.000\n",
      "Stock_On_Hand                    -0.0001    5.2e-05     -1.992      0.046      -0.000   -1.61e-06\n",
      "Province_EASTERN_CAPE            -1.4583      0.121    -12.080      0.000      -1.695      -1.221\n",
      "Province_NATAL                   -1.9973      0.169    -11.785      0.000      -2.330      -1.665\n",
      "Province_ORANGE_FREE_STATE       -1.6808      0.477     -3.523      0.000      -2.616      -0.745\n",
      "Province_TRANSVAAL               -0.6468      0.380     -1.701      0.089      -1.393       0.099\n",
      "Province_W_CAPE_BERGRIVER_ETC     0.3949      0.087      4.527      0.000       0.224       0.566\n",
      "Province_WEST_COAST              -0.3442      0.141     -2.447      0.015      -0.620      -0.068\n",
      "Container_DT063                   0.9724      0.649      1.499      0.134      -0.299       2.244\n",
      "Container_EC120                   1.6374      0.279      5.861      0.000       1.089       2.185\n",
      "Container_EF120                   1.8379      0.318      5.776      0.000       1.214       2.462\n",
      "Container_EG140                   1.7835      0.862      2.068      0.039       0.092       3.475\n",
      "Container_IA400                  -0.2738      0.061     -4.513      0.000      -0.393      -0.155\n",
      "Container_JE090                   0.8910      0.314      2.834      0.005       0.274       1.508\n",
      "Container_JG110                   0.4226      0.347      1.219      0.223      -0.257       1.102\n",
      "Container_M4183                   0.9729      0.288      3.379      0.001       0.408       1.538\n",
      "Container_M6125                   1.0640      0.532      1.999      0.046       0.020       2.108\n",
      "Container_M9125                  -0.0008      0.867     -0.001      0.999      -1.701       1.699\n",
      "Size_Grade_1M                    -0.4471      0.140     -3.190      0.001      -0.722      -0.172\n",
      "Size_Grade_1S                    -0.8415      0.143     -5.865      0.000      -1.123      -0.560\n",
      "Size_Grade_1U                    -2.9219      1.007     -2.902      0.004      -4.896      -0.947\n",
      "Size_Grade_1X                     0.3919      0.148      2.641      0.008       0.101       0.683\n",
      "Size_Grade_2L                    -1.5514      0.307     -5.056      0.000      -2.153      -0.950\n",
      "Size_Grade_2M                    -1.2365      0.289     -4.274      0.000      -1.804      -0.669\n",
      "Size_Grade_2S                    -1.9403      0.269     -7.202      0.000      -2.469      -1.412\n",
      "Size_Grade_2U                    -2.5140      0.445     -5.650      0.000      -3.387      -1.641\n",
      "Size_Grade_2X                    -1.9445      0.389     -4.994      0.000      -2.708      -1.181\n",
      "==============================================================================\n",
      "Omnibus:                      256.873   Durbin-Watson:                   1.964\n",
      "Prob(Omnibus):                  0.000   Jarque-Bera (JB):             1744.710\n",
      "Skew:                           0.409   Prob(JB):                         0.00\n",
      "Kurtosis:                       7.559   Cond. No.                     2.25e+15\n",
      "==============================================================================\n",
      "\n",
      "Notes:\n",
      "[1] Standard Errors assume that the covariance matrix of the errors is correctly specified.\n",
      "[2] The smallest eigenvalue is 7.56e-19. This might indicate that there are\n",
      "strong multicollinearity problems or that the design matrix is singular.\n"
     ]
    }
   ],
   "source": [
    "print(fitted.summary())"
   ]
  },
  {
   "cell_type": "code",
   "execution_count": 50,
   "metadata": {},
   "outputs": [],
   "source": [
    "# Calculate correlations between predictor variables and the response variable\n",
    "corrs = df_train_.corr()['avg_price_per_kg'].sort_values(ascending=False)"
   ]
  },
  {
   "cell_type": "code",
   "execution_count": 51,
   "metadata": {},
   "outputs": [
    {
     "data": {
      "text/html": [
       "<div>\n",
       "<style scoped>\n",
       "    .dataframe tbody tr th:only-of-type {\n",
       "        vertical-align: middle;\n",
       "    }\n",
       "\n",
       "    .dataframe tbody tr th {\n",
       "        vertical-align: top;\n",
       "    }\n",
       "\n",
       "    .dataframe thead th {\n",
       "        text-align: right;\n",
       "    }\n",
       "</style>\n",
       "<table border=\"1\" class=\"dataframe\">\n",
       "  <thead>\n",
       "    <tr style=\"text-align: right;\">\n",
       "      <th></th>\n",
       "      <th>Correlation_Coefficient</th>\n",
       "      <th>P_Value</th>\n",
       "    </tr>\n",
       "  </thead>\n",
       "  <tbody>\n",
       "    <tr>\n",
       "      <th>Container_M4183</th>\n",
       "      <td>0.403229</td>\n",
       "      <td>0.000000</td>\n",
       "    </tr>\n",
       "    <tr>\n",
       "      <th>Size_Grade_2S</th>\n",
       "      <td>-0.352996</td>\n",
       "      <td>0.000000</td>\n",
       "    </tr>\n",
       "    <tr>\n",
       "      <th>Weight_Kg</th>\n",
       "      <td>-0.337886</td>\n",
       "      <td>0.000000</td>\n",
       "    </tr>\n",
       "    <tr>\n",
       "      <th>Container_JE090</th>\n",
       "      <td>-0.322235</td>\n",
       "      <td>0.000000</td>\n",
       "    </tr>\n",
       "    <tr>\n",
       "      <th>Province_EASTERN_CAPE</th>\n",
       "      <td>-0.178531</td>\n",
       "      <td>0.000000</td>\n",
       "    </tr>\n",
       "    <tr>\n",
       "      <th>High_Price</th>\n",
       "      <td>-0.164496</td>\n",
       "      <td>0.000000</td>\n",
       "    </tr>\n",
       "    <tr>\n",
       "      <th>Size_Grade_2M</th>\n",
       "      <td>-0.153372</td>\n",
       "      <td>0.000000</td>\n",
       "    </tr>\n",
       "    <tr>\n",
       "      <th>Low_Price</th>\n",
       "      <td>-0.141740</td>\n",
       "      <td>0.000000</td>\n",
       "    </tr>\n",
       "    <tr>\n",
       "      <th>Container_JG110</th>\n",
       "      <td>-0.140148</td>\n",
       "      <td>0.000000</td>\n",
       "    </tr>\n",
       "    <tr>\n",
       "      <th>Container_IA400</th>\n",
       "      <td>-0.355565</td>\n",
       "      <td>0.000000</td>\n",
       "    </tr>\n",
       "    <tr>\n",
       "      <th>Province_NATAL</th>\n",
       "      <td>-0.379801</td>\n",
       "      <td>0.000000</td>\n",
       "    </tr>\n",
       "    <tr>\n",
       "      <th>Province_W_CAPE_BERGRIVER_ETC</th>\n",
       "      <td>0.262051</td>\n",
       "      <td>0.000000</td>\n",
       "    </tr>\n",
       "    <tr>\n",
       "      <th>Size_Grade_1X</th>\n",
       "      <td>0.251451</td>\n",
       "      <td>0.000000</td>\n",
       "    </tr>\n",
       "    <tr>\n",
       "      <th>Container_EC120</th>\n",
       "      <td>0.188162</td>\n",
       "      <td>0.000000</td>\n",
       "    </tr>\n",
       "    <tr>\n",
       "      <th>Size_Grade_1M</th>\n",
       "      <td>0.175779</td>\n",
       "      <td>0.000000</td>\n",
       "    </tr>\n",
       "    <tr>\n",
       "      <th>Container_EF120</th>\n",
       "      <td>0.114297</td>\n",
       "      <td>0.000000</td>\n",
       "    </tr>\n",
       "    <tr>\n",
       "      <th>Sales_Total</th>\n",
       "      <td>0.108473</td>\n",
       "      <td>0.000002</td>\n",
       "    </tr>\n",
       "    <tr>\n",
       "      <th>Stock_On_Hand</th>\n",
       "      <td>0.105028</td>\n",
       "      <td>0.000003</td>\n",
       "    </tr>\n",
       "    <tr>\n",
       "      <th>Size_Grade_2L</th>\n",
       "      <td>-0.089733</td>\n",
       "      <td>0.000072</td>\n",
       "    </tr>\n",
       "    <tr>\n",
       "      <th>Total_Qty_Sold</th>\n",
       "      <td>0.087536</td>\n",
       "      <td>0.000108</td>\n",
       "    </tr>\n",
       "    <tr>\n",
       "      <th>Size_Grade_2U</th>\n",
       "      <td>-0.069457</td>\n",
       "      <td>0.002137</td>\n",
       "    </tr>\n",
       "    <tr>\n",
       "      <th>Container_DT063</th>\n",
       "      <td>-0.059579</td>\n",
       "      <td>0.008465</td>\n",
       "    </tr>\n",
       "    <tr>\n",
       "      <th>Size_Grade_2X</th>\n",
       "      <td>-0.051624</td>\n",
       "      <td>0.022556</td>\n",
       "    </tr>\n",
       "  </tbody>\n",
       "</table>\n",
       "</div>"
      ],
      "text/plain": [
       "                               Correlation_Coefficient   P_Value\n",
       "Container_M4183                               0.403229  0.000000\n",
       "Size_Grade_2S                                -0.352996  0.000000\n",
       "Weight_Kg                                    -0.337886  0.000000\n",
       "Container_JE090                              -0.322235  0.000000\n",
       "Province_EASTERN_CAPE                        -0.178531  0.000000\n",
       "High_Price                                   -0.164496  0.000000\n",
       "Size_Grade_2M                                -0.153372  0.000000\n",
       "Low_Price                                    -0.141740  0.000000\n",
       "Container_JG110                              -0.140148  0.000000\n",
       "Container_IA400                              -0.355565  0.000000\n",
       "Province_NATAL                               -0.379801  0.000000\n",
       "Province_W_CAPE_BERGRIVER_ETC                 0.262051  0.000000\n",
       "Size_Grade_1X                                 0.251451  0.000000\n",
       "Container_EC120                               0.188162  0.000000\n",
       "Size_Grade_1M                                 0.175779  0.000000\n",
       "Container_EF120                               0.114297  0.000000\n",
       "Sales_Total                                   0.108473  0.000002\n",
       "Stock_On_Hand                                 0.105028  0.000003\n",
       "Size_Grade_2L                                -0.089733  0.000072\n",
       "Total_Qty_Sold                                0.087536  0.000108\n",
       "Size_Grade_2U                                -0.069457  0.002137\n",
       "Container_DT063                              -0.059579  0.008465\n",
       "Size_Grade_2X                                -0.051624  0.022556"
      ]
     },
     "execution_count": 51,
     "metadata": {},
     "output_type": "execute_result"
    }
   ],
   "source": [
    "from scipy.stats import pearsonr\n",
    "\n",
    "# Build a dictionary of correlation coefficients and p-values\n",
    "dict_cp = {}\n",
    "\n",
    "column_titles = [col for col in corrs.index if col!= 'avg_price_per_kg']\n",
    "for col in column_titles:\n",
    "    p_val = round(pearsonr(df_train_[col], df_train_['avg_price_per_kg'])[1],6)\n",
    "    dict_cp[col] = {'Correlation_Coefficient':corrs[col],\n",
    "                    'P_Value':p_val}\n",
    "    \n",
    "df_cp = pd.DataFrame(dict_cp).T\n",
    "df_cp_sorted = df_cp.sort_values('P_Value')\n",
    "df_cp_sorted[df_cp_sorted['P_Value']<0.05]"
   ]
  },
  {
   "cell_type": "code",
   "execution_count": 52,
   "metadata": {},
   "outputs": [],
   "source": [
    "# The dependent variable remains the same:\n",
    "y_data = df_train_['avg_price_per_kg']\n",
    "\n",
    "# Model building - Independent Variable (IV) DataFrame\n",
    "X_names = list(df_cp[df_cp['P_Value'] < 0.05].index)\n",
    "X_data = df_train_[X_names]"
   ]
  },
  {
   "cell_type": "code",
   "execution_count": 53,
   "metadata": {},
   "outputs": [
    {
     "data": {
      "text/html": [
       "<div>\n",
       "<style scoped>\n",
       "    .dataframe tbody tr th:only-of-type {\n",
       "        vertical-align: middle;\n",
       "    }\n",
       "\n",
       "    .dataframe tbody tr th {\n",
       "        vertical-align: top;\n",
       "    }\n",
       "\n",
       "    .dataframe thead th {\n",
       "        text-align: right;\n",
       "    }\n",
       "</style>\n",
       "<table border=\"1\" class=\"dataframe\">\n",
       "  <thead>\n",
       "    <tr style=\"text-align: right;\">\n",
       "      <th></th>\n",
       "      <th>High_Price</th>\n",
       "      <th>Low_Price</th>\n",
       "      <th>Weight_Kg</th>\n",
       "      <th>Container_IA400</th>\n",
       "      <th>High_Price</th>\n",
       "      <th>Container_IA400</th>\n",
       "      <th>High_Price</th>\n",
       "      <th>Weight_Kg</th>\n",
       "    </tr>\n",
       "  </thead>\n",
       "  <tbody>\n",
       "    <tr>\n",
       "      <th>Low_Price</th>\n",
       "      <td>0.938140</td>\n",
       "      <td>1.000000</td>\n",
       "      <td>0.863182</td>\n",
       "      <td>0.860219</td>\n",
       "      <td>0.938140</td>\n",
       "      <td>0.860219</td>\n",
       "      <td>0.938140</td>\n",
       "      <td>0.863182</td>\n",
       "    </tr>\n",
       "    <tr>\n",
       "      <th>High_Price</th>\n",
       "      <td>1.000000</td>\n",
       "      <td>0.938140</td>\n",
       "      <td>0.905852</td>\n",
       "      <td>0.902518</td>\n",
       "      <td>1.000000</td>\n",
       "      <td>0.902518</td>\n",
       "      <td>1.000000</td>\n",
       "      <td>0.905852</td>\n",
       "    </tr>\n",
       "    <tr>\n",
       "      <th>High_Price</th>\n",
       "      <td>1.000000</td>\n",
       "      <td>0.938140</td>\n",
       "      <td>0.905852</td>\n",
       "      <td>0.902518</td>\n",
       "      <td>1.000000</td>\n",
       "      <td>0.902518</td>\n",
       "      <td>1.000000</td>\n",
       "      <td>0.905852</td>\n",
       "    </tr>\n",
       "    <tr>\n",
       "      <th>High_Price</th>\n",
       "      <td>1.000000</td>\n",
       "      <td>0.938140</td>\n",
       "      <td>0.905852</td>\n",
       "      <td>0.902518</td>\n",
       "      <td>1.000000</td>\n",
       "      <td>0.902518</td>\n",
       "      <td>1.000000</td>\n",
       "      <td>0.905852</td>\n",
       "    </tr>\n",
       "    <tr>\n",
       "      <th>Weight_Kg</th>\n",
       "      <td>0.905852</td>\n",
       "      <td>0.863182</td>\n",
       "      <td>1.000000</td>\n",
       "      <td>0.999231</td>\n",
       "      <td>0.905852</td>\n",
       "      <td>0.999231</td>\n",
       "      <td>0.905852</td>\n",
       "      <td>1.000000</td>\n",
       "    </tr>\n",
       "    <tr>\n",
       "      <th>Weight_Kg</th>\n",
       "      <td>0.905852</td>\n",
       "      <td>0.863182</td>\n",
       "      <td>1.000000</td>\n",
       "      <td>0.999231</td>\n",
       "      <td>0.905852</td>\n",
       "      <td>0.999231</td>\n",
       "      <td>0.905852</td>\n",
       "      <td>1.000000</td>\n",
       "    </tr>\n",
       "    <tr>\n",
       "      <th>Container_IA400</th>\n",
       "      <td>0.902518</td>\n",
       "      <td>0.860219</td>\n",
       "      <td>0.999231</td>\n",
       "      <td>1.000000</td>\n",
       "      <td>0.902518</td>\n",
       "      <td>1.000000</td>\n",
       "      <td>0.902518</td>\n",
       "      <td>0.999231</td>\n",
       "    </tr>\n",
       "    <tr>\n",
       "      <th>Container_IA400</th>\n",
       "      <td>0.902518</td>\n",
       "      <td>0.860219</td>\n",
       "      <td>0.999231</td>\n",
       "      <td>1.000000</td>\n",
       "      <td>0.902518</td>\n",
       "      <td>1.000000</td>\n",
       "      <td>0.902518</td>\n",
       "      <td>0.999231</td>\n",
       "    </tr>\n",
       "  </tbody>\n",
       "</table>\n",
       "</div>"
      ],
      "text/plain": [
       "                 High_Price  Low_Price  Weight_Kg  Container_IA400  \\\n",
       "Low_Price          0.938140   1.000000   0.863182         0.860219   \n",
       "High_Price         1.000000   0.938140   0.905852         0.902518   \n",
       "High_Price         1.000000   0.938140   0.905852         0.902518   \n",
       "High_Price         1.000000   0.938140   0.905852         0.902518   \n",
       "Weight_Kg          0.905852   0.863182   1.000000         0.999231   \n",
       "Weight_Kg          0.905852   0.863182   1.000000         0.999231   \n",
       "Container_IA400    0.902518   0.860219   0.999231         1.000000   \n",
       "Container_IA400    0.902518   0.860219   0.999231         1.000000   \n",
       "\n",
       "                 High_Price  Container_IA400  High_Price  Weight_Kg  \n",
       "Low_Price          0.938140         0.860219    0.938140   0.863182  \n",
       "High_Price         1.000000         0.902518    1.000000   0.905852  \n",
       "High_Price         1.000000         0.902518    1.000000   0.905852  \n",
       "High_Price         1.000000         0.902518    1.000000   0.905852  \n",
       "Weight_Kg          0.905852         0.999231    0.905852   1.000000  \n",
       "Weight_Kg          0.905852         0.999231    0.905852   1.000000  \n",
       "Container_IA400    0.902518         1.000000    0.902518   0.999231  \n",
       "Container_IA400    0.902518         1.000000    0.902518   0.999231  "
      ]
     },
     "execution_count": 53,
     "metadata": {},
     "output_type": "execute_result"
    }
   ],
   "source": [
    "# As before, we create the correlation matrix\n",
    "# and find rows and columnd where correlation coefficients > 0.9 or <-0.9\n",
    "corr = X_data.corr()\n",
    "r, c = np.where(np.abs(corr) > 0.9)\n",
    "\n",
    "# We are only interested in the off diagonal entries:\n",
    "off_diagonal = np.where(r != c)\n",
    "\n",
    "# Show the correlation matrix rows and columns where we have highly correlated off diagonal entries:\n",
    "corr.iloc[r[off_diagonal], c[off_diagonal]]"
   ]
  },
  {
   "cell_type": "markdown",
   "metadata": {},
   "source": [
    "Container_M4183\n",
    "Size_Grade_2S\n",
    "Weight_Kg\n",
    "Container_JE090\n",
    "Province_EASTERN_CAPE\n",
    "Size_Grade_2M\n",
    "Container_JG110\n",
    "Province_NATAL\n",
    "Province_W_CAPE_BERGRIVER_ETC\n",
    "Size_Grade_1X\n",
    "Container_EC120\n",
    "Size_Grade_1M\n",
    "Container_EF120\n",
    "Sales_Total\n",
    "Stock_On_Hand\n",
    "Size_Grade_2L\n",
    "Total_Qty_Sold\n",
    "Size_Grade_2U\n",
    "Container_DT063\n",
    "Size_Grade_2X"
   ]
  },
  {
   "cell_type": "markdown",
   "metadata": {},
   "source": [
    "## Data Scaling\n",
    "The units of our data are not fit to be used for comparing different variables, this makes it hard for us to study the relationship between different variables. As result, we will scale our data to so that our module is impacted by the relationship between different variables, `NOT` by the units of measurement of the variables. We will use **Z-score standardisation** to scale our data. Z-score standardisation robust to outlier values. \n",
    "\n",
    "Let's go ahead an apply standard scaling to our model. We'll import the StandardScalar() object from sklearn.preprocessing"
   ]
  },
  {
   "cell_type": "code",
   "execution_count": 54,
   "metadata": {},
   "outputs": [],
   "source": [
    "# Split data into predictors and response\n",
    "X = df_train_.drop('avg_price_per_kg', axis=1)\n",
    "#X = df_train_.drop(['avg_price_per_kg', 'Weight_Kg', 'High_Price', 'Low_Price', 'Container_IA400'], axis=1)\n",
    "y = df_train_['avg_price_per_kg']"
   ]
  },
  {
   "cell_type": "code",
   "execution_count": 55,
   "metadata": {},
   "outputs": [],
   "source": [
    "# Import scaler method from sklearn\n",
    "from sklearn.preprocessing import StandardScaler"
   ]
  },
  {
   "cell_type": "code",
   "execution_count": 56,
   "metadata": {},
   "outputs": [],
   "source": [
    "# Create scaler object\n",
    "scaler = StandardScaler()"
   ]
  },
  {
   "cell_type": "code",
   "execution_count": 57,
   "metadata": {},
   "outputs": [],
   "source": [
    "# Create scaled version of the predictors (there is no need to scale the response)\n",
    "X_scaled = scaler.fit_transform(X)"
   ]
  },
  {
   "cell_type": "code",
   "execution_count": 58,
   "metadata": {},
   "outputs": [
    {
     "data": {
      "text/html": [
       "<div>\n",
       "<style scoped>\n",
       "    .dataframe tbody tr th:only-of-type {\n",
       "        vertical-align: middle;\n",
       "    }\n",
       "\n",
       "    .dataframe tbody tr th {\n",
       "        vertical-align: top;\n",
       "    }\n",
       "\n",
       "    .dataframe thead th {\n",
       "        text-align: right;\n",
       "    }\n",
       "</style>\n",
       "<table border=\"1\" class=\"dataframe\">\n",
       "  <thead>\n",
       "    <tr style=\"text-align: right;\">\n",
       "      <th></th>\n",
       "      <th>Weight_Kg</th>\n",
       "      <th>Low_Price</th>\n",
       "      <th>High_Price</th>\n",
       "      <th>Sales_Total</th>\n",
       "      <th>Total_Qty_Sold</th>\n",
       "      <th>Total_Kg_Sold</th>\n",
       "      <th>Stock_On_Hand</th>\n",
       "      <th>Province_EASTERN_CAPE</th>\n",
       "      <th>Province_NATAL</th>\n",
       "      <th>Province_ORANGE_FREE_STATE</th>\n",
       "      <th>...</th>\n",
       "      <th>Container_M9125</th>\n",
       "      <th>Size_Grade_1M</th>\n",
       "      <th>Size_Grade_1S</th>\n",
       "      <th>Size_Grade_1U</th>\n",
       "      <th>Size_Grade_1X</th>\n",
       "      <th>Size_Grade_2L</th>\n",
       "      <th>Size_Grade_2M</th>\n",
       "      <th>Size_Grade_2S</th>\n",
       "      <th>Size_Grade_2U</th>\n",
       "      <th>Size_Grade_2X</th>\n",
       "    </tr>\n",
       "  </thead>\n",
       "  <tbody>\n",
       "    <tr>\n",
       "      <th>0</th>\n",
       "      <td>-0.222433</td>\n",
       "      <td>-0.065087</td>\n",
       "      <td>-0.105317</td>\n",
       "      <td>0.811807</td>\n",
       "      <td>0.510117</td>\n",
       "      <td>0.511073</td>\n",
       "      <td>0.571070</td>\n",
       "      <td>-0.343488</td>\n",
       "      <td>-0.245547</td>\n",
       "      <td>-0.068059</td>\n",
       "      <td>...</td>\n",
       "      <td>-0.039233</td>\n",
       "      <td>-0.44198</td>\n",
       "      <td>-0.612085</td>\n",
       "      <td>-0.032026</td>\n",
       "      <td>-0.30986</td>\n",
       "      <td>-0.255934</td>\n",
       "      <td>-0.367265</td>\n",
       "      <td>-0.432837</td>\n",
       "      <td>-0.093731</td>\n",
       "      <td>-0.116187</td>\n",
       "    </tr>\n",
       "    <tr>\n",
       "      <th>1</th>\n",
       "      <td>-0.295704</td>\n",
       "      <td>-0.332855</td>\n",
       "      <td>-0.382175</td>\n",
       "      <td>-0.103950</td>\n",
       "      <td>0.471248</td>\n",
       "      <td>0.091837</td>\n",
       "      <td>-0.563874</td>\n",
       "      <td>-0.343488</td>\n",
       "      <td>-0.245547</td>\n",
       "      <td>-0.068059</td>\n",
       "      <td>...</td>\n",
       "      <td>-0.039233</td>\n",
       "      <td>-0.44198</td>\n",
       "      <td>-0.612085</td>\n",
       "      <td>-0.032026</td>\n",
       "      <td>-0.30986</td>\n",
       "      <td>-0.255934</td>\n",
       "      <td>2.722828</td>\n",
       "      <td>-0.432837</td>\n",
       "      <td>-0.093731</td>\n",
       "      <td>-0.116187</td>\n",
       "    </tr>\n",
       "    <tr>\n",
       "      <th>2</th>\n",
       "      <td>-0.315779</td>\n",
       "      <td>-0.319467</td>\n",
       "      <td>-0.370639</td>\n",
       "      <td>-0.488870</td>\n",
       "      <td>-0.506948</td>\n",
       "      <td>-0.459029</td>\n",
       "      <td>1.515476</td>\n",
       "      <td>-0.343488</td>\n",
       "      <td>-0.245547</td>\n",
       "      <td>-0.068059</td>\n",
       "      <td>...</td>\n",
       "      <td>-0.039233</td>\n",
       "      <td>-0.44198</td>\n",
       "      <td>-0.612085</td>\n",
       "      <td>-0.032026</td>\n",
       "      <td>-0.30986</td>\n",
       "      <td>-0.255934</td>\n",
       "      <td>-0.367265</td>\n",
       "      <td>2.310338</td>\n",
       "      <td>-0.093731</td>\n",
       "      <td>-0.116187</td>\n",
       "    </tr>\n",
       "    <tr>\n",
       "      <th>3</th>\n",
       "      <td>-0.222433</td>\n",
       "      <td>-0.252525</td>\n",
       "      <td>-0.220674</td>\n",
       "      <td>0.306871</td>\n",
       "      <td>0.691504</td>\n",
       "      <td>0.679187</td>\n",
       "      <td>0.047781</td>\n",
       "      <td>-0.343488</td>\n",
       "      <td>-0.245547</td>\n",
       "      <td>-0.068059</td>\n",
       "      <td>...</td>\n",
       "      <td>-0.039233</td>\n",
       "      <td>-0.44198</td>\n",
       "      <td>1.633760</td>\n",
       "      <td>-0.032026</td>\n",
       "      <td>-0.30986</td>\n",
       "      <td>-0.255934</td>\n",
       "      <td>-0.367265</td>\n",
       "      <td>-0.432837</td>\n",
       "      <td>-0.093731</td>\n",
       "      <td>-0.116187</td>\n",
       "    </tr>\n",
       "    <tr>\n",
       "      <th>4</th>\n",
       "      <td>3.608756</td>\n",
       "      <td>4.353082</td>\n",
       "      <td>3.655338</td>\n",
       "      <td>-0.468098</td>\n",
       "      <td>-0.562012</td>\n",
       "      <td>-0.419986</td>\n",
       "      <td>-0.561112</td>\n",
       "      <td>2.911310</td>\n",
       "      <td>-0.245547</td>\n",
       "      <td>-0.068059</td>\n",
       "      <td>...</td>\n",
       "      <td>-0.039233</td>\n",
       "      <td>-0.44198</td>\n",
       "      <td>1.633760</td>\n",
       "      <td>-0.032026</td>\n",
       "      <td>-0.30986</td>\n",
       "      <td>-0.255934</td>\n",
       "      <td>-0.367265</td>\n",
       "      <td>-0.432837</td>\n",
       "      <td>-0.093731</td>\n",
       "      <td>-0.116187</td>\n",
       "    </tr>\n",
       "  </tbody>\n",
       "</table>\n",
       "<p>5 rows × 32 columns</p>\n",
       "</div>"
      ],
      "text/plain": [
       "   Weight_Kg  Low_Price  High_Price  Sales_Total  Total_Qty_Sold  \\\n",
       "0  -0.222433  -0.065087   -0.105317     0.811807        0.510117   \n",
       "1  -0.295704  -0.332855   -0.382175    -0.103950        0.471248   \n",
       "2  -0.315779  -0.319467   -0.370639    -0.488870       -0.506948   \n",
       "3  -0.222433  -0.252525   -0.220674     0.306871        0.691504   \n",
       "4   3.608756   4.353082    3.655338    -0.468098       -0.562012   \n",
       "\n",
       "   Total_Kg_Sold  Stock_On_Hand  Province_EASTERN_CAPE  Province_NATAL  \\\n",
       "0       0.511073       0.571070              -0.343488       -0.245547   \n",
       "1       0.091837      -0.563874              -0.343488       -0.245547   \n",
       "2      -0.459029       1.515476              -0.343488       -0.245547   \n",
       "3       0.679187       0.047781              -0.343488       -0.245547   \n",
       "4      -0.419986      -0.561112               2.911310       -0.245547   \n",
       "\n",
       "   Province_ORANGE_FREE_STATE  ...  Container_M9125  Size_Grade_1M  \\\n",
       "0                   -0.068059  ...        -0.039233       -0.44198   \n",
       "1                   -0.068059  ...        -0.039233       -0.44198   \n",
       "2                   -0.068059  ...        -0.039233       -0.44198   \n",
       "3                   -0.068059  ...        -0.039233       -0.44198   \n",
       "4                   -0.068059  ...        -0.039233       -0.44198   \n",
       "\n",
       "   Size_Grade_1S  Size_Grade_1U  Size_Grade_1X  Size_Grade_2L  Size_Grade_2M  \\\n",
       "0      -0.612085      -0.032026       -0.30986      -0.255934      -0.367265   \n",
       "1      -0.612085      -0.032026       -0.30986      -0.255934       2.722828   \n",
       "2      -0.612085      -0.032026       -0.30986      -0.255934      -0.367265   \n",
       "3       1.633760      -0.032026       -0.30986      -0.255934      -0.367265   \n",
       "4       1.633760      -0.032026       -0.30986      -0.255934      -0.367265   \n",
       "\n",
       "   Size_Grade_2S  Size_Grade_2U  Size_Grade_2X  \n",
       "0      -0.432837      -0.093731      -0.116187  \n",
       "1      -0.432837      -0.093731      -0.116187  \n",
       "2       2.310338      -0.093731      -0.116187  \n",
       "3      -0.432837      -0.093731      -0.116187  \n",
       "4      -0.432837      -0.093731      -0.116187  \n",
       "\n",
       "[5 rows x 32 columns]"
      ]
     },
     "execution_count": 58,
     "metadata": {},
     "output_type": "execute_result"
    }
   ],
   "source": [
    "# Convert the scaled predictor values into a dataframe\n",
    "X_standardise = pd.DataFrame(X_scaled,columns=X.columns)\n",
    "X_standardise.head()"
   ]
  },
  {
   "cell_type": "markdown",
   "metadata": {},
   "source": [
    "## Regression Models\n",
    "We will first split our data into a training and a testing set. Let's go ahead and import neccessary libraries"
   ]
  },
  {
   "cell_type": "code",
   "execution_count": 59,
   "metadata": {},
   "outputs": [],
   "source": [
    "# Import train/test splitting function from sklearn\n",
    "from sklearn.model_selection import train_test_split"
   ]
  },
  {
   "cell_type": "code",
   "execution_count": 60,
   "metadata": {},
   "outputs": [],
   "source": [
    "# Import metrics module\n",
    "from sklearn import metrics"
   ]
  },
  {
   "cell_type": "code",
   "execution_count": 61,
   "metadata": {},
   "outputs": [],
   "source": [
    "# Split the data into train and test, being sure to use the standardised predictors\n",
    "X_train, X_test, y_train, y_test = train_test_split(X_standardise, y, test_size=0.2, shuffle=False)"
   ]
  },
  {
   "cell_type": "markdown",
   "metadata": {},
   "source": [
    "## Linear Regression\n",
    "### Preprocessing"
   ]
  },
  {
   "cell_type": "code",
   "execution_count": 62,
   "metadata": {},
   "outputs": [],
   "source": [
    "# Import the ridge regression module from sklearn\n",
    "from sklearn.linear_model import LinearRegression"
   ]
  },
  {
   "cell_type": "code",
   "execution_count": 63,
   "metadata": {},
   "outputs": [],
   "source": [
    "# Create linear model\n",
    "lm = LinearRegression()"
   ]
  },
  {
   "cell_type": "code",
   "execution_count": 64,
   "metadata": {},
   "outputs": [
    {
     "data": {
      "text/plain": [
       "LinearRegression()"
      ]
     },
     "execution_count": 64,
     "metadata": {},
     "output_type": "execute_result"
    }
   ],
   "source": [
    "# Train the model\n",
    "lm.fit(X_train, y_train)"
   ]
  },
  {
   "cell_type": "code",
   "execution_count": 65,
   "metadata": {},
   "outputs": [],
   "source": [
    "# Extract the model intercept value\n",
    "b0 = float(lm.intercept_)"
   ]
  },
  {
   "cell_type": "code",
   "execution_count": 66,
   "metadata": {},
   "outputs": [],
   "source": [
    "# Extract the model coefficient value\n",
    "coeff = pd.DataFrame(lm.coef_, X.columns, columns=['Coefficient'])"
   ]
  },
  {
   "cell_type": "code",
   "execution_count": 67,
   "metadata": {},
   "outputs": [
    {
     "name": "stdout",
     "output_type": "stream",
     "text": [
      "Intercept: 6.802441647399473\n"
     ]
    }
   ],
   "source": [
    "print(\"Intercept:\", float(b0))"
   ]
  },
  {
   "cell_type": "code",
   "execution_count": 68,
   "metadata": {},
   "outputs": [
    {
     "data": {
      "text/html": [
       "<div>\n",
       "<style scoped>\n",
       "    .dataframe tbody tr th:only-of-type {\n",
       "        vertical-align: middle;\n",
       "    }\n",
       "\n",
       "    .dataframe tbody tr th {\n",
       "        vertical-align: top;\n",
       "    }\n",
       "\n",
       "    .dataframe thead th {\n",
       "        text-align: right;\n",
       "    }\n",
       "</style>\n",
       "<table border=\"1\" class=\"dataframe\">\n",
       "  <thead>\n",
       "    <tr style=\"text-align: right;\">\n",
       "      <th></th>\n",
       "      <th>Coefficient</th>\n",
       "    </tr>\n",
       "  </thead>\n",
       "  <tbody>\n",
       "    <tr>\n",
       "      <th>Weight_Kg</th>\n",
       "      <td>4.812878e+12</td>\n",
       "    </tr>\n",
       "    <tr>\n",
       "      <th>Low_Price</th>\n",
       "      <td>2.124187e-01</td>\n",
       "    </tr>\n",
       "    <tr>\n",
       "      <th>High_Price</th>\n",
       "      <td>6.673675e-01</td>\n",
       "    </tr>\n",
       "    <tr>\n",
       "      <th>Sales_Total</th>\n",
       "      <td>2.726347e+00</td>\n",
       "    </tr>\n",
       "    <tr>\n",
       "      <th>Total_Qty_Sold</th>\n",
       "      <td>-6.712441e-01</td>\n",
       "    </tr>\n",
       "    <tr>\n",
       "      <th>Total_Kg_Sold</th>\n",
       "      <td>-2.180760e+00</td>\n",
       "    </tr>\n",
       "    <tr>\n",
       "      <th>Stock_On_Hand</th>\n",
       "      <td>-7.338064e-02</td>\n",
       "    </tr>\n",
       "    <tr>\n",
       "      <th>Province_EASTERN_CAPE</th>\n",
       "      <td>-4.513408e-01</td>\n",
       "    </tr>\n",
       "    <tr>\n",
       "      <th>Province_NATAL</th>\n",
       "      <td>-4.351203e-01</td>\n",
       "    </tr>\n",
       "    <tr>\n",
       "      <th>Province_ORANGE_FREE_STATE</th>\n",
       "      <td>-1.250759e-01</td>\n",
       "    </tr>\n",
       "    <tr>\n",
       "      <th>Province_TRANSVAAL</th>\n",
       "      <td>-2.572521e-02</td>\n",
       "    </tr>\n",
       "    <tr>\n",
       "      <th>Province_W_CAPE_BERGRIVER_ETC</th>\n",
       "      <td>1.607464e-01</td>\n",
       "    </tr>\n",
       "    <tr>\n",
       "      <th>Province_WEST_COAST</th>\n",
       "      <td>-1.015742e-01</td>\n",
       "    </tr>\n",
       "    <tr>\n",
       "      <th>Container_DT063</th>\n",
       "      <td>-8.824650e+09</td>\n",
       "    </tr>\n",
       "    <tr>\n",
       "      <th>Container_EC120</th>\n",
       "      <td>-1.828277e+11</td>\n",
       "    </tr>\n",
       "    <tr>\n",
       "      <th>Container_EF120</th>\n",
       "      <td>-8.303146e+10</td>\n",
       "    </tr>\n",
       "    <tr>\n",
       "      <th>Container_EG140</th>\n",
       "      <td>-2.081593e+10</td>\n",
       "    </tr>\n",
       "    <tr>\n",
       "      <th>Container_IA400</th>\n",
       "      <td>-4.932116e+12</td>\n",
       "    </tr>\n",
       "    <tr>\n",
       "      <th>Container_JE090</th>\n",
       "      <td>-1.314469e+11</td>\n",
       "    </tr>\n",
       "    <tr>\n",
       "      <th>Container_JG110</th>\n",
       "      <td>-7.886932e+10</td>\n",
       "    </tr>\n",
       "    <tr>\n",
       "      <th>Container_M4183</th>\n",
       "      <td>-3.390969e+11</td>\n",
       "    </tr>\n",
       "    <tr>\n",
       "      <th>Container_M6125</th>\n",
       "      <td>-3.276308e+10</td>\n",
       "    </tr>\n",
       "    <tr>\n",
       "      <th>Container_M9125</th>\n",
       "      <td>-1.797739e+10</td>\n",
       "    </tr>\n",
       "    <tr>\n",
       "      <th>Size_Grade_1M</th>\n",
       "      <td>-1.820951e-01</td>\n",
       "    </tr>\n",
       "    <tr>\n",
       "      <th>Size_Grade_1S</th>\n",
       "      <td>-3.999819e-01</td>\n",
       "    </tr>\n",
       "    <tr>\n",
       "      <th>Size_Grade_1U</th>\n",
       "      <td>-9.513319e-02</td>\n",
       "    </tr>\n",
       "    <tr>\n",
       "      <th>Size_Grade_1X</th>\n",
       "      <td>9.464082e-02</td>\n",
       "    </tr>\n",
       "    <tr>\n",
       "      <th>Size_Grade_2L</th>\n",
       "      <td>-3.858882e-01</td>\n",
       "    </tr>\n",
       "    <tr>\n",
       "      <th>Size_Grade_2M</th>\n",
       "      <td>-4.201296e-01</td>\n",
       "    </tr>\n",
       "    <tr>\n",
       "      <th>Size_Grade_2S</th>\n",
       "      <td>-7.299074e-01</td>\n",
       "    </tr>\n",
       "    <tr>\n",
       "      <th>Size_Grade_2U</th>\n",
       "      <td>-2.463508e-01</td>\n",
       "    </tr>\n",
       "    <tr>\n",
       "      <th>Size_Grade_2X</th>\n",
       "      <td>-2.467368e-01</td>\n",
       "    </tr>\n",
       "  </tbody>\n",
       "</table>\n",
       "</div>"
      ],
      "text/plain": [
       "                                Coefficient\n",
       "Weight_Kg                      4.812878e+12\n",
       "Low_Price                      2.124187e-01\n",
       "High_Price                     6.673675e-01\n",
       "Sales_Total                    2.726347e+00\n",
       "Total_Qty_Sold                -6.712441e-01\n",
       "Total_Kg_Sold                 -2.180760e+00\n",
       "Stock_On_Hand                 -7.338064e-02\n",
       "Province_EASTERN_CAPE         -4.513408e-01\n",
       "Province_NATAL                -4.351203e-01\n",
       "Province_ORANGE_FREE_STATE    -1.250759e-01\n",
       "Province_TRANSVAAL            -2.572521e-02\n",
       "Province_W_CAPE_BERGRIVER_ETC  1.607464e-01\n",
       "Province_WEST_COAST           -1.015742e-01\n",
       "Container_DT063               -8.824650e+09\n",
       "Container_EC120               -1.828277e+11\n",
       "Container_EF120               -8.303146e+10\n",
       "Container_EG140               -2.081593e+10\n",
       "Container_IA400               -4.932116e+12\n",
       "Container_JE090               -1.314469e+11\n",
       "Container_JG110               -7.886932e+10\n",
       "Container_M4183               -3.390969e+11\n",
       "Container_M6125               -3.276308e+10\n",
       "Container_M9125               -1.797739e+10\n",
       "Size_Grade_1M                 -1.820951e-01\n",
       "Size_Grade_1S                 -3.999819e-01\n",
       "Size_Grade_1U                 -9.513319e-02\n",
       "Size_Grade_1X                  9.464082e-02\n",
       "Size_Grade_2L                 -3.858882e-01\n",
       "Size_Grade_2M                 -4.201296e-01\n",
       "Size_Grade_2S                 -7.299074e-01\n",
       "Size_Grade_2U                 -2.463508e-01\n",
       "Size_Grade_2X                 -2.467368e-01"
      ]
     },
     "execution_count": 68,
     "metadata": {},
     "output_type": "execute_result"
    }
   ],
   "source": [
    "# Check out the coefficients\n",
    "coeff"
   ]
  },
  {
   "cell_type": "markdown",
   "metadata": {},
   "source": [
    "### Assess the predictive accuracy of the model"
   ]
  },
  {
   "cell_type": "code",
   "execution_count": 69,
   "metadata": {},
   "outputs": [
    {
     "name": "stdout",
     "output_type": "stream",
     "text": [
      "Ridge Training RMSE:  1.3918616392274834\n",
      "Ridge Training R-Squared:  0.6105789617008179\n"
     ]
    }
   ],
   "source": [
    "# Check training accuracy\n",
    "train_lm = lm.predict(X_train)\n",
    "\n",
    "print('Ridge Training RMSE: ', np.sqrt(metrics.mean_squared_error(y_train, train_lm)))\n",
    "print('Ridge Training R-Squared: ', metrics.r2_score(y_train, train_lm))"
   ]
  },
  {
   "cell_type": "code",
   "execution_count": 70,
   "metadata": {},
   "outputs": [
    {
     "name": "stdout",
     "output_type": "stream",
     "text": [
      "Ridge Testing RMSE:  1.4556631198530379\n",
      "Ridge Testing R-Squared:  0.6032493895000703\n"
     ]
    }
   ],
   "source": [
    "# Check testing accuracy\n",
    "test_lm = lm.predict(X_test)\n",
    "\n",
    "print('Ridge Testing RMSE: ', np.sqrt(metrics.mean_squared_error(y_test, test_lm)))\n",
    "print('Ridge Testing R-Squared: ', metrics.r2_score(y_test, test_lm))"
   ]
  },
  {
   "cell_type": "markdown",
   "metadata": {},
   "source": [
    "## Decision Tree\n",
    "### Preprocessing\n",
    "We will first split our data into a training and a testing set. Let's go ahead and import neccessary libraries"
   ]
  },
  {
   "cell_type": "code",
   "execution_count": 137,
   "metadata": {},
   "outputs": [],
   "source": [
    "#Let us now try to fit a model but we have to import neccessary tools to do that\n",
    "from sklearn.tree import DecisionTreeRegressor"
   ]
  },
  {
   "cell_type": "code",
   "execution_count": 138,
   "metadata": {},
   "outputs": [],
   "source": [
    "regr_tree = DecisionTreeRegressor(max_depth=10, random_state=42)"
   ]
  },
  {
   "cell_type": "code",
   "execution_count": 139,
   "metadata": {},
   "outputs": [
    {
     "data": {
      "text/plain": [
       "DecisionTreeRegressor(max_depth=10, random_state=42)"
      ]
     },
     "execution_count": 139,
     "metadata": {},
     "output_type": "execute_result"
    }
   ],
   "source": [
    "regr_tree.fit(X_train, y_train)"
   ]
  },
  {
   "cell_type": "markdown",
   "metadata": {},
   "source": [
    "### Assess the predictive accuracy of the model"
   ]
  },
  {
   "cell_type": "code",
   "execution_count": 140,
   "metadata": {},
   "outputs": [
    {
     "name": "stdout",
     "output_type": "stream",
     "text": [
      "Ridge Training RMSE:  0.24901111196232956\n",
      "Ridge Training R-Squared:  0.987535790655654\n"
     ]
    }
   ],
   "source": [
    "# get predictions for test data\n",
    "# Check training accuracy\n",
    "y_train_pred = regr_tree.predict(X_train)\n",
    "\n",
    "print('Ridge Training RMSE: ', np.sqrt(metrics.mean_squared_error(y_train2, y_train_pred)))\n",
    "print('Ridge Training R-Squared: ', metrics.r2_score(y_train, y_train_pred))"
   ]
  },
  {
   "cell_type": "code",
   "execution_count": 141,
   "metadata": {},
   "outputs": [
    {
     "name": "stdout",
     "output_type": "stream",
     "text": [
      "Decision Tree Testing RMSE:  0.6000024898778094\n",
      "Decision Tree Testing R-Squared:  0.9325934730905606\n"
     ]
    }
   ],
   "source": [
    "# Check testing accuracy\n",
    "# Check testing accuracy\n",
    "y_test_pred = regr_tree.predict(X_test)\n",
    "\n",
    "print('Decision Tree Testing RMSE: ', np.sqrt(metrics.mean_squared_error(y_test, y_test_pred)))\n",
    "print('Decision Tree Testing R-Squared: ', metrics.r2_score(y_test, y_test_pred))"
   ]
  },
  {
   "cell_type": "markdown",
   "metadata": {},
   "source": [
    "## Ridge Regression\n",
    "### Preprocessing\n",
    "We will first split our data into a training and a testing set. Let's go ahead and import neccessary libraries"
   ]
  },
  {
   "cell_type": "code",
   "execution_count": 142,
   "metadata": {},
   "outputs": [],
   "source": [
    "# Import the ridge regression module from sklearn\n",
    "from sklearn.linear_model import Ridge"
   ]
  },
  {
   "cell_type": "code",
   "execution_count": 143,
   "metadata": {},
   "outputs": [],
   "source": [
    "# Create ridge model\n",
    "ridge = Ridge()"
   ]
  },
  {
   "cell_type": "code",
   "execution_count": 144,
   "metadata": {},
   "outputs": [
    {
     "data": {
      "text/plain": [
       "Ridge()"
      ]
     },
     "execution_count": 144,
     "metadata": {},
     "output_type": "execute_result"
    }
   ],
   "source": [
    "# Train the model\n",
    "ridge.fit(X_train, y_train)"
   ]
  },
  {
   "cell_type": "code",
   "execution_count": 145,
   "metadata": {},
   "outputs": [],
   "source": [
    "# Extract the model intercept value\n",
    "b0 = float(ridge.intercept_)"
   ]
  },
  {
   "cell_type": "code",
   "execution_count": 146,
   "metadata": {},
   "outputs": [],
   "source": [
    "# Extract the model coefficient value\n",
    "coeff = pd.DataFrame(ridge.coef_, X.columns, columns=['Coefficient'])"
   ]
  },
  {
   "cell_type": "code",
   "execution_count": 147,
   "metadata": {},
   "outputs": [
    {
     "name": "stdout",
     "output_type": "stream",
     "text": [
      "Intercept: 6.802567832768915\n"
     ]
    }
   ],
   "source": [
    "print(\"Intercept:\", float(b0))"
   ]
  },
  {
   "cell_type": "code",
   "execution_count": 148,
   "metadata": {},
   "outputs": [
    {
     "data": {
      "text/html": [
       "<div>\n",
       "<style scoped>\n",
       "    .dataframe tbody tr th:only-of-type {\n",
       "        vertical-align: middle;\n",
       "    }\n",
       "\n",
       "    .dataframe tbody tr th {\n",
       "        vertical-align: top;\n",
       "    }\n",
       "\n",
       "    .dataframe thead th {\n",
       "        text-align: right;\n",
       "    }\n",
       "</style>\n",
       "<table border=\"1\" class=\"dataframe\">\n",
       "  <thead>\n",
       "    <tr style=\"text-align: right;\">\n",
       "      <th></th>\n",
       "      <th>Coefficient</th>\n",
       "    </tr>\n",
       "  </thead>\n",
       "  <tbody>\n",
       "    <tr>\n",
       "      <th>Weight_Kg</th>\n",
       "      <td>-0.579887</td>\n",
       "    </tr>\n",
       "    <tr>\n",
       "      <th>Low_Price</th>\n",
       "      <td>0.219775</td>\n",
       "    </tr>\n",
       "    <tr>\n",
       "      <th>High_Price</th>\n",
       "      <td>0.657435</td>\n",
       "    </tr>\n",
       "    <tr>\n",
       "      <th>Sales_Total</th>\n",
       "      <td>2.621535</td>\n",
       "    </tr>\n",
       "    <tr>\n",
       "      <th>Total_Qty_Sold</th>\n",
       "      <td>-0.648125</td>\n",
       "    </tr>\n",
       "    <tr>\n",
       "      <th>Total_Kg_Sold</th>\n",
       "      <td>-2.092840</td>\n",
       "    </tr>\n",
       "    <tr>\n",
       "      <th>Stock_On_Hand</th>\n",
       "      <td>-0.073679</td>\n",
       "    </tr>\n",
       "    <tr>\n",
       "      <th>Province_EASTERN_CAPE</th>\n",
       "      <td>-0.451105</td>\n",
       "    </tr>\n",
       "    <tr>\n",
       "      <th>Province_NATAL</th>\n",
       "      <td>-0.436849</td>\n",
       "    </tr>\n",
       "    <tr>\n",
       "      <th>Province_ORANGE_FREE_STATE</th>\n",
       "      <td>-0.124633</td>\n",
       "    </tr>\n",
       "    <tr>\n",
       "      <th>Province_TRANSVAAL</th>\n",
       "      <td>-0.027378</td>\n",
       "    </tr>\n",
       "    <tr>\n",
       "      <th>Province_W_CAPE_BERGRIVER_ETC</th>\n",
       "      <td>0.161737</td>\n",
       "    </tr>\n",
       "    <tr>\n",
       "      <th>Province_WEST_COAST</th>\n",
       "      <td>-0.102456</td>\n",
       "    </tr>\n",
       "    <tr>\n",
       "      <th>Container_DT063</th>\n",
       "      <td>0.044149</td>\n",
       "    </tr>\n",
       "    <tr>\n",
       "      <th>Container_EC120</th>\n",
       "      <td>0.616666</td>\n",
       "    </tr>\n",
       "    <tr>\n",
       "      <th>Container_EF120</th>\n",
       "      <td>0.352051</td>\n",
       "    </tr>\n",
       "    <tr>\n",
       "      <th>Container_EG140</th>\n",
       "      <td>0.064302</td>\n",
       "    </tr>\n",
       "    <tr>\n",
       "      <th>Container_IA400</th>\n",
       "      <td>-0.632593</td>\n",
       "    </tr>\n",
       "    <tr>\n",
       "      <th>Container_JE090</th>\n",
       "      <td>0.363968</td>\n",
       "    </tr>\n",
       "    <tr>\n",
       "      <th>Container_JG110</th>\n",
       "      <td>0.075283</td>\n",
       "    </tr>\n",
       "    <tr>\n",
       "      <th>Container_M4183</th>\n",
       "      <td>0.379883</td>\n",
       "    </tr>\n",
       "    <tr>\n",
       "      <th>Container_M6125</th>\n",
       "      <td>0.089048</td>\n",
       "    </tr>\n",
       "    <tr>\n",
       "      <th>Container_M9125</th>\n",
       "      <td>-0.006662</td>\n",
       "    </tr>\n",
       "    <tr>\n",
       "      <th>Size_Grade_1M</th>\n",
       "      <td>-0.183128</td>\n",
       "    </tr>\n",
       "    <tr>\n",
       "      <th>Size_Grade_1S</th>\n",
       "      <td>-0.402414</td>\n",
       "    </tr>\n",
       "    <tr>\n",
       "      <th>Size_Grade_1U</th>\n",
       "      <td>-0.095648</td>\n",
       "    </tr>\n",
       "    <tr>\n",
       "      <th>Size_Grade_1X</th>\n",
       "      <td>0.092500</td>\n",
       "    </tr>\n",
       "    <tr>\n",
       "      <th>Size_Grade_2L</th>\n",
       "      <td>-0.380007</td>\n",
       "    </tr>\n",
       "    <tr>\n",
       "      <th>Size_Grade_2M</th>\n",
       "      <td>-0.413666</td>\n",
       "    </tr>\n",
       "    <tr>\n",
       "      <th>Size_Grade_2S</th>\n",
       "      <td>-0.724429</td>\n",
       "    </tr>\n",
       "    <tr>\n",
       "      <th>Size_Grade_2U</th>\n",
       "      <td>-0.243993</td>\n",
       "    </tr>\n",
       "    <tr>\n",
       "      <th>Size_Grade_2X</th>\n",
       "      <td>-0.244335</td>\n",
       "    </tr>\n",
       "  </tbody>\n",
       "</table>\n",
       "</div>"
      ],
      "text/plain": [
       "                               Coefficient\n",
       "Weight_Kg                        -0.579887\n",
       "Low_Price                         0.219775\n",
       "High_Price                        0.657435\n",
       "Sales_Total                       2.621535\n",
       "Total_Qty_Sold                   -0.648125\n",
       "Total_Kg_Sold                    -2.092840\n",
       "Stock_On_Hand                    -0.073679\n",
       "Province_EASTERN_CAPE            -0.451105\n",
       "Province_NATAL                   -0.436849\n",
       "Province_ORANGE_FREE_STATE       -0.124633\n",
       "Province_TRANSVAAL               -0.027378\n",
       "Province_W_CAPE_BERGRIVER_ETC     0.161737\n",
       "Province_WEST_COAST              -0.102456\n",
       "Container_DT063                   0.044149\n",
       "Container_EC120                   0.616666\n",
       "Container_EF120                   0.352051\n",
       "Container_EG140                   0.064302\n",
       "Container_IA400                  -0.632593\n",
       "Container_JE090                   0.363968\n",
       "Container_JG110                   0.075283\n",
       "Container_M4183                   0.379883\n",
       "Container_M6125                   0.089048\n",
       "Container_M9125                  -0.006662\n",
       "Size_Grade_1M                    -0.183128\n",
       "Size_Grade_1S                    -0.402414\n",
       "Size_Grade_1U                    -0.095648\n",
       "Size_Grade_1X                     0.092500\n",
       "Size_Grade_2L                    -0.380007\n",
       "Size_Grade_2M                    -0.413666\n",
       "Size_Grade_2S                    -0.724429\n",
       "Size_Grade_2U                    -0.243993\n",
       "Size_Grade_2X                    -0.244335"
      ]
     },
     "execution_count": 148,
     "metadata": {},
     "output_type": "execute_result"
    }
   ],
   "source": [
    "# Check out the coefficients\n",
    "coeff"
   ]
  },
  {
   "cell_type": "markdown",
   "metadata": {},
   "source": [
    "### Assess the predictive accuracy of the model"
   ]
  },
  {
   "cell_type": "code",
   "execution_count": 149,
   "metadata": {},
   "outputs": [
    {
     "name": "stdout",
     "output_type": "stream",
     "text": [
      "Ridge Training RMSE:  1.3919586584879011\n",
      "Ridge Training R-Squared:  0.610524670876457\n"
     ]
    }
   ],
   "source": [
    "# Check training accuracy\n",
    "train_ridge = ridge.predict(X_train)\n",
    "\n",
    "print('Ridge Training RMSE: ', np.sqrt(metrics.mean_squared_error(y_train, train_ridge)))\n",
    "print('Ridge Training R-Squared: ', metrics.r2_score(y_train, train_ridge))"
   ]
  },
  {
   "cell_type": "code",
   "execution_count": 150,
   "metadata": {},
   "outputs": [
    {
     "name": "stdout",
     "output_type": "stream",
     "text": [
      "Ridge Testing RMSE:  1.4547643751333355\n",
      "Ridge Testing R-Squared:  0.6037391558940142\n"
     ]
    }
   ],
   "source": [
    "# Check testing accuracy\n",
    "test_ridge = ridge.predict(X_test)\n",
    "\n",
    "print('Ridge Testing RMSE: ', np.sqrt(metrics.mean_squared_error(y_test, test_ridge)))\n",
    "print('Ridge Testing R-Squared: ', metrics.r2_score(y_test, test_ridge))"
   ]
  },
  {
   "cell_type": "markdown",
   "metadata": {},
   "source": [
    "## LASSO Regression\n",
    "### Preprocessing\n",
    "We'll be using the same dataset and train/test split as in previous regression trains."
   ]
  },
  {
   "cell_type": "code",
   "execution_count": 151,
   "metadata": {},
   "outputs": [],
   "source": [
    "# Import LASSO module\n",
    "from sklearn.linear_model import Lasso"
   ]
  },
  {
   "cell_type": "code",
   "execution_count": 152,
   "metadata": {},
   "outputs": [],
   "source": [
    "# Split the data into train and test, being sure to use the standardised predictors\n",
    "X_train, X_test, y_train, y_test = train_test_split(X_standardise, y, test_size=0.2, shuffle=False)"
   ]
  },
  {
   "cell_type": "code",
   "execution_count": 153,
   "metadata": {},
   "outputs": [],
   "source": [
    "# Create LASSO model object, setting alpha to 0.01\n",
    "lasso = Lasso(alpha=0.1)"
   ]
  },
  {
   "cell_type": "code",
   "execution_count": 154,
   "metadata": {},
   "outputs": [
    {
     "data": {
      "text/plain": [
       "Lasso(alpha=0.1)"
      ]
     },
     "execution_count": 154,
     "metadata": {},
     "output_type": "execute_result"
    }
   ],
   "source": [
    "# Train the LASSO model\n",
    "lasso.fit(X_train, y_train)"
   ]
  },
  {
   "cell_type": "code",
   "execution_count": 155,
   "metadata": {},
   "outputs": [],
   "source": [
    "# Extract intercept from model\n",
    "intercept = float(lasso.intercept_)"
   ]
  },
  {
   "cell_type": "code",
   "execution_count": 156,
   "metadata": {},
   "outputs": [],
   "source": [
    "# Extract coefficient from model\n",
    "coeff = pd.DataFrame(lasso.coef_, X.columns, columns=['Coefficient'])"
   ]
  },
  {
   "cell_type": "code",
   "execution_count": 157,
   "metadata": {},
   "outputs": [
    {
     "name": "stdout",
     "output_type": "stream",
     "text": [
      "Intercept: 6.800852523069083\n"
     ]
    }
   ],
   "source": [
    "# Extract intercept\n",
    "print(\"Intercept:\", float(intercept))"
   ]
  },
  {
   "cell_type": "code",
   "execution_count": 158,
   "metadata": {},
   "outputs": [
    {
     "data": {
      "text/html": [
       "<div>\n",
       "<style scoped>\n",
       "    .dataframe tbody tr th:only-of-type {\n",
       "        vertical-align: middle;\n",
       "    }\n",
       "\n",
       "    .dataframe tbody tr th {\n",
       "        vertical-align: top;\n",
       "    }\n",
       "\n",
       "    .dataframe thead th {\n",
       "        text-align: right;\n",
       "    }\n",
       "</style>\n",
       "<table border=\"1\" class=\"dataframe\">\n",
       "  <thead>\n",
       "    <tr style=\"text-align: right;\">\n",
       "      <th></th>\n",
       "      <th>Coefficient</th>\n",
       "    </tr>\n",
       "  </thead>\n",
       "  <tbody>\n",
       "    <tr>\n",
       "      <th>Weight_Kg</th>\n",
       "      <td>-0.0</td>\n",
       "    </tr>\n",
       "    <tr>\n",
       "      <th>High_Price</th>\n",
       "      <td>0.0</td>\n",
       "    </tr>\n",
       "    <tr>\n",
       "      <th>Total_Qty_Sold</th>\n",
       "      <td>-0.0</td>\n",
       "    </tr>\n",
       "    <tr>\n",
       "      <th>Total_Kg_Sold</th>\n",
       "      <td>0.0</td>\n",
       "    </tr>\n",
       "    <tr>\n",
       "      <th>Stock_On_Hand</th>\n",
       "      <td>-0.0</td>\n",
       "    </tr>\n",
       "    <tr>\n",
       "      <th>Province_ORANGE_FREE_STATE</th>\n",
       "      <td>-0.0</td>\n",
       "    </tr>\n",
       "    <tr>\n",
       "      <th>Province_TRANSVAAL</th>\n",
       "      <td>-0.0</td>\n",
       "    </tr>\n",
       "    <tr>\n",
       "      <th>Province_WEST_COAST</th>\n",
       "      <td>-0.0</td>\n",
       "    </tr>\n",
       "    <tr>\n",
       "      <th>Container_DT063</th>\n",
       "      <td>-0.0</td>\n",
       "    </tr>\n",
       "    <tr>\n",
       "      <th>Container_EG140</th>\n",
       "      <td>0.0</td>\n",
       "    </tr>\n",
       "    <tr>\n",
       "      <th>Container_M6125</th>\n",
       "      <td>0.0</td>\n",
       "    </tr>\n",
       "    <tr>\n",
       "      <th>Container_M9125</th>\n",
       "      <td>-0.0</td>\n",
       "    </tr>\n",
       "    <tr>\n",
       "      <th>Size_Grade_1M</th>\n",
       "      <td>0.0</td>\n",
       "    </tr>\n",
       "    <tr>\n",
       "      <th>Size_Grade_2L</th>\n",
       "      <td>-0.0</td>\n",
       "    </tr>\n",
       "    <tr>\n",
       "      <th>Size_Grade_2M</th>\n",
       "      <td>-0.0</td>\n",
       "    </tr>\n",
       "    <tr>\n",
       "      <th>Size_Grade_2X</th>\n",
       "      <td>-0.0</td>\n",
       "    </tr>\n",
       "  </tbody>\n",
       "</table>\n",
       "</div>"
      ],
      "text/plain": [
       "                            Coefficient\n",
       "Weight_Kg                          -0.0\n",
       "High_Price                          0.0\n",
       "Total_Qty_Sold                     -0.0\n",
       "Total_Kg_Sold                       0.0\n",
       "Stock_On_Hand                      -0.0\n",
       "Province_ORANGE_FREE_STATE         -0.0\n",
       "Province_TRANSVAAL                 -0.0\n",
       "Province_WEST_COAST                -0.0\n",
       "Container_DT063                    -0.0\n",
       "Container_EG140                     0.0\n",
       "Container_M6125                     0.0\n",
       "Container_M9125                    -0.0\n",
       "Size_Grade_1M                       0.0\n",
       "Size_Grade_2L                      -0.0\n",
       "Size_Grade_2M                      -0.0\n",
       "Size_Grade_2X                      -0.0"
      ]
     },
     "execution_count": 158,
     "metadata": {},
     "output_type": "execute_result"
    }
   ],
   "source": [
    "coeff[coeff.Coefficient == 0]"
   ]
  },
  {
   "cell_type": "markdown",
   "metadata": {},
   "source": [
    "### Assess the predictive accuracy of the model"
   ]
  },
  {
   "cell_type": "code",
   "execution_count": 159,
   "metadata": {},
   "outputs": [
    {
     "name": "stdout",
     "output_type": "stream",
     "text": [
      "Ridge Training RMSE:  1.589749968001641\n",
      "Ridge Training R-Squared:  0.4919751817037331\n"
     ]
    }
   ],
   "source": [
    "# Check training accuracy\n",
    "train_lasso = lasso.predict(X_train)\n",
    "\n",
    "print('Ridge Training RMSE: ', np.sqrt(metrics.mean_squared_error(y_train, train_lasso)))\n",
    "print('Ridge Training R-Squared: ', metrics.r2_score(y_train, train_lasso))"
   ]
  },
  {
   "cell_type": "code",
   "execution_count": 160,
   "metadata": {},
   "outputs": [
    {
     "name": "stdout",
     "output_type": "stream",
     "text": [
      "Ridge Testing RMSE:  1.6079158433231062\n",
      "Ridge Testing R-Squared:  0.5159140537271931\n"
     ]
    }
   ],
   "source": [
    "# Check testing accuracy\n",
    "test_lasso = lasso.predict(X_test)\n",
    "\n",
    "print('Ridge Testing RMSE: ', np.sqrt(metrics.mean_squared_error(y_test, test_lasso)))\n",
    "print('Ridge Testing R-Squared: ', metrics.r2_score(y_test, test_lasso))"
   ]
  },
  {
   "cell_type": "markdown",
   "metadata": {},
   "source": [
    "## Predicting on the test set\n",
    "Preprocessing\n",
    "The first thing we need to do is to get our data in the correct format. We will use the same techniques we used when preparing the training data to ensure we do not get any errors.\n",
    "\n",
    "### Preprocessing"
   ]
  },
  {
   "cell_type": "code",
   "execution_count": 161,
   "metadata": {},
   "outputs": [
    {
     "data": {
      "text/html": [
       "<div>\n",
       "<style scoped>\n",
       "    .dataframe tbody tr th:only-of-type {\n",
       "        vertical-align: middle;\n",
       "    }\n",
       "\n",
       "    .dataframe tbody tr th {\n",
       "        vertical-align: top;\n",
       "    }\n",
       "\n",
       "    .dataframe thead th {\n",
       "        text-align: right;\n",
       "    }\n",
       "</style>\n",
       "<table border=\"1\" class=\"dataframe\">\n",
       "  <thead>\n",
       "    <tr style=\"text-align: right;\">\n",
       "      <th></th>\n",
       "      <th>Weight_Kg</th>\n",
       "      <th>Low_Price</th>\n",
       "      <th>High_Price</th>\n",
       "      <th>Sales_Total</th>\n",
       "      <th>Total_Qty_Sold</th>\n",
       "      <th>Total_Kg_Sold</th>\n",
       "      <th>Stock_On_Hand</th>\n",
       "      <th>Province_EASTERN_CAPE</th>\n",
       "      <th>Province_NATAL</th>\n",
       "      <th>Province_ORANGE_FREE_STATE</th>\n",
       "      <th>...</th>\n",
       "      <th>Container_M9125</th>\n",
       "      <th>Size_Grade_1M</th>\n",
       "      <th>Size_Grade_1S</th>\n",
       "      <th>Size_Grade_1U</th>\n",
       "      <th>Size_Grade_1X</th>\n",
       "      <th>Size_Grade_2L</th>\n",
       "      <th>Size_Grade_2M</th>\n",
       "      <th>Size_Grade_2S</th>\n",
       "      <th>Size_Grade_2U</th>\n",
       "      <th>Size_Grade_2X</th>\n",
       "    </tr>\n",
       "  </thead>\n",
       "  <tbody>\n",
       "    <tr>\n",
       "      <th>0</th>\n",
       "      <td>12.0</td>\n",
       "      <td>128.0</td>\n",
       "      <td>136.0</td>\n",
       "      <td>5008.0</td>\n",
       "      <td>38</td>\n",
       "      <td>456.0</td>\n",
       "      <td>0</td>\n",
       "      <td>0</td>\n",
       "      <td>0</td>\n",
       "      <td>0</td>\n",
       "      <td>...</td>\n",
       "      <td>0</td>\n",
       "      <td>1</td>\n",
       "      <td>0</td>\n",
       "      <td>0</td>\n",
       "      <td>0</td>\n",
       "      <td>0</td>\n",
       "      <td>0</td>\n",
       "      <td>0</td>\n",
       "      <td>0</td>\n",
       "      <td>0</td>\n",
       "    </tr>\n",
       "    <tr>\n",
       "      <th>1</th>\n",
       "      <td>18.3</td>\n",
       "      <td>220.0</td>\n",
       "      <td>220.0</td>\n",
       "      <td>1760.0</td>\n",
       "      <td>8</td>\n",
       "      <td>146.4</td>\n",
       "      <td>2</td>\n",
       "      <td>0</td>\n",
       "      <td>0</td>\n",
       "      <td>0</td>\n",
       "      <td>...</td>\n",
       "      <td>0</td>\n",
       "      <td>0</td>\n",
       "      <td>0</td>\n",
       "      <td>0</td>\n",
       "      <td>1</td>\n",
       "      <td>0</td>\n",
       "      <td>0</td>\n",
       "      <td>0</td>\n",
       "      <td>0</td>\n",
       "      <td>0</td>\n",
       "    </tr>\n",
       "    <tr>\n",
       "      <th>2</th>\n",
       "      <td>12.0</td>\n",
       "      <td>120.0</td>\n",
       "      <td>120.0</td>\n",
       "      <td>720.0</td>\n",
       "      <td>6</td>\n",
       "      <td>72.0</td>\n",
       "      <td>45</td>\n",
       "      <td>0</td>\n",
       "      <td>0</td>\n",
       "      <td>0</td>\n",
       "      <td>...</td>\n",
       "      <td>0</td>\n",
       "      <td>0</td>\n",
       "      <td>1</td>\n",
       "      <td>0</td>\n",
       "      <td>0</td>\n",
       "      <td>0</td>\n",
       "      <td>0</td>\n",
       "      <td>0</td>\n",
       "      <td>0</td>\n",
       "      <td>0</td>\n",
       "    </tr>\n",
       "    <tr>\n",
       "      <th>3</th>\n",
       "      <td>18.3</td>\n",
       "      <td>160.0</td>\n",
       "      <td>160.0</td>\n",
       "      <td>160.0</td>\n",
       "      <td>1</td>\n",
       "      <td>18.3</td>\n",
       "      <td>8</td>\n",
       "      <td>0</td>\n",
       "      <td>0</td>\n",
       "      <td>0</td>\n",
       "      <td>...</td>\n",
       "      <td>0</td>\n",
       "      <td>1</td>\n",
       "      <td>0</td>\n",
       "      <td>0</td>\n",
       "      <td>0</td>\n",
       "      <td>0</td>\n",
       "      <td>0</td>\n",
       "      <td>0</td>\n",
       "      <td>0</td>\n",
       "      <td>0</td>\n",
       "    </tr>\n",
       "    <tr>\n",
       "      <th>4</th>\n",
       "      <td>18.3</td>\n",
       "      <td>140.0</td>\n",
       "      <td>160.0</td>\n",
       "      <td>14140.0</td>\n",
       "      <td>100</td>\n",
       "      <td>1830.0</td>\n",
       "      <td>19</td>\n",
       "      <td>0</td>\n",
       "      <td>0</td>\n",
       "      <td>0</td>\n",
       "      <td>...</td>\n",
       "      <td>0</td>\n",
       "      <td>0</td>\n",
       "      <td>0</td>\n",
       "      <td>0</td>\n",
       "      <td>0</td>\n",
       "      <td>0</td>\n",
       "      <td>0</td>\n",
       "      <td>0</td>\n",
       "      <td>0</td>\n",
       "      <td>0</td>\n",
       "    </tr>\n",
       "  </tbody>\n",
       "</table>\n",
       "<p>5 rows × 32 columns</p>\n",
       "</div>"
      ],
      "text/plain": [
       "   Weight_Kg  Low_Price  High_Price  Sales_Total  Total_Qty_Sold  \\\n",
       "0       12.0      128.0       136.0       5008.0              38   \n",
       "1       18.3      220.0       220.0       1760.0               8   \n",
       "2       12.0      120.0       120.0        720.0               6   \n",
       "3       18.3      160.0       160.0        160.0               1   \n",
       "4       18.3      140.0       160.0      14140.0             100   \n",
       "\n",
       "   Total_Kg_Sold  Stock_On_Hand  Province_EASTERN_CAPE  Province_NATAL  \\\n",
       "0          456.0              0                      0               0   \n",
       "1          146.4              2                      0               0   \n",
       "2           72.0             45                      0               0   \n",
       "3           18.3              8                      0               0   \n",
       "4         1830.0             19                      0               0   \n",
       "\n",
       "   Province_ORANGE_FREE_STATE  ...  Container_M9125  Size_Grade_1M  \\\n",
       "0                           0  ...                0              1   \n",
       "1                           0  ...                0              0   \n",
       "2                           0  ...                0              0   \n",
       "3                           0  ...                0              1   \n",
       "4                           0  ...                0              0   \n",
       "\n",
       "   Size_Grade_1S  Size_Grade_1U  Size_Grade_1X  Size_Grade_2L  Size_Grade_2M  \\\n",
       "0              0              0              0              0              0   \n",
       "1              0              0              1              0              0   \n",
       "2              1              0              0              0              0   \n",
       "3              0              0              0              0              0   \n",
       "4              0              0              0              0              0   \n",
       "\n",
       "   Size_Grade_2S  Size_Grade_2U  Size_Grade_2X  \n",
       "0              0              0              0  \n",
       "1              0              0              0  \n",
       "2              0              0              0  \n",
       "3              0              0              0  \n",
       "4              0              0              0  \n",
       "\n",
       "[5 rows x 32 columns]"
      ]
     },
     "execution_count": 161,
     "metadata": {},
     "output_type": "execute_result"
    }
   ],
   "source": [
    "x_test_ = pd.get_dummies(df_test, drop_first=True)\n",
    "x_test_.columns = [col.replace(\" \",\"_\") for col in x_test_.columns]\n",
    "x_test_.columns = [col.replace(\"-\",\"_\") for col in x_test_.columns]\n",
    "x_test_.columns = [col.replace(\"(\",\"_\") for col in x_test_.columns]\n",
    "x_test_.columns = [col.replace(\")\",\"_\") for col in x_test_.columns]\n",
    "x_test_.columns = [col.replace(\".\",\"_\") for col in x_test_.columns]\n",
    "x_test_.head()"
   ]
  },
  {
   "cell_type": "code",
   "execution_count": 162,
   "metadata": {},
   "outputs": [],
   "source": [
    "# Create scaled version of the predictors (there is no need to scale the response)\n",
    "x_tests = scaler.fit_transform(x_test_)"
   ]
  },
  {
   "cell_type": "code",
   "execution_count": 163,
   "metadata": {},
   "outputs": [
    {
     "data": {
      "text/html": [
       "<div>\n",
       "<style scoped>\n",
       "    .dataframe tbody tr th:only-of-type {\n",
       "        vertical-align: middle;\n",
       "    }\n",
       "\n",
       "    .dataframe tbody tr th {\n",
       "        vertical-align: top;\n",
       "    }\n",
       "\n",
       "    .dataframe thead th {\n",
       "        text-align: right;\n",
       "    }\n",
       "</style>\n",
       "<table border=\"1\" class=\"dataframe\">\n",
       "  <thead>\n",
       "    <tr style=\"text-align: right;\">\n",
       "      <th></th>\n",
       "      <th>Weight_Kg</th>\n",
       "      <th>Low_Price</th>\n",
       "      <th>High_Price</th>\n",
       "      <th>Sales_Total</th>\n",
       "      <th>Total_Qty_Sold</th>\n",
       "      <th>Total_Kg_Sold</th>\n",
       "      <th>Stock_On_Hand</th>\n",
       "      <th>Province_EASTERN_CAPE</th>\n",
       "      <th>Province_NATAL</th>\n",
       "      <th>Province_ORANGE_FREE_STATE</th>\n",
       "      <th>...</th>\n",
       "      <th>Container_M9125</th>\n",
       "      <th>Size_Grade_1M</th>\n",
       "      <th>Size_Grade_1S</th>\n",
       "      <th>Size_Grade_1U</th>\n",
       "      <th>Size_Grade_1X</th>\n",
       "      <th>Size_Grade_2L</th>\n",
       "      <th>Size_Grade_2M</th>\n",
       "      <th>Size_Grade_2S</th>\n",
       "      <th>Size_Grade_2U</th>\n",
       "      <th>Size_Grade_2X</th>\n",
       "    </tr>\n",
       "  </thead>\n",
       "  <tbody>\n",
       "    <tr>\n",
       "      <th>0</th>\n",
       "      <td>-0.253022</td>\n",
       "      <td>-0.102006</td>\n",
       "      <td>-0.153257</td>\n",
       "      <td>-0.406172</td>\n",
       "      <td>-0.457601</td>\n",
       "      <td>-0.448904</td>\n",
       "      <td>-0.613932</td>\n",
       "      <td>-0.366205</td>\n",
       "      <td>-0.173422</td>\n",
       "      <td>-0.07664</td>\n",
       "      <td>...</td>\n",
       "      <td>-0.038236</td>\n",
       "      <td>2.249877</td>\n",
       "      <td>-0.608276</td>\n",
       "      <td>-0.038236</td>\n",
       "      <td>-0.361058</td>\n",
       "      <td>-0.261998</td>\n",
       "      <td>-0.373854</td>\n",
       "      <td>-0.388922</td>\n",
       "      <td>-0.115385</td>\n",
       "      <td>-0.085749</td>\n",
       "    </tr>\n",
       "    <tr>\n",
       "      <th>1</th>\n",
       "      <td>-0.181032</td>\n",
       "      <td>0.157216</td>\n",
       "      <td>0.062779</td>\n",
       "      <td>-0.501907</td>\n",
       "      <td>-0.557890</td>\n",
       "      <td>-0.510145</td>\n",
       "      <td>-0.611136</td>\n",
       "      <td>-0.366205</td>\n",
       "      <td>-0.173422</td>\n",
       "      <td>-0.07664</td>\n",
       "      <td>...</td>\n",
       "      <td>-0.038236</td>\n",
       "      <td>-0.444469</td>\n",
       "      <td>-0.608276</td>\n",
       "      <td>-0.038236</td>\n",
       "      <td>2.769636</td>\n",
       "      <td>-0.261998</td>\n",
       "      <td>-0.373854</td>\n",
       "      <td>-0.388922</td>\n",
       "      <td>-0.115385</td>\n",
       "      <td>-0.085749</td>\n",
       "    </tr>\n",
       "    <tr>\n",
       "      <th>2</th>\n",
       "      <td>-0.253022</td>\n",
       "      <td>-0.124547</td>\n",
       "      <td>-0.194406</td>\n",
       "      <td>-0.532562</td>\n",
       "      <td>-0.564576</td>\n",
       "      <td>-0.524862</td>\n",
       "      <td>-0.551035</td>\n",
       "      <td>-0.366205</td>\n",
       "      <td>-0.173422</td>\n",
       "      <td>-0.07664</td>\n",
       "      <td>...</td>\n",
       "      <td>-0.038236</td>\n",
       "      <td>-0.444469</td>\n",
       "      <td>1.643990</td>\n",
       "      <td>-0.038236</td>\n",
       "      <td>-0.361058</td>\n",
       "      <td>-0.261998</td>\n",
       "      <td>-0.373854</td>\n",
       "      <td>-0.388922</td>\n",
       "      <td>-0.115385</td>\n",
       "      <td>-0.085749</td>\n",
       "    </tr>\n",
       "    <tr>\n",
       "      <th>3</th>\n",
       "      <td>-0.181032</td>\n",
       "      <td>-0.011842</td>\n",
       "      <td>-0.091532</td>\n",
       "      <td>-0.549068</td>\n",
       "      <td>-0.581291</td>\n",
       "      <td>-0.535484</td>\n",
       "      <td>-0.602750</td>\n",
       "      <td>-0.366205</td>\n",
       "      <td>-0.173422</td>\n",
       "      <td>-0.07664</td>\n",
       "      <td>...</td>\n",
       "      <td>-0.038236</td>\n",
       "      <td>2.249877</td>\n",
       "      <td>-0.608276</td>\n",
       "      <td>-0.038236</td>\n",
       "      <td>-0.361058</td>\n",
       "      <td>-0.261998</td>\n",
       "      <td>-0.373854</td>\n",
       "      <td>-0.388922</td>\n",
       "      <td>-0.115385</td>\n",
       "      <td>-0.085749</td>\n",
       "    </tr>\n",
       "    <tr>\n",
       "      <th>4</th>\n",
       "      <td>-0.181032</td>\n",
       "      <td>-0.068195</td>\n",
       "      <td>-0.091532</td>\n",
       "      <td>-0.137004</td>\n",
       "      <td>-0.250335</td>\n",
       "      <td>-0.177117</td>\n",
       "      <td>-0.587375</td>\n",
       "      <td>-0.366205</td>\n",
       "      <td>-0.173422</td>\n",
       "      <td>-0.07664</td>\n",
       "      <td>...</td>\n",
       "      <td>-0.038236</td>\n",
       "      <td>-0.444469</td>\n",
       "      <td>-0.608276</td>\n",
       "      <td>-0.038236</td>\n",
       "      <td>-0.361058</td>\n",
       "      <td>-0.261998</td>\n",
       "      <td>-0.373854</td>\n",
       "      <td>-0.388922</td>\n",
       "      <td>-0.115385</td>\n",
       "      <td>-0.085749</td>\n",
       "    </tr>\n",
       "  </tbody>\n",
       "</table>\n",
       "<p>5 rows × 32 columns</p>\n",
       "</div>"
      ],
      "text/plain": [
       "   Weight_Kg  Low_Price  High_Price  Sales_Total  Total_Qty_Sold  \\\n",
       "0  -0.253022  -0.102006   -0.153257    -0.406172       -0.457601   \n",
       "1  -0.181032   0.157216    0.062779    -0.501907       -0.557890   \n",
       "2  -0.253022  -0.124547   -0.194406    -0.532562       -0.564576   \n",
       "3  -0.181032  -0.011842   -0.091532    -0.549068       -0.581291   \n",
       "4  -0.181032  -0.068195   -0.091532    -0.137004       -0.250335   \n",
       "\n",
       "   Total_Kg_Sold  Stock_On_Hand  Province_EASTERN_CAPE  Province_NATAL  \\\n",
       "0      -0.448904      -0.613932              -0.366205       -0.173422   \n",
       "1      -0.510145      -0.611136              -0.366205       -0.173422   \n",
       "2      -0.524862      -0.551035              -0.366205       -0.173422   \n",
       "3      -0.535484      -0.602750              -0.366205       -0.173422   \n",
       "4      -0.177117      -0.587375              -0.366205       -0.173422   \n",
       "\n",
       "   Province_ORANGE_FREE_STATE  ...  Container_M9125  Size_Grade_1M  \\\n",
       "0                    -0.07664  ...        -0.038236       2.249877   \n",
       "1                    -0.07664  ...        -0.038236      -0.444469   \n",
       "2                    -0.07664  ...        -0.038236      -0.444469   \n",
       "3                    -0.07664  ...        -0.038236       2.249877   \n",
       "4                    -0.07664  ...        -0.038236      -0.444469   \n",
       "\n",
       "   Size_Grade_1S  Size_Grade_1U  Size_Grade_1X  Size_Grade_2L  Size_Grade_2M  \\\n",
       "0      -0.608276      -0.038236      -0.361058      -0.261998      -0.373854   \n",
       "1      -0.608276      -0.038236       2.769636      -0.261998      -0.373854   \n",
       "2       1.643990      -0.038236      -0.361058      -0.261998      -0.373854   \n",
       "3      -0.608276      -0.038236      -0.361058      -0.261998      -0.373854   \n",
       "4      -0.608276      -0.038236      -0.361058      -0.261998      -0.373854   \n",
       "\n",
       "   Size_Grade_2S  Size_Grade_2U  Size_Grade_2X  \n",
       "0      -0.388922      -0.115385      -0.085749  \n",
       "1      -0.388922      -0.115385      -0.085749  \n",
       "2      -0.388922      -0.115385      -0.085749  \n",
       "3      -0.388922      -0.115385      -0.085749  \n",
       "4      -0.388922      -0.115385      -0.085749  \n",
       "\n",
       "[5 rows x 32 columns]"
      ]
     },
     "execution_count": 163,
     "metadata": {},
     "output_type": "execute_result"
    }
   ],
   "source": [
    "x_test_standardised = pd.DataFrame(x_tests, columns=x_test_.columns)\n",
    "x_test_standardised.head()"
   ]
  },
  {
   "cell_type": "markdown",
   "metadata": {},
   "source": [
    "### Making predictions"
   ]
  },
  {
   "cell_type": "code",
   "execution_count": 164,
   "metadata": {},
   "outputs": [],
   "source": [
    "preds = regr_tree.predict(x_test_standardised)"
   ]
  },
  {
   "cell_type": "code",
   "execution_count": 165,
   "metadata": {},
   "outputs": [
    {
     "data": {
      "text/plain": [
       "array([ 7.67555556, 11.25      ,  8.14      ,  9.47636364,  8.75073171,\n",
       "        5.33      ,  4.55      ,  8.75073171,  8.75073171,  9.92      ,\n",
       "        4.62833333,  5.75      ,  9.01058824,  5.        ,  5.02      ,\n",
       "        5.25214286,  8.14      ,  5.02      , 10.89      ,  5.87428571,\n",
       "        4.88875   ,  5.25      ,  4.62833333,  6.25      ,  5.78      ,\n",
       "        6.91      ,  6.23      ,  8.14636364,  7.318     ,  8.14636364,\n",
       "        9.01058824,  5.6       , 10.41571429,  8.2       ,  5.3       ,\n",
       "       10.6025    , 11.33      , 11.16333333,  5.6       ,  7.318     ,\n",
       "        8.86      ,  9.44      ,  5.46      ,  5.25214286,  5.78      ,\n",
       "        4.88875   ,  5.11      ,  5.78      ,  5.25214286,  5.3       ,\n",
       "        2.        ,  4.62833333,  7.39      , 14.1       ,  8.14      ,\n",
       "        6.76      ,  8.42555556,  8.75073171,  8.14636364,  5.2       ,\n",
       "        8.67714286, 11.16333333,  5.25214286,  9.46277778,  5.174     ,\n",
       "        5.4       ,  5.555     ,  4.454     ,  5.52      ,  7.67555556,\n",
       "        6.89869565,  5.02      ,  2.9       ,  5.68      ,  5.555     ,\n",
       "        4.62833333,  5.561     ,  9.0425    , 11.25      ,  5.25214286,\n",
       "        7.39      ,  5.11      ,  5.561     ,  5.78      ,  0.91      ,\n",
       "        6.89869565,  8.        , 11.16333333,  6.69      ,  5.25214286,\n",
       "        8.14      , 10.6025    ,  5.6       ,  5.2       ,  5.4       ,\n",
       "        5.87428571,  9.0425    ,  9.01058824,  6.274     ,  5.78      ,\n",
       "       12.02      ,  4.62833333,  6.        ,  8.2       ,  7.318     ,\n",
       "        9.0425    ,  6.23      ,  2.73      ,  8.14      ,  5.11      ,\n",
       "        2.9       ,  6.47      ,  5.25214286,  4.62833333,  6.35333333,\n",
       "        8.14      ,  5.6       ,  9.46277778,  5.        ,  7.318     ,\n",
       "        4.62833333,  4.17      ,  8.14      ,  4.75      ,  9.46277778,\n",
       "        7.95133333,  5.88      ,  9.46277778, 10.6025    ,  4.62833333,\n",
       "        6.35333333,  5.87428571,  9.0425    ,  8.14      ,  1.03      ,\n",
       "        4.62833333,  6.25      ,  8.14636364,  8.        ,  5.87428571,\n",
       "        8.14636364,  5.5       ,  8.14      ,  4.62833333,  9.47636364,\n",
       "        5.555     ,  5.6       ,  9.44      ,  6.89869565, 10.45      ,\n",
       "        8.14      ,  8.75073171,  4.64      ,  6.7275    ,  7.67555556,\n",
       "       12.02      ,  5.768     ,  5.88      ,  5.2       ,  5.6       ,\n",
       "        7.2       ,  8.14      ,  7.08      ,  6.988     ,  6.35333333,\n",
       "        9.01058824,  6.25      ,  7.318     ,  5.56      ,  7.2       ,\n",
       "        7.2       ,  9.01058824,  5.2       ,  8.42555556,  4.62833333,\n",
       "        5.561     , 10.        ,  5.78      ,  5.2       ,  7.2       ,\n",
       "        5.2       ,  0.38      , 10.89      ,  7.2       ,  5.6       ,\n",
       "        0.38      ,  4.17      , 10.6025    ,  8.86      ,  6.76      ,\n",
       "        5.78      ,  9.46277778,  5.67      ,  5.02      ,  8.14      ,\n",
       "        8.75      ,  8.14      ,  6.274     ,  6.        ,  7.31      ,\n",
       "        6.47      ,  3.        ,  7.2       ,  0.91      ,  5.2       ,\n",
       "        4.545     ,  7.2       ,  6.25      ,  7.95133333,  8.14      ,\n",
       "        7.67555556, 14.21      ,  5.4       ,  7.318     ,  8.14      ,\n",
       "        5.78      ,  4.62833333,  5.6       ,  8.14      ,  7.2       ,\n",
       "        5.2       ,  5.56      ,  7.2       , 12.02      , 11.33      ,\n",
       "        5.6       ,  4.454     ,  5.6       ,  8.14      ,  5.78      ,\n",
       "        6.43      , 10.89      ,  8.2       ,  5.4       ,  5.555     ,\n",
       "        5.25214286,  8.14      ,  9.47636364,  2.9       ,  5.87428571,\n",
       "        5.        ,  5.2       ,  5.6       ,  5.68      , 11.25      ,\n",
       "        8.        ,  6.        ,  8.2       ,  5.4       ,  9.46277778,\n",
       "        6.988     , 10.6025    ,  5.88      ,  5.25214286,  5.555     ,\n",
       "        4.64      ,  8.        ,  9.46277778,  9.47636364,  9.01058824,\n",
       "        7.67555556,  7.67555556,  5.25214286,  4.88875   ,  5.56      ,\n",
       "        7.2       ,  4.88875   ,  6.77      ,  3.28      ,  5.555     ,\n",
       "        8.75073171,  5.555     , 11.16333333,  0.91      ,  9.01058824,\n",
       "        8.14      ,  5.33      ,  5.555     ,  5.2       ,  8.86      ,\n",
       "        5.56      ,  7.318     ,  6.        ,  5.        , 10.32      ,\n",
       "        5.41      ,  4.88875   ,  5.2       ,  8.74      ,  6.988     ,\n",
       "        5.67      ,  5.561     ,  5.6       ,  1.03      ,  6.89869565,\n",
       "        8.        ,  8.75073171,  9.44      ,  6.23      ,  7.19      ,\n",
       "        5.78      ,  4.62833333,  5.        ,  7.318     ,  8.14      ,\n",
       "        9.0425    ,  5.87428571,  4.4340625 ,  6.988     ,  5.4       ,\n",
       "        4.42      ,  7.31      ,  5.6       ,  8.14      ,  7.67555556,\n",
       "        9.47636364,  5.87428571,  4.88875   ,  6.43      ,  4.62833333,\n",
       "        4.62833333,  5.555     ,  3.4       ,  6.23      ,  5.67      ,\n",
       "        2.5       ,  9.01058824,  4.62833333, 11.99      ,  7.2       ,\n",
       "        4.62833333,  6.69      ,  9.46277778,  6.852     ,  8.74      ,\n",
       "        5.68      ,  8.75073171,  5.555     ,  8.        ,  5.02      ,\n",
       "        8.        ,  5.4       ,  8.75073171,  8.        ,  8.14      ,\n",
       "        8.        ,  8.        ,  5.56      ,  7.2       ,  7.2       ,\n",
       "        5.6       , 10.6025    ,  8.2       ,  9.46277778,  7.39      ,\n",
       "        5.555     ,  4.88875   ,  8.14      ,  8.75073171,  9.01058824,\n",
       "        6.89869565,  5.25214286,  8.75073171,  8.75073171,  7.50888889,\n",
       "        7.56      ,  8.        ,  8.        ,  5.68333333,  9.01058824,\n",
       "        5.41      ,  5.555     ,  5.25214286,  8.75073171,  6.69      ,\n",
       "        5.2       ,  5.11      ,  5.561     ,  8.2       ,  5.555     ,\n",
       "        6.35333333,  7.67555556,  7.318     ,  8.75073171,  2.5       ,\n",
       "        8.42555556,  5.6       ,  7.91      ,  4.17      ,  9.46277778,\n",
       "        6.988     ,  5.4       ,  9.0425    ,  8.14      ,  1.67      ,\n",
       "        8.14636364,  5.555     ,  5.68      ,  7.318     ,  7.318     ,\n",
       "        4.88875   ,  2.5       ,  8.14      ,  3.57      ,  5.87428571,\n",
       "        9.84      ,  5.25214286,  7.08      ,  5.41      ,  8.14      ,\n",
       "       10.41571429,  4.62833333,  5.2       ,  9.46277778,  9.92      ,\n",
       "        4.62833333,  9.01058824,  5.4       ,  8.14      ,  5.555     ,\n",
       "        6.35333333,  5.561     ,  6.988     ,  4.88875   ,  4.88875   ,\n",
       "        8.14      ,  8.75073171,  6.25      ,  8.14      ,  4.42      ,\n",
       "        8.14      ,  6.69470588,  7.318     ,  8.14      ,  4.62833333,\n",
       "        7.2       ,  4.55      ,  5.78      ,  7.318     ,  4.62833333,\n",
       "        9.44      ,  5.4       ,  8.14      ,  8.14      ,  8.75073171,\n",
       "       10.89      ,  6.47      ,  8.74      ,  8.14636364,  6.988     ,\n",
       "        8.14      ,  5.6       ,  9.47636364,  7.56      ,  7.318     ,\n",
       "        5.68      ,  9.01058824,  8.75073171,  5.        ,  8.14636364,\n",
       "        5.56      ,  9.46277778,  5.78      ,  4.88875   , 10.45      ,\n",
       "        4.4340625 ,  5.561     ,  6.988     ,  5.78      ,  7.2       ,\n",
       "        9.01058824,  8.75073171,  5.87428571,  5.02      ,  5.2       ,\n",
       "        8.14      ,  9.47636364,  4.51555556,  5.87428571,  5.78      ,\n",
       "        5.87428571,  8.2       ,  5.25214286,  3.965     ,  9.01058824,\n",
       "        7.31      ,  8.14636364,  2.5       ,  9.7       ,  4.51555556,\n",
       "        5.6       ,  5.555     ,  8.42833333,  7.2       , 10.89      ,\n",
       "        5.2       ,  5.25214286,  6.988     ,  8.74      ,  9.46277778,\n",
       "        8.14      , 14.        ,  8.14      ,  8.14      ,  6.988     ,\n",
       "        8.14      ,  8.        ,  5.555     ,  8.        ,  5.6       ,\n",
       "        9.0425    ,  7.67555556,  4.62833333,  5.        ,  8.42555556,\n",
       "        9.47636364,  8.67714286,  6.89869565,  6.23      ,  5.25214286,\n",
       "        8.14      ,  5.88      ,  6.7275    ,  4.88875   ,  7.318     ,\n",
       "        9.2       ,  8.2       ,  2.25      ,  5.        ,  8.14      ,\n",
       "       10.6025    ,  4.88875   ,  9.47636364,  7.67555556,  9.46277778,\n",
       "        9.0425    ,  8.75073171,  6.89869565,  5.561     ,  8.75073171,\n",
       "        8.14      ,  5.11      ,  8.75073171,  8.14      ,  6.69470588,\n",
       "        5.561     , 10.45      ,  5.2       ,  4.92      ,  6.89869565,\n",
       "        5.24111111,  5.2       ,  5.25214286,  5.11      ,  4.88875   ,\n",
       "        5.46      ,  8.14      ,  8.86      ,  5.561     ,  6.05      ,\n",
       "        9.46277778,  4.75      ,  5.78      ,  5.4       ,  7.318     ,\n",
       "        4.92      ,  8.14      ,  6.47      ,  8.14      ,  9.46277778,\n",
       "        5.41      ,  4.62833333,  9.47636364,  5.68      ,  5.2       ,\n",
       "        6.        ,  5.25214286,  2.21285714,  8.        , 11.25      ,\n",
       "        5.78      ,  5.2       ,  2.5       ,  7.56      ,  8.14      ,\n",
       "        8.74      ,  7.38      ,  9.84      ,  4.88875   ,  6.97      ,\n",
       "        9.96      ,  8.14636364,  5.561     ,  5.6       ,  8.3       ,\n",
       "        5.25214286,  5.6       ,  5.555     ,  6.97      ,  5.2       ,\n",
       "        6.89869565,  5.93384615, 11.16333333,  8.14      ,  3.57      ,\n",
       "        2.21285714,  8.14636364,  4.51555556,  7.2       ,  9.47636364,\n",
       "        8.14      ,  7.2       ,  7.318     ,  5.02      ,  7.67555556,\n",
       "        5.15666667,  5.2       ,  9.84      ,  5.2       ,  9.01058824,\n",
       "        5.46      , 12.46      ,  6.89869565,  5.78      ,  5.25214286,\n",
       "        5.46      ,  5.25214286,  4.55      ,  6.23      ,  5.174     ,\n",
       "        5.2       ,  6.274     ,  5.24111111,  5.6       ,  6.47      ,\n",
       "        4.88875   ,  9.0425    ,  4.88875   ,  5.        ,  5.68      ,\n",
       "        5.2       ,  5.11      ,  9.01058824,  5.02      , 11.33      ,\n",
       "        6.274     ,  6.89869565,  5.        , 10.15      ,  8.75073171,\n",
       "        5.24111111,  7.38      ,  7.318     ,  9.47636364,  5.02      ,\n",
       "        8.        ,  5.88      ,  5.02      ,  8.56      ,  8.14      ,\n",
       "        5.87428571,  5.555     ,  5.25214286,  1.59      , 12.46      ,\n",
       "        8.74      ,  8.        ,  5.11      , 11.16333333,  5.6       ,\n",
       "       10.6025    ,  5.78      ,  6.69      ,  6.47      , 10.3       ,\n",
       "        8.14      ,  6.67      ,  9.7       ,  7.2       ,  2.78      ,\n",
       "        2.5       ,  7.145     ,  5.25214286,  7.318     ,  8.75073171])"
      ]
     },
     "execution_count": 165,
     "metadata": {},
     "output_type": "execute_result"
    }
   ],
   "source": [
    "preds"
   ]
  },
  {
   "cell_type": "markdown",
   "metadata": {},
   "source": [
    "### Submission"
   ]
  },
  {
   "cell_type": "code",
   "execution_count": 166,
   "metadata": {},
   "outputs": [],
   "source": [
    "# create submission dataframe\n",
    "# Create Dataframe of Order_No and Time from Pickup to Arrival\n",
    "submission = pd.DataFrame(\n",
    "    {'Index': test_index,\n",
    "     'avg_price_per_kg': preds\n",
    "    })"
   ]
  },
  {
   "cell_type": "code",
   "execution_count": 167,
   "metadata": {},
   "outputs": [
    {
     "data": {
      "text/html": [
       "<div>\n",
       "<style scoped>\n",
       "    .dataframe tbody tr th:only-of-type {\n",
       "        vertical-align: middle;\n",
       "    }\n",
       "\n",
       "    .dataframe tbody tr th {\n",
       "        vertical-align: top;\n",
       "    }\n",
       "\n",
       "    .dataframe thead th {\n",
       "        text-align: right;\n",
       "    }\n",
       "</style>\n",
       "<table border=\"1\" class=\"dataframe\">\n",
       "  <thead>\n",
       "    <tr style=\"text-align: right;\">\n",
       "      <th></th>\n",
       "      <th>Index</th>\n",
       "      <th>avg_price_per_kg</th>\n",
       "    </tr>\n",
       "  </thead>\n",
       "  <tbody>\n",
       "    <tr>\n",
       "      <th>0</th>\n",
       "      <td>1</td>\n",
       "      <td>7.675556</td>\n",
       "    </tr>\n",
       "    <tr>\n",
       "      <th>1</th>\n",
       "      <td>2</td>\n",
       "      <td>11.250000</td>\n",
       "    </tr>\n",
       "    <tr>\n",
       "      <th>2</th>\n",
       "      <td>3</td>\n",
       "      <td>8.140000</td>\n",
       "    </tr>\n",
       "    <tr>\n",
       "      <th>3</th>\n",
       "      <td>4</td>\n",
       "      <td>9.476364</td>\n",
       "    </tr>\n",
       "    <tr>\n",
       "      <th>4</th>\n",
       "      <td>5</td>\n",
       "      <td>8.750732</td>\n",
       "    </tr>\n",
       "  </tbody>\n",
       "</table>\n",
       "</div>"
      ],
      "text/plain": [
       "   Index  avg_price_per_kg\n",
       "0      1          7.675556\n",
       "1      2         11.250000\n",
       "2      3          8.140000\n",
       "3      4          9.476364\n",
       "4      5          8.750732"
      ]
     },
     "execution_count": 167,
     "metadata": {},
     "output_type": "execute_result"
    }
   ],
   "source": [
    "submission.head()"
   ]
  },
  {
   "cell_type": "code",
   "execution_count": 168,
   "metadata": {},
   "outputs": [],
   "source": [
    "# save DataFrame to csv file for submission\n",
    "submission.to_csv(\"Regression_AM2_DSFT.csv\", index=False)"
   ]
  },
  {
   "cell_type": "code",
   "execution_count": null,
   "metadata": {},
   "outputs": [],
   "source": []
  }
 ],
 "metadata": {
  "kernelspec": {
   "display_name": "Python 3",
   "language": "python",
   "name": "python3"
  },
  "language_info": {
   "codemirror_mode": {
    "name": "ipython",
    "version": 3
   },
   "file_extension": ".py",
   "mimetype": "text/x-python",
   "name": "python",
   "nbconvert_exporter": "python",
   "pygments_lexer": "ipython3",
   "version": "3.8.5"
  }
 },
 "nbformat": 4,
 "nbformat_minor": 4
}
