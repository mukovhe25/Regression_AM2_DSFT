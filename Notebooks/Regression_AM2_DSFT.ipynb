{
 "cells": [
  {
   "cell_type": "markdown",
   "metadata": {},
   "source": [
    "# EDSA Apple Prices Challenge\n",
    "\n",
    "Regression_AM2_DSFT team is determined to help the Fresh Produce Industry to accurately determine how much stock to have on hand and what price to set the Golden Delicious Apples to.\n",
    "\n",
    "In the Fresh Produce Industry, having the right amount of stock on hand is crucial. That's, not having too little that you run out of stock when customers want to buy more. And not having too much that food waste occurs. Yields from farms fluctuate by season. Should the prices then also fluctuate by season? The is a need for a more accurate method to determine how much stock to have on hand and what price to set the Golden Delicious Apples to.\n",
    "\n",
    "Regression_AM2_DSFT will investigate key factors that have a great impact on the price of the Golden Delicious Apples to be maximised. We will construct a regression algorithm, capable of accurately predicting how much a kilogram of Golden Delicious Apples will cost, given certain parameters.\n",
    "\n",
    "![Golden Apples](apples.png)\n"
   ]
  },
  {
   "cell_type": "markdown",
   "metadata": {},
   "source": [
    "## Data Cleaning and Formatting\n",
    "Before we do anything, we first have to clean our data. Our data contains negative values that don't make sense, i.e. a negative weight doesn't exist. We'll go now convert all the negative values into positive values.\n",
    "\n",
    "### Libraries"
   ]
  },
  {
   "cell_type": "code",
   "execution_count": 1,
   "metadata": {},
   "outputs": [],
   "source": [
    "import pandas as pd\n",
    "import numpy as np\n",
    "import seaborn as sns\n",
    "import matplotlib.pyplot as plt\n",
    "from datetime import datetime"
   ]
  },
  {
   "cell_type": "markdown",
   "metadata": {},
   "source": [
    "### Datasets"
   ]
  },
  {
   "cell_type": "code",
   "execution_count": 2,
   "metadata": {},
   "outputs": [],
   "source": [
    "df_train = pd.read_csv(\"df-train_set.csv\")\n",
    "df_test = pd.read_csv(\"df-test_set.csv\")\n",
    "test_index = df_test['Index']\n",
    "df_test = df_test.drop('Index', axis = 1)"
   ]
  },
  {
   "cell_type": "code",
   "execution_count": 3,
   "metadata": {},
   "outputs": [],
   "source": [
    "df_train = df_train[df_train['Commodities'] == 'APPLE GOLDEN DELICIOUS']"
   ]
  },
  {
   "cell_type": "markdown",
   "metadata": {},
   "source": [
    "### Training data"
   ]
  },
  {
   "cell_type": "code",
   "execution_count": 4,
   "metadata": {},
   "outputs": [
    {
     "data": {
      "text/html": [
       "<div>\n",
       "<style scoped>\n",
       "    .dataframe tbody tr th:only-of-type {\n",
       "        vertical-align: middle;\n",
       "    }\n",
       "\n",
       "    .dataframe tbody tr th {\n",
       "        vertical-align: top;\n",
       "    }\n",
       "\n",
       "    .dataframe thead th {\n",
       "        text-align: right;\n",
       "    }\n",
       "</style>\n",
       "<table border=\"1\" class=\"dataframe\">\n",
       "  <thead>\n",
       "    <tr style=\"text-align: right;\">\n",
       "      <th></th>\n",
       "      <th>Province</th>\n",
       "      <th>Container</th>\n",
       "      <th>Size_Grade</th>\n",
       "      <th>Weight_Kg</th>\n",
       "      <th>Commodities</th>\n",
       "      <th>Date</th>\n",
       "      <th>Low_Price</th>\n",
       "      <th>High_Price</th>\n",
       "      <th>Sales_Total</th>\n",
       "      <th>Total_Qty_Sold</th>\n",
       "      <th>Total_Kg_Sold</th>\n",
       "      <th>Stock_On_Hand</th>\n",
       "      <th>avg_price_per_kg</th>\n",
       "    </tr>\n",
       "  </thead>\n",
       "  <tbody>\n",
       "    <tr>\n",
       "      <th>1</th>\n",
       "      <td>CAPE</td>\n",
       "      <td>M4183</td>\n",
       "      <td>1L</td>\n",
       "      <td>18.3</td>\n",
       "      <td>APPLE GOLDEN DELICIOUS</td>\n",
       "      <td>2020-09-09</td>\n",
       "      <td>150.0</td>\n",
       "      <td>170.0</td>\n",
       "      <td>51710.0</td>\n",
       "      <td>332</td>\n",
       "      <td>6075.6</td>\n",
       "      <td>822</td>\n",
       "      <td>8.51</td>\n",
       "    </tr>\n",
       "    <tr>\n",
       "      <th>7</th>\n",
       "      <td>CAPE</td>\n",
       "      <td>JG110</td>\n",
       "      <td>2M</td>\n",
       "      <td>11.0</td>\n",
       "      <td>APPLE GOLDEN DELICIOUS</td>\n",
       "      <td>2020-04-14</td>\n",
       "      <td>50.0</td>\n",
       "      <td>50.0</td>\n",
       "      <td>16000.0</td>\n",
       "      <td>320</td>\n",
       "      <td>3520.0</td>\n",
       "      <td>0</td>\n",
       "      <td>4.55</td>\n",
       "    </tr>\n",
       "    <tr>\n",
       "      <th>24</th>\n",
       "      <td>W.CAPE-BERGRIVER ETC</td>\n",
       "      <td>JE090</td>\n",
       "      <td>2S</td>\n",
       "      <td>9.0</td>\n",
       "      <td>APPLE GOLDEN DELICIOUS</td>\n",
       "      <td>2020-04-16</td>\n",
       "      <td>55.0</td>\n",
       "      <td>55.0</td>\n",
       "      <td>990.0</td>\n",
       "      <td>18</td>\n",
       "      <td>162.0</td>\n",
       "      <td>1506</td>\n",
       "      <td>6.11</td>\n",
       "    </tr>\n",
       "    <tr>\n",
       "      <th>40</th>\n",
       "      <td>CAPE</td>\n",
       "      <td>M4183</td>\n",
       "      <td>1S</td>\n",
       "      <td>18.3</td>\n",
       "      <td>APPLE GOLDEN DELICIOUS</td>\n",
       "      <td>2020-05-04</td>\n",
       "      <td>80.0</td>\n",
       "      <td>120.0</td>\n",
       "      <td>32020.0</td>\n",
       "      <td>388</td>\n",
       "      <td>7100.4</td>\n",
       "      <td>443</td>\n",
       "      <td>4.51</td>\n",
       "    </tr>\n",
       "    <tr>\n",
       "      <th>69</th>\n",
       "      <td>EASTERN CAPE</td>\n",
       "      <td>IA400</td>\n",
       "      <td>1S</td>\n",
       "      <td>400.0</td>\n",
       "      <td>APPLE GOLDEN DELICIOUS</td>\n",
       "      <td>2020-09-28</td>\n",
       "      <td>1800.0</td>\n",
       "      <td>1800.0</td>\n",
       "      <td>1800.0</td>\n",
       "      <td>1</td>\n",
       "      <td>400.0</td>\n",
       "      <td>2</td>\n",
       "      <td>4.50</td>\n",
       "    </tr>\n",
       "  </tbody>\n",
       "</table>\n",
       "</div>"
      ],
      "text/plain": [
       "                Province Container Size_Grade  Weight_Kg  \\\n",
       "1                   CAPE     M4183         1L       18.3   \n",
       "7                   CAPE     JG110         2M       11.0   \n",
       "24  W.CAPE-BERGRIVER ETC     JE090         2S        9.0   \n",
       "40                  CAPE     M4183         1S       18.3   \n",
       "69          EASTERN CAPE     IA400         1S      400.0   \n",
       "\n",
       "               Commodities        Date  Low_Price  High_Price  Sales_Total  \\\n",
       "1   APPLE GOLDEN DELICIOUS  2020-09-09      150.0       170.0      51710.0   \n",
       "7   APPLE GOLDEN DELICIOUS  2020-04-14       50.0        50.0      16000.0   \n",
       "24  APPLE GOLDEN DELICIOUS  2020-04-16       55.0        55.0        990.0   \n",
       "40  APPLE GOLDEN DELICIOUS  2020-05-04       80.0       120.0      32020.0   \n",
       "69  APPLE GOLDEN DELICIOUS  2020-09-28     1800.0      1800.0       1800.0   \n",
       "\n",
       "    Total_Qty_Sold  Total_Kg_Sold  Stock_On_Hand  avg_price_per_kg  \n",
       "1              332         6075.6            822              8.51  \n",
       "7              320         3520.0              0              4.55  \n",
       "24              18          162.0           1506              6.11  \n",
       "40             388         7100.4            443              4.51  \n",
       "69               1          400.0              2              4.50  "
      ]
     },
     "execution_count": 4,
     "metadata": {},
     "output_type": "execute_result"
    }
   ],
   "source": [
    "df_train.head()"
   ]
  },
  {
   "cell_type": "code",
   "execution_count": 5,
   "metadata": {},
   "outputs": [],
   "source": [
    "#df_test['Month'] = pd.to_datetime(df_test['Date'])\n",
    "#df_test['Month'] = df_test['Month'].dt.strftime('%d/%m/%Y', '%B')\n",
    "#df_test.head(20)"
   ]
  },
  {
   "cell_type": "code",
   "execution_count": 6,
   "metadata": {},
   "outputs": [
    {
     "data": {
      "text/plain": [
       "(1952, 13)"
      ]
     },
     "execution_count": 6,
     "metadata": {},
     "output_type": "execute_result"
    }
   ],
   "source": [
    "df_train.shape"
   ]
  },
  {
   "cell_type": "code",
   "execution_count": 7,
   "metadata": {},
   "outputs": [
    {
     "name": "stdout",
     "output_type": "stream",
     "text": [
      "<class 'pandas.core.frame.DataFrame'>\n",
      "Int64Index: 1952 entries, 1 to 64310\n",
      "Data columns (total 13 columns):\n",
      " #   Column            Non-Null Count  Dtype  \n",
      "---  ------            --------------  -----  \n",
      " 0   Province          1952 non-null   object \n",
      " 1   Container         1952 non-null   object \n",
      " 2   Size_Grade        1952 non-null   object \n",
      " 3   Weight_Kg         1952 non-null   float64\n",
      " 4   Commodities       1952 non-null   object \n",
      " 5   Date              1952 non-null   object \n",
      " 6   Low_Price         1952 non-null   float64\n",
      " 7   High_Price        1952 non-null   float64\n",
      " 8   Sales_Total       1952 non-null   float64\n",
      " 9   Total_Qty_Sold    1952 non-null   int64  \n",
      " 10  Total_Kg_Sold     1952 non-null   float64\n",
      " 11  Stock_On_Hand     1952 non-null   int64  \n",
      " 12  avg_price_per_kg  1952 non-null   float64\n",
      "dtypes: float64(6), int64(2), object(5)\n",
      "memory usage: 213.5+ KB\n"
     ]
    }
   ],
   "source": [
    "df_train.info()"
   ]
  },
  {
   "cell_type": "markdown",
   "metadata": {},
   "source": [
    "We can see that the `Date` variable has `object` data type, we need to change this. Let's convert `Date` variable to the right data type, `datetime`."
   ]
  },
  {
   "cell_type": "code",
   "execution_count": 8,
   "metadata": {},
   "outputs": [],
   "source": [
    "df_train['Date'] = pd.to_datetime(df_train['Date'])"
   ]
  },
  {
   "cell_type": "markdown",
   "metadata": {},
   "source": [
    "It's going to be hard to train our model using `Date` in its current format, let's break it down to `days`, `months`, and `years`."
   ]
  },
  {
   "cell_type": "code",
   "execution_count": 9,
   "metadata": {},
   "outputs": [],
   "source": [
    "df_train['Day'] = df_train['Date'].dt.strftime('%d')\n",
    "df_train['Month'] = df_train['Date'].dt.strftime('%B')\n",
    "df_train['Year'] = df_train['Date'].dt.strftime('%Y')"
   ]
  },
  {
   "cell_type": "code",
   "execution_count": 10,
   "metadata": {},
   "outputs": [
    {
     "data": {
      "text/html": [
       "<div>\n",
       "<style scoped>\n",
       "    .dataframe tbody tr th:only-of-type {\n",
       "        vertical-align: middle;\n",
       "    }\n",
       "\n",
       "    .dataframe tbody tr th {\n",
       "        vertical-align: top;\n",
       "    }\n",
       "\n",
       "    .dataframe thead th {\n",
       "        text-align: right;\n",
       "    }\n",
       "</style>\n",
       "<table border=\"1\" class=\"dataframe\">\n",
       "  <thead>\n",
       "    <tr style=\"text-align: right;\">\n",
       "      <th></th>\n",
       "      <th>Province</th>\n",
       "      <th>Container</th>\n",
       "      <th>Size_Grade</th>\n",
       "      <th>Weight_Kg</th>\n",
       "      <th>Commodities</th>\n",
       "      <th>Date</th>\n",
       "      <th>Low_Price</th>\n",
       "      <th>High_Price</th>\n",
       "      <th>Sales_Total</th>\n",
       "      <th>Total_Qty_Sold</th>\n",
       "      <th>Total_Kg_Sold</th>\n",
       "      <th>Stock_On_Hand</th>\n",
       "      <th>avg_price_per_kg</th>\n",
       "      <th>Day</th>\n",
       "      <th>Month</th>\n",
       "      <th>Year</th>\n",
       "    </tr>\n",
       "  </thead>\n",
       "  <tbody>\n",
       "    <tr>\n",
       "      <th>1</th>\n",
       "      <td>CAPE</td>\n",
       "      <td>M4183</td>\n",
       "      <td>1L</td>\n",
       "      <td>18.3</td>\n",
       "      <td>APPLE GOLDEN DELICIOUS</td>\n",
       "      <td>2020-09-09</td>\n",
       "      <td>150.0</td>\n",
       "      <td>170.0</td>\n",
       "      <td>51710.0</td>\n",
       "      <td>332</td>\n",
       "      <td>6075.6</td>\n",
       "      <td>822</td>\n",
       "      <td>8.51</td>\n",
       "      <td>09</td>\n",
       "      <td>September</td>\n",
       "      <td>2020</td>\n",
       "    </tr>\n",
       "    <tr>\n",
       "      <th>7</th>\n",
       "      <td>CAPE</td>\n",
       "      <td>JG110</td>\n",
       "      <td>2M</td>\n",
       "      <td>11.0</td>\n",
       "      <td>APPLE GOLDEN DELICIOUS</td>\n",
       "      <td>2020-04-14</td>\n",
       "      <td>50.0</td>\n",
       "      <td>50.0</td>\n",
       "      <td>16000.0</td>\n",
       "      <td>320</td>\n",
       "      <td>3520.0</td>\n",
       "      <td>0</td>\n",
       "      <td>4.55</td>\n",
       "      <td>14</td>\n",
       "      <td>April</td>\n",
       "      <td>2020</td>\n",
       "    </tr>\n",
       "    <tr>\n",
       "      <th>24</th>\n",
       "      <td>W.CAPE-BERGRIVER ETC</td>\n",
       "      <td>JE090</td>\n",
       "      <td>2S</td>\n",
       "      <td>9.0</td>\n",
       "      <td>APPLE GOLDEN DELICIOUS</td>\n",
       "      <td>2020-04-16</td>\n",
       "      <td>55.0</td>\n",
       "      <td>55.0</td>\n",
       "      <td>990.0</td>\n",
       "      <td>18</td>\n",
       "      <td>162.0</td>\n",
       "      <td>1506</td>\n",
       "      <td>6.11</td>\n",
       "      <td>16</td>\n",
       "      <td>April</td>\n",
       "      <td>2020</td>\n",
       "    </tr>\n",
       "    <tr>\n",
       "      <th>40</th>\n",
       "      <td>CAPE</td>\n",
       "      <td>M4183</td>\n",
       "      <td>1S</td>\n",
       "      <td>18.3</td>\n",
       "      <td>APPLE GOLDEN DELICIOUS</td>\n",
       "      <td>2020-05-04</td>\n",
       "      <td>80.0</td>\n",
       "      <td>120.0</td>\n",
       "      <td>32020.0</td>\n",
       "      <td>388</td>\n",
       "      <td>7100.4</td>\n",
       "      <td>443</td>\n",
       "      <td>4.51</td>\n",
       "      <td>04</td>\n",
       "      <td>May</td>\n",
       "      <td>2020</td>\n",
       "    </tr>\n",
       "    <tr>\n",
       "      <th>69</th>\n",
       "      <td>EASTERN CAPE</td>\n",
       "      <td>IA400</td>\n",
       "      <td>1S</td>\n",
       "      <td>400.0</td>\n",
       "      <td>APPLE GOLDEN DELICIOUS</td>\n",
       "      <td>2020-09-28</td>\n",
       "      <td>1800.0</td>\n",
       "      <td>1800.0</td>\n",
       "      <td>1800.0</td>\n",
       "      <td>1</td>\n",
       "      <td>400.0</td>\n",
       "      <td>2</td>\n",
       "      <td>4.50</td>\n",
       "      <td>28</td>\n",
       "      <td>September</td>\n",
       "      <td>2020</td>\n",
       "    </tr>\n",
       "  </tbody>\n",
       "</table>\n",
       "</div>"
      ],
      "text/plain": [
       "                Province Container Size_Grade  Weight_Kg  \\\n",
       "1                   CAPE     M4183         1L       18.3   \n",
       "7                   CAPE     JG110         2M       11.0   \n",
       "24  W.CAPE-BERGRIVER ETC     JE090         2S        9.0   \n",
       "40                  CAPE     M4183         1S       18.3   \n",
       "69          EASTERN CAPE     IA400         1S      400.0   \n",
       "\n",
       "               Commodities       Date  Low_Price  High_Price  Sales_Total  \\\n",
       "1   APPLE GOLDEN DELICIOUS 2020-09-09      150.0       170.0      51710.0   \n",
       "7   APPLE GOLDEN DELICIOUS 2020-04-14       50.0        50.0      16000.0   \n",
       "24  APPLE GOLDEN DELICIOUS 2020-04-16       55.0        55.0        990.0   \n",
       "40  APPLE GOLDEN DELICIOUS 2020-05-04       80.0       120.0      32020.0   \n",
       "69  APPLE GOLDEN DELICIOUS 2020-09-28     1800.0      1800.0       1800.0   \n",
       "\n",
       "    Total_Qty_Sold  Total_Kg_Sold  Stock_On_Hand  avg_price_per_kg Day  \\\n",
       "1              332         6075.6            822              8.51  09   \n",
       "7              320         3520.0              0              4.55  14   \n",
       "24              18          162.0           1506              6.11  16   \n",
       "40             388         7100.4            443              4.51  04   \n",
       "69               1          400.0              2              4.50  28   \n",
       "\n",
       "        Month  Year  \n",
       "1   September  2020  \n",
       "7       April  2020  \n",
       "24      April  2020  \n",
       "40        May  2020  \n",
       "69  September  2020  "
      ]
     },
     "execution_count": 10,
     "metadata": {},
     "output_type": "execute_result"
    }
   ],
   "source": [
    "df_train.head()"
   ]
  },
  {
   "cell_type": "markdown",
   "metadata": {},
   "source": [
    "Great!, we managed to break our data into days, months, and years. We should now check if our data contains any missing values."
   ]
  },
  {
   "cell_type": "code",
   "execution_count": 11,
   "metadata": {},
   "outputs": [
    {
     "data": {
      "text/plain": [
       "Province            0\n",
       "Container           0\n",
       "Size_Grade          0\n",
       "Weight_Kg           0\n",
       "Commodities         0\n",
       "Date                0\n",
       "Low_Price           0\n",
       "High_Price          0\n",
       "Sales_Total         0\n",
       "Total_Qty_Sold      0\n",
       "Total_Kg_Sold       0\n",
       "Stock_On_Hand       0\n",
       "avg_price_per_kg    0\n",
       "Day                 0\n",
       "Month               0\n",
       "Year                0\n",
       "dtype: int64"
      ]
     },
     "execution_count": 11,
     "metadata": {},
     "output_type": "execute_result"
    }
   ],
   "source": [
    "df_train.isnull().sum()"
   ]
  },
  {
   "cell_type": "code",
   "execution_count": 12,
   "metadata": {},
   "outputs": [
    {
     "data": {
      "text/html": [
       "<div>\n",
       "<style scoped>\n",
       "    .dataframe tbody tr th:only-of-type {\n",
       "        vertical-align: middle;\n",
       "    }\n",
       "\n",
       "    .dataframe tbody tr th {\n",
       "        vertical-align: top;\n",
       "    }\n",
       "\n",
       "    .dataframe thead th {\n",
       "        text-align: right;\n",
       "    }\n",
       "</style>\n",
       "<table border=\"1\" class=\"dataframe\">\n",
       "  <thead>\n",
       "    <tr style=\"text-align: right;\">\n",
       "      <th></th>\n",
       "      <th>Weight_Kg</th>\n",
       "      <th>Low_Price</th>\n",
       "      <th>High_Price</th>\n",
       "      <th>Sales_Total</th>\n",
       "      <th>Total_Qty_Sold</th>\n",
       "      <th>Total_Kg_Sold</th>\n",
       "      <th>Stock_On_Hand</th>\n",
       "      <th>avg_price_per_kg</th>\n",
       "    </tr>\n",
       "  </thead>\n",
       "  <tbody>\n",
       "    <tr>\n",
       "      <th>count</th>\n",
       "      <td>1952.000000</td>\n",
       "      <td>1952.000000</td>\n",
       "      <td>1952.000000</td>\n",
       "      <td>1952.000000</td>\n",
       "      <td>1952.000000</td>\n",
       "      <td>1952.000000</td>\n",
       "      <td>1952.000000</td>\n",
       "      <td>1952.000000</td>\n",
       "    </tr>\n",
       "    <tr>\n",
       "      <th>mean</th>\n",
       "      <td>40.460912</td>\n",
       "      <td>174.307377</td>\n",
       "      <td>215.648053</td>\n",
       "      <td>20053.533811</td>\n",
       "      <td>174.510758</td>\n",
       "      <td>2960.176332</td>\n",
       "      <td>408.393955</td>\n",
       "      <td>6.778893</td>\n",
       "    </tr>\n",
       "    <tr>\n",
       "      <th>std</th>\n",
       "      <td>99.655169</td>\n",
       "      <td>373.553578</td>\n",
       "      <td>433.546159</td>\n",
       "      <td>39005.069445</td>\n",
       "      <td>308.810797</td>\n",
       "      <td>6097.416527</td>\n",
       "      <td>724.450582</td>\n",
       "      <td>2.248744</td>\n",
       "    </tr>\n",
       "    <tr>\n",
       "      <th>min</th>\n",
       "      <td>3.000000</td>\n",
       "      <td>2.000000</td>\n",
       "      <td>5.000000</td>\n",
       "      <td>5.000000</td>\n",
       "      <td>1.000000</td>\n",
       "      <td>3.000000</td>\n",
       "      <td>0.000000</td>\n",
       "      <td>0.250000</td>\n",
       "    </tr>\n",
       "    <tr>\n",
       "      <th>25%</th>\n",
       "      <td>9.000000</td>\n",
       "      <td>50.000000</td>\n",
       "      <td>60.000000</td>\n",
       "      <td>1325.000000</td>\n",
       "      <td>12.000000</td>\n",
       "      <td>219.600000</td>\n",
       "      <td>9.000000</td>\n",
       "      <td>5.460000</td>\n",
       "    </tr>\n",
       "    <tr>\n",
       "      <th>50%</th>\n",
       "      <td>12.000000</td>\n",
       "      <td>80.000000</td>\n",
       "      <td>108.000000</td>\n",
       "      <td>5495.000000</td>\n",
       "      <td>64.000000</td>\n",
       "      <td>853.500000</td>\n",
       "      <td>126.500000</td>\n",
       "      <td>6.670000</td>\n",
       "    </tr>\n",
       "    <tr>\n",
       "      <th>75%</th>\n",
       "      <td>18.300000</td>\n",
       "      <td>127.250000</td>\n",
       "      <td>160.000000</td>\n",
       "      <td>21082.500000</td>\n",
       "      <td>200.000000</td>\n",
       "      <td>3093.525000</td>\n",
       "      <td>468.000000</td>\n",
       "      <td>8.280000</td>\n",
       "    </tr>\n",
       "    <tr>\n",
       "      <th>max</th>\n",
       "      <td>400.000000</td>\n",
       "      <td>2300.000000</td>\n",
       "      <td>3300.000000</td>\n",
       "      <td>369464.000000</td>\n",
       "      <td>4237.000000</td>\n",
       "      <td>74000.000000</td>\n",
       "      <td>6400.000000</td>\n",
       "      <td>21.240000</td>\n",
       "    </tr>\n",
       "  </tbody>\n",
       "</table>\n",
       "</div>"
      ],
      "text/plain": [
       "         Weight_Kg    Low_Price   High_Price    Sales_Total  Total_Qty_Sold  \\\n",
       "count  1952.000000  1952.000000  1952.000000    1952.000000     1952.000000   \n",
       "mean     40.460912   174.307377   215.648053   20053.533811      174.510758   \n",
       "std      99.655169   373.553578   433.546159   39005.069445      308.810797   \n",
       "min       3.000000     2.000000     5.000000       5.000000        1.000000   \n",
       "25%       9.000000    50.000000    60.000000    1325.000000       12.000000   \n",
       "50%      12.000000    80.000000   108.000000    5495.000000       64.000000   \n",
       "75%      18.300000   127.250000   160.000000   21082.500000      200.000000   \n",
       "max     400.000000  2300.000000  3300.000000  369464.000000     4237.000000   \n",
       "\n",
       "       Total_Kg_Sold  Stock_On_Hand  avg_price_per_kg  \n",
       "count    1952.000000    1952.000000       1952.000000  \n",
       "mean     2960.176332     408.393955          6.778893  \n",
       "std      6097.416527     724.450582          2.248744  \n",
       "min         3.000000       0.000000          0.250000  \n",
       "25%       219.600000       9.000000          5.460000  \n",
       "50%       853.500000     126.500000          6.670000  \n",
       "75%      3093.525000     468.000000          8.280000  \n",
       "max     74000.000000    6400.000000         21.240000  "
      ]
     },
     "execution_count": 12,
     "metadata": {},
     "output_type": "execute_result"
    }
   ],
   "source": [
    "df_train.describe()"
   ]
  },
  {
   "cell_type": "code",
   "execution_count": 13,
   "metadata": {},
   "outputs": [
    {
     "data": {
      "text/plain": [
       "1228     21.24\n",
       "56010    15.30\n",
       "52490    14.21\n",
       "30489    14.21\n",
       "49021    14.21\n",
       "Name: avg_price_per_kg, dtype: float64"
      ]
     },
     "execution_count": 13,
     "metadata": {},
     "output_type": "execute_result"
    }
   ],
   "source": [
    "df_train.avg_price_per_kg.sort_values(ascending = False).head()"
   ]
  },
  {
   "cell_type": "code",
   "execution_count": 14,
   "metadata": {},
   "outputs": [
    {
     "data": {
      "text/plain": [
       "51356    400.0\n",
       "57277    400.0\n",
       "Name: Weight_Kg, dtype: float64"
      ]
     },
     "execution_count": 14,
     "metadata": {},
     "output_type": "execute_result"
    }
   ],
   "source": [
    "df_train.Weight_Kg.sort_values(ascending = False).head(2)"
   ]
  },
  {
   "cell_type": "code",
   "execution_count": null,
   "metadata": {},
   "outputs": [],
   "source": []
  },
  {
   "cell_type": "markdown",
   "metadata": {},
   "source": [
    "### Test Data"
   ]
  },
  {
   "cell_type": "code",
   "execution_count": 15,
   "metadata": {},
   "outputs": [
    {
     "data": {
      "text/html": [
       "<div>\n",
       "<style scoped>\n",
       "    .dataframe tbody tr th:only-of-type {\n",
       "        vertical-align: middle;\n",
       "    }\n",
       "\n",
       "    .dataframe tbody tr th {\n",
       "        vertical-align: top;\n",
       "    }\n",
       "\n",
       "    .dataframe thead th {\n",
       "        text-align: right;\n",
       "    }\n",
       "</style>\n",
       "<table border=\"1\" class=\"dataframe\">\n",
       "  <thead>\n",
       "    <tr style=\"text-align: right;\">\n",
       "      <th></th>\n",
       "      <th>Province</th>\n",
       "      <th>Container</th>\n",
       "      <th>Size_Grade</th>\n",
       "      <th>Weight_Kg</th>\n",
       "      <th>Commodities</th>\n",
       "      <th>Date</th>\n",
       "      <th>Low_Price</th>\n",
       "      <th>High_Price</th>\n",
       "      <th>Sales_Total</th>\n",
       "      <th>Total_Qty_Sold</th>\n",
       "      <th>Total_Kg_Sold</th>\n",
       "      <th>Stock_On_Hand</th>\n",
       "    </tr>\n",
       "  </thead>\n",
       "  <tbody>\n",
       "    <tr>\n",
       "      <th>0</th>\n",
       "      <td>W.CAPE-BERGRIVER ETC</td>\n",
       "      <td>EC120</td>\n",
       "      <td>1M</td>\n",
       "      <td>12.0</td>\n",
       "      <td>APPLE GOLDEN DELICIOUS</td>\n",
       "      <td>2020-07-09</td>\n",
       "      <td>128.0</td>\n",
       "      <td>136.0</td>\n",
       "      <td>5008.0</td>\n",
       "      <td>38</td>\n",
       "      <td>456.0</td>\n",
       "      <td>0</td>\n",
       "    </tr>\n",
       "    <tr>\n",
       "      <th>1</th>\n",
       "      <td>W.CAPE-BERGRIVER ETC</td>\n",
       "      <td>M4183</td>\n",
       "      <td>1X</td>\n",
       "      <td>18.3</td>\n",
       "      <td>APPLE GOLDEN DELICIOUS</td>\n",
       "      <td>2020-01-20</td>\n",
       "      <td>220.0</td>\n",
       "      <td>220.0</td>\n",
       "      <td>1760.0</td>\n",
       "      <td>8</td>\n",
       "      <td>146.4</td>\n",
       "      <td>2</td>\n",
       "    </tr>\n",
       "  </tbody>\n",
       "</table>\n",
       "</div>"
      ],
      "text/plain": [
       "               Province Container Size_Grade  Weight_Kg  \\\n",
       "0  W.CAPE-BERGRIVER ETC     EC120         1M       12.0   \n",
       "1  W.CAPE-BERGRIVER ETC     M4183         1X       18.3   \n",
       "\n",
       "              Commodities        Date  Low_Price  High_Price  Sales_Total  \\\n",
       "0  APPLE GOLDEN DELICIOUS  2020-07-09      128.0       136.0       5008.0   \n",
       "1  APPLE GOLDEN DELICIOUS  2020-01-20      220.0       220.0       1760.0   \n",
       "\n",
       "   Total_Qty_Sold  Total_Kg_Sold  Stock_On_Hand  \n",
       "0              38          456.0              0  \n",
       "1               8          146.4              2  "
      ]
     },
     "execution_count": 15,
     "metadata": {},
     "output_type": "execute_result"
    }
   ],
   "source": [
    "df_test.head(2)"
   ]
  },
  {
   "cell_type": "code",
   "execution_count": 16,
   "metadata": {},
   "outputs": [
    {
     "data": {
      "text/plain": [
       "Index(['Province', 'Container', 'Size_Grade', 'Weight_Kg', 'Commodities',\n",
       "       'Date', 'Low_Price', 'High_Price', 'Sales_Total', 'Total_Qty_Sold',\n",
       "       'Total_Kg_Sold', 'Stock_On_Hand'],\n",
       "      dtype='object')"
      ]
     },
     "execution_count": 16,
     "metadata": {},
     "output_type": "execute_result"
    }
   ],
   "source": [
    "df_test.columns"
   ]
  },
  {
   "cell_type": "code",
   "execution_count": 17,
   "metadata": {},
   "outputs": [
    {
     "name": "stdout",
     "output_type": "stream",
     "text": [
      "<class 'pandas.core.frame.DataFrame'>\n",
      "RangeIndex: 685 entries, 0 to 684\n",
      "Data columns (total 12 columns):\n",
      " #   Column          Non-Null Count  Dtype  \n",
      "---  ------          --------------  -----  \n",
      " 0   Province        685 non-null    object \n",
      " 1   Container       685 non-null    object \n",
      " 2   Size_Grade      685 non-null    object \n",
      " 3   Weight_Kg       685 non-null    float64\n",
      " 4   Commodities     685 non-null    object \n",
      " 5   Date            685 non-null    object \n",
      " 6   Low_Price       685 non-null    float64\n",
      " 7   High_Price      685 non-null    float64\n",
      " 8   Sales_Total     685 non-null    float64\n",
      " 9   Total_Qty_Sold  685 non-null    int64  \n",
      " 10  Total_Kg_Sold   685 non-null    float64\n",
      " 11  Stock_On_Hand   685 non-null    int64  \n",
      "dtypes: float64(5), int64(2), object(5)\n",
      "memory usage: 64.3+ KB\n"
     ]
    }
   ],
   "source": [
    "df_test.info()"
   ]
  },
  {
   "cell_type": "markdown",
   "metadata": {},
   "source": [
    "We need to also convert our test data `Date` column to datetime, break down the `Date` column into `days, months, and years`. "
   ]
  },
  {
   "cell_type": "code",
   "execution_count": 18,
   "metadata": {},
   "outputs": [],
   "source": [
    "df_test['Date'] = pd.to_datetime(df_test['Date'])"
   ]
  },
  {
   "cell_type": "code",
   "execution_count": 19,
   "metadata": {},
   "outputs": [],
   "source": [
    "df_test['Day'] = df_test['Date'].dt.strftime('%d')\n",
    "df_test['Month'] = df_test['Date'].dt.strftime('%B')\n",
    "df_test['Year'] = df_test['Date'].dt.strftime('%Y')"
   ]
  },
  {
   "cell_type": "code",
   "execution_count": 20,
   "metadata": {},
   "outputs": [
    {
     "data": {
      "text/html": [
       "<div>\n",
       "<style scoped>\n",
       "    .dataframe tbody tr th:only-of-type {\n",
       "        vertical-align: middle;\n",
       "    }\n",
       "\n",
       "    .dataframe tbody tr th {\n",
       "        vertical-align: top;\n",
       "    }\n",
       "\n",
       "    .dataframe thead th {\n",
       "        text-align: right;\n",
       "    }\n",
       "</style>\n",
       "<table border=\"1\" class=\"dataframe\">\n",
       "  <thead>\n",
       "    <tr style=\"text-align: right;\">\n",
       "      <th></th>\n",
       "      <th>Province</th>\n",
       "      <th>Container</th>\n",
       "      <th>Size_Grade</th>\n",
       "      <th>Weight_Kg</th>\n",
       "      <th>Commodities</th>\n",
       "      <th>Date</th>\n",
       "      <th>Low_Price</th>\n",
       "      <th>High_Price</th>\n",
       "      <th>Sales_Total</th>\n",
       "      <th>Total_Qty_Sold</th>\n",
       "      <th>Total_Kg_Sold</th>\n",
       "      <th>Stock_On_Hand</th>\n",
       "      <th>Day</th>\n",
       "      <th>Month</th>\n",
       "      <th>Year</th>\n",
       "    </tr>\n",
       "  </thead>\n",
       "  <tbody>\n",
       "    <tr>\n",
       "      <th>0</th>\n",
       "      <td>W.CAPE-BERGRIVER ETC</td>\n",
       "      <td>EC120</td>\n",
       "      <td>1M</td>\n",
       "      <td>12.0</td>\n",
       "      <td>APPLE GOLDEN DELICIOUS</td>\n",
       "      <td>2020-07-09</td>\n",
       "      <td>128.0</td>\n",
       "      <td>136.0</td>\n",
       "      <td>5008.0</td>\n",
       "      <td>38</td>\n",
       "      <td>456.0</td>\n",
       "      <td>0</td>\n",
       "      <td>09</td>\n",
       "      <td>July</td>\n",
       "      <td>2020</td>\n",
       "    </tr>\n",
       "    <tr>\n",
       "      <th>1</th>\n",
       "      <td>W.CAPE-BERGRIVER ETC</td>\n",
       "      <td>M4183</td>\n",
       "      <td>1X</td>\n",
       "      <td>18.3</td>\n",
       "      <td>APPLE GOLDEN DELICIOUS</td>\n",
       "      <td>2020-01-20</td>\n",
       "      <td>220.0</td>\n",
       "      <td>220.0</td>\n",
       "      <td>1760.0</td>\n",
       "      <td>8</td>\n",
       "      <td>146.4</td>\n",
       "      <td>2</td>\n",
       "      <td>20</td>\n",
       "      <td>January</td>\n",
       "      <td>2020</td>\n",
       "    </tr>\n",
       "    <tr>\n",
       "      <th>2</th>\n",
       "      <td>W.CAPE-BERGRIVER ETC</td>\n",
       "      <td>EC120</td>\n",
       "      <td>1S</td>\n",
       "      <td>12.0</td>\n",
       "      <td>APPLE GOLDEN DELICIOUS</td>\n",
       "      <td>2020-08-19</td>\n",
       "      <td>120.0</td>\n",
       "      <td>120.0</td>\n",
       "      <td>720.0</td>\n",
       "      <td>6</td>\n",
       "      <td>72.0</td>\n",
       "      <td>45</td>\n",
       "      <td>19</td>\n",
       "      <td>August</td>\n",
       "      <td>2020</td>\n",
       "    </tr>\n",
       "    <tr>\n",
       "      <th>3</th>\n",
       "      <td>W.CAPE-BERGRIVER ETC</td>\n",
       "      <td>M4183</td>\n",
       "      <td>1M</td>\n",
       "      <td>18.3</td>\n",
       "      <td>APPLE GOLDEN DELICIOUS</td>\n",
       "      <td>2020-05-06</td>\n",
       "      <td>160.0</td>\n",
       "      <td>160.0</td>\n",
       "      <td>160.0</td>\n",
       "      <td>1</td>\n",
       "      <td>18.3</td>\n",
       "      <td>8</td>\n",
       "      <td>06</td>\n",
       "      <td>May</td>\n",
       "      <td>2020</td>\n",
       "    </tr>\n",
       "    <tr>\n",
       "      <th>4</th>\n",
       "      <td>W.CAPE-BERGRIVER ETC</td>\n",
       "      <td>M4183</td>\n",
       "      <td>1L</td>\n",
       "      <td>18.3</td>\n",
       "      <td>APPLE GOLDEN DELICIOUS</td>\n",
       "      <td>2020-05-04</td>\n",
       "      <td>140.0</td>\n",
       "      <td>160.0</td>\n",
       "      <td>14140.0</td>\n",
       "      <td>100</td>\n",
       "      <td>1830.0</td>\n",
       "      <td>19</td>\n",
       "      <td>04</td>\n",
       "      <td>May</td>\n",
       "      <td>2020</td>\n",
       "    </tr>\n",
       "  </tbody>\n",
       "</table>\n",
       "</div>"
      ],
      "text/plain": [
       "               Province Container Size_Grade  Weight_Kg  \\\n",
       "0  W.CAPE-BERGRIVER ETC     EC120         1M       12.0   \n",
       "1  W.CAPE-BERGRIVER ETC     M4183         1X       18.3   \n",
       "2  W.CAPE-BERGRIVER ETC     EC120         1S       12.0   \n",
       "3  W.CAPE-BERGRIVER ETC     M4183         1M       18.3   \n",
       "4  W.CAPE-BERGRIVER ETC     M4183         1L       18.3   \n",
       "\n",
       "              Commodities       Date  Low_Price  High_Price  Sales_Total  \\\n",
       "0  APPLE GOLDEN DELICIOUS 2020-07-09      128.0       136.0       5008.0   \n",
       "1  APPLE GOLDEN DELICIOUS 2020-01-20      220.0       220.0       1760.0   \n",
       "2  APPLE GOLDEN DELICIOUS 2020-08-19      120.0       120.0        720.0   \n",
       "3  APPLE GOLDEN DELICIOUS 2020-05-06      160.0       160.0        160.0   \n",
       "4  APPLE GOLDEN DELICIOUS 2020-05-04      140.0       160.0      14140.0   \n",
       "\n",
       "   Total_Qty_Sold  Total_Kg_Sold  Stock_On_Hand Day    Month  Year  \n",
       "0              38          456.0              0  09     July  2020  \n",
       "1               8          146.4              2  20  January  2020  \n",
       "2               6           72.0             45  19   August  2020  \n",
       "3               1           18.3              8  06      May  2020  \n",
       "4             100         1830.0             19  04      May  2020  "
      ]
     },
     "execution_count": 20,
     "metadata": {},
     "output_type": "execute_result"
    }
   ],
   "source": [
    "df_test.head()"
   ]
  },
  {
   "cell_type": "code",
   "execution_count": null,
   "metadata": {},
   "outputs": [],
   "source": []
  },
  {
   "cell_type": "code",
   "execution_count": 21,
   "metadata": {},
   "outputs": [
    {
     "data": {
      "text/html": [
       "<div>\n",
       "<style scoped>\n",
       "    .dataframe tbody tr th:only-of-type {\n",
       "        vertical-align: middle;\n",
       "    }\n",
       "\n",
       "    .dataframe tbody tr th {\n",
       "        vertical-align: top;\n",
       "    }\n",
       "\n",
       "    .dataframe thead th {\n",
       "        text-align: right;\n",
       "    }\n",
       "</style>\n",
       "<table border=\"1\" class=\"dataframe\">\n",
       "  <thead>\n",
       "    <tr style=\"text-align: right;\">\n",
       "      <th></th>\n",
       "      <th>Weight_Kg</th>\n",
       "      <th>Low_Price</th>\n",
       "      <th>High_Price</th>\n",
       "      <th>Sales_Total</th>\n",
       "      <th>Total_Qty_Sold</th>\n",
       "      <th>Total_Kg_Sold</th>\n",
       "      <th>Stock_On_Hand</th>\n",
       "    </tr>\n",
       "  </thead>\n",
       "  <tbody>\n",
       "    <tr>\n",
       "      <th>count</th>\n",
       "      <td>685.000000</td>\n",
       "      <td>685.000000</td>\n",
       "      <td>685.000000</td>\n",
       "      <td>685.000000</td>\n",
       "      <td>685.000000</td>\n",
       "      <td>685.000000</td>\n",
       "      <td>685.000000</td>\n",
       "    </tr>\n",
       "    <tr>\n",
       "      <th>mean</th>\n",
       "      <td>34.142482</td>\n",
       "      <td>164.202891</td>\n",
       "      <td>195.590073</td>\n",
       "      <td>18788.111212</td>\n",
       "      <td>174.883212</td>\n",
       "      <td>2725.402336</td>\n",
       "      <td>439.245255</td>\n",
       "    </tr>\n",
       "    <tr>\n",
       "      <th>std</th>\n",
       "      <td>87.575995</td>\n",
       "      <td>355.167319</td>\n",
       "      <td>389.109476</td>\n",
       "      <td>33951.586813</td>\n",
       "      <td>299.351142</td>\n",
       "      <td>5059.123311</td>\n",
       "      <td>715.985761</td>\n",
       "    </tr>\n",
       "    <tr>\n",
       "      <th>min</th>\n",
       "      <td>3.000000</td>\n",
       "      <td>10.000000</td>\n",
       "      <td>10.000000</td>\n",
       "      <td>10.000000</td>\n",
       "      <td>1.000000</td>\n",
       "      <td>6.300000</td>\n",
       "      <td>0.000000</td>\n",
       "    </tr>\n",
       "    <tr>\n",
       "      <th>25%</th>\n",
       "      <td>9.000000</td>\n",
       "      <td>50.000000</td>\n",
       "      <td>64.000000</td>\n",
       "      <td>1300.000000</td>\n",
       "      <td>13.000000</td>\n",
       "      <td>204.000000</td>\n",
       "      <td>20.000000</td>\n",
       "    </tr>\n",
       "    <tr>\n",
       "      <th>50%</th>\n",
       "      <td>12.000000</td>\n",
       "      <td>80.000000</td>\n",
       "      <td>112.000000</td>\n",
       "      <td>5520.000000</td>\n",
       "      <td>62.000000</td>\n",
       "      <td>860.100000</td>\n",
       "      <td>153.000000</td>\n",
       "    </tr>\n",
       "    <tr>\n",
       "      <th>75%</th>\n",
       "      <td>18.300000</td>\n",
       "      <td>128.000000</td>\n",
       "      <td>160.000000</td>\n",
       "      <td>21176.000000</td>\n",
       "      <td>200.000000</td>\n",
       "      <td>3033.000000</td>\n",
       "      <td>516.000000</td>\n",
       "    </tr>\n",
       "    <tr>\n",
       "      <th>max</th>\n",
       "      <td>400.000000</td>\n",
       "      <td>2400.000000</td>\n",
       "      <td>2400.000000</td>\n",
       "      <td>308010.000000</td>\n",
       "      <td>2774.000000</td>\n",
       "      <td>47200.000000</td>\n",
       "      <td>6827.000000</td>\n",
       "    </tr>\n",
       "  </tbody>\n",
       "</table>\n",
       "</div>"
      ],
      "text/plain": [
       "        Weight_Kg    Low_Price   High_Price    Sales_Total  Total_Qty_Sold  \\\n",
       "count  685.000000   685.000000   685.000000     685.000000      685.000000   \n",
       "mean    34.142482   164.202891   195.590073   18788.111212      174.883212   \n",
       "std     87.575995   355.167319   389.109476   33951.586813      299.351142   \n",
       "min      3.000000    10.000000    10.000000      10.000000        1.000000   \n",
       "25%      9.000000    50.000000    64.000000    1300.000000       13.000000   \n",
       "50%     12.000000    80.000000   112.000000    5520.000000       62.000000   \n",
       "75%     18.300000   128.000000   160.000000   21176.000000      200.000000   \n",
       "max    400.000000  2400.000000  2400.000000  308010.000000     2774.000000   \n",
       "\n",
       "       Total_Kg_Sold  Stock_On_Hand  \n",
       "count     685.000000     685.000000  \n",
       "mean     2725.402336     439.245255  \n",
       "std      5059.123311     715.985761  \n",
       "min         6.300000       0.000000  \n",
       "25%       204.000000      20.000000  \n",
       "50%       860.100000     153.000000  \n",
       "75%      3033.000000     516.000000  \n",
       "max     47200.000000    6827.000000  "
      ]
     },
     "execution_count": 21,
     "metadata": {},
     "output_type": "execute_result"
    }
   ],
   "source": [
    "df_test.describe()"
   ]
  },
  {
   "cell_type": "markdown",
   "metadata": {},
   "source": [
    "### Functions"
   ]
  },
  {
   "cell_type": "code",
   "execution_count": 22,
   "metadata": {},
   "outputs": [],
   "source": [
    "# Seasons Generating Function\n",
    "def season(x):\n",
    "    #date_str = [str(i) for i in x]\n",
    "    months = list(x.dt.strftime('%m'))\n",
    "    \n",
    "    dict_ = {'01': 'Summer',\n",
    "             '02': 'Summer',\n",
    "             '03': 'Autumn',\n",
    "             '04': 'Autumn',\n",
    "             '05': 'Autumn',\n",
    "             '06': 'Winter',\n",
    "             '07': 'Winter',\n",
    "             '08': 'Winter',\n",
    "             '09': 'Spring',\n",
    "             '10': 'Spring',\n",
    "             '11': 'Spring',\n",
    "             '12': 'Summer'}\n",
    "    \n",
    "    seasons = [dict_[month] for month in months] \n",
    "    \n",
    "    return seasons"
   ]
  },
  {
   "cell_type": "code",
   "execution_count": null,
   "metadata": {},
   "outputs": [],
   "source": [
    "# Seasons Generating Function\n",
    "def get_season():\n",
    "    \n",
    "    train_months = list(df_train['Date'].dt.strftime('%m'))\n",
    "    train_months = list(df_test['Date'].dt.strftime('%m'))\n",
    "    \n",
    "    dict_ = {'01': 'Summer',\n",
    "             '02': 'Summer',\n",
    "             '03': 'Autumn',\n",
    "             '04': 'Autumn',\n",
    "             '05': 'Autumn',\n",
    "             '06': 'Winter',\n",
    "             '07': 'Winter',\n",
    "             '08': 'Winter',\n",
    "             '09': 'Spring',\n",
    "             '10': 'Spring',\n",
    "             '11': 'Spring',\n",
    "             '12': 'Summer'}\n",
    "    \n",
    "    seasons = [dict_[month] for month in months] \n",
    "    \n",
    "    return seasons"
   ]
  },
  {
   "cell_type": "code",
   "execution_count": 102,
   "metadata": {},
   "outputs": [
    {
     "data": {
      "text/html": [
       "<div>\n",
       "<style scoped>\n",
       "    .dataframe tbody tr th:only-of-type {\n",
       "        vertical-align: middle;\n",
       "    }\n",
       "\n",
       "    .dataframe tbody tr th {\n",
       "        vertical-align: top;\n",
       "    }\n",
       "\n",
       "    .dataframe thead th {\n",
       "        text-align: right;\n",
       "    }\n",
       "</style>\n",
       "<table border=\"1\" class=\"dataframe\">\n",
       "  <thead>\n",
       "    <tr style=\"text-align: right;\">\n",
       "      <th></th>\n",
       "      <th>Province</th>\n",
       "      <th>Container</th>\n",
       "      <th>Size_Grade</th>\n",
       "      <th>Weight_Kg</th>\n",
       "      <th>Commodities</th>\n",
       "      <th>Date</th>\n",
       "      <th>Low_Price</th>\n",
       "      <th>High_Price</th>\n",
       "      <th>Sales_Total</th>\n",
       "      <th>Total_Qty_Sold</th>\n",
       "      <th>Total_Kg_Sold</th>\n",
       "      <th>Stock_On_Hand</th>\n",
       "      <th>avg_price_per_kg</th>\n",
       "      <th>Day</th>\n",
       "      <th>Month</th>\n",
       "      <th>Year</th>\n",
       "      <th>Season</th>\n",
       "    </tr>\n",
       "  </thead>\n",
       "  <tbody>\n",
       "    <tr>\n",
       "      <th>1</th>\n",
       "      <td>CAPE</td>\n",
       "      <td>M4183</td>\n",
       "      <td>1L</td>\n",
       "      <td>18.3</td>\n",
       "      <td>APPLE GOLDEN DELICIOUS</td>\n",
       "      <td>2020-09-09</td>\n",
       "      <td>150.0</td>\n",
       "      <td>170.0</td>\n",
       "      <td>51710.0</td>\n",
       "      <td>332</td>\n",
       "      <td>6075.6</td>\n",
       "      <td>822</td>\n",
       "      <td>8.51</td>\n",
       "      <td>09</td>\n",
       "      <td>September</td>\n",
       "      <td>2020</td>\n",
       "      <td>Autumn</td>\n",
       "    </tr>\n",
       "    <tr>\n",
       "      <th>7</th>\n",
       "      <td>CAPE</td>\n",
       "      <td>JG110</td>\n",
       "      <td>2M</td>\n",
       "      <td>11.0</td>\n",
       "      <td>APPLE GOLDEN DELICIOUS</td>\n",
       "      <td>2020-04-14</td>\n",
       "      <td>50.0</td>\n",
       "      <td>50.0</td>\n",
       "      <td>16000.0</td>\n",
       "      <td>320</td>\n",
       "      <td>3520.0</td>\n",
       "      <td>0</td>\n",
       "      <td>4.55</td>\n",
       "      <td>14</td>\n",
       "      <td>April</td>\n",
       "      <td>2020</td>\n",
       "      <td>Winter</td>\n",
       "    </tr>\n",
       "  </tbody>\n",
       "</table>\n",
       "</div>"
      ],
      "text/plain": [
       "  Province Container Size_Grade  Weight_Kg             Commodities       Date  \\\n",
       "1     CAPE     M4183         1L       18.3  APPLE GOLDEN DELICIOUS 2020-09-09   \n",
       "7     CAPE     JG110         2M       11.0  APPLE GOLDEN DELICIOUS 2020-04-14   \n",
       "\n",
       "   Low_Price  High_Price  Sales_Total  Total_Qty_Sold  Total_Kg_Sold  \\\n",
       "1      150.0       170.0      51710.0             332         6075.6   \n",
       "7       50.0        50.0      16000.0             320         3520.0   \n",
       "\n",
       "   Stock_On_Hand  avg_price_per_kg Day      Month  Year  Season  \n",
       "1            822              8.51  09  September  2020  Autumn  \n",
       "7              0              4.55  14      April  2020  Winter  "
      ]
     },
     "execution_count": 102,
     "metadata": {},
     "output_type": "execute_result"
    }
   ],
   "source": [
    "#df_train['Season'] = pd.DataFrame(season(df_train['Date']))\n",
    "#df_train.head(2)"
   ]
  },
  {
   "cell_type": "code",
   "execution_count": 103,
   "metadata": {},
   "outputs": [
    {
     "data": {
      "text/html": [
       "<div>\n",
       "<style scoped>\n",
       "    .dataframe tbody tr th:only-of-type {\n",
       "        vertical-align: middle;\n",
       "    }\n",
       "\n",
       "    .dataframe tbody tr th {\n",
       "        vertical-align: top;\n",
       "    }\n",
       "\n",
       "    .dataframe thead th {\n",
       "        text-align: right;\n",
       "    }\n",
       "</style>\n",
       "<table border=\"1\" class=\"dataframe\">\n",
       "  <thead>\n",
       "    <tr style=\"text-align: right;\">\n",
       "      <th></th>\n",
       "      <th>Province</th>\n",
       "      <th>Container</th>\n",
       "      <th>Size_Grade</th>\n",
       "      <th>Weight_Kg</th>\n",
       "      <th>Commodities</th>\n",
       "      <th>Date</th>\n",
       "      <th>Low_Price</th>\n",
       "      <th>High_Price</th>\n",
       "      <th>Sales_Total</th>\n",
       "      <th>Total_Qty_Sold</th>\n",
       "      <th>Total_Kg_Sold</th>\n",
       "      <th>Stock_On_Hand</th>\n",
       "      <th>Day</th>\n",
       "      <th>Month</th>\n",
       "      <th>Year</th>\n",
       "      <th>Season</th>\n",
       "    </tr>\n",
       "  </thead>\n",
       "  <tbody>\n",
       "    <tr>\n",
       "      <th>0</th>\n",
       "      <td>W.CAPE-BERGRIVER ETC</td>\n",
       "      <td>EC120</td>\n",
       "      <td>1M</td>\n",
       "      <td>12.0</td>\n",
       "      <td>APPLE GOLDEN DELICIOUS</td>\n",
       "      <td>2020-07-09</td>\n",
       "      <td>128.0</td>\n",
       "      <td>136.0</td>\n",
       "      <td>5008.0</td>\n",
       "      <td>38</td>\n",
       "      <td>456.0</td>\n",
       "      <td>0</td>\n",
       "      <td>09</td>\n",
       "      <td>July</td>\n",
       "      <td>2020</td>\n",
       "      <td>Winter</td>\n",
       "    </tr>\n",
       "    <tr>\n",
       "      <th>1</th>\n",
       "      <td>W.CAPE-BERGRIVER ETC</td>\n",
       "      <td>M4183</td>\n",
       "      <td>1X</td>\n",
       "      <td>18.3</td>\n",
       "      <td>APPLE GOLDEN DELICIOUS</td>\n",
       "      <td>2020-01-20</td>\n",
       "      <td>220.0</td>\n",
       "      <td>220.0</td>\n",
       "      <td>1760.0</td>\n",
       "      <td>8</td>\n",
       "      <td>146.4</td>\n",
       "      <td>2</td>\n",
       "      <td>20</td>\n",
       "      <td>January</td>\n",
       "      <td>2020</td>\n",
       "      <td>Summer</td>\n",
       "    </tr>\n",
       "  </tbody>\n",
       "</table>\n",
       "</div>"
      ],
      "text/plain": [
       "               Province Container Size_Grade  Weight_Kg  \\\n",
       "0  W.CAPE-BERGRIVER ETC     EC120         1M       12.0   \n",
       "1  W.CAPE-BERGRIVER ETC     M4183         1X       18.3   \n",
       "\n",
       "              Commodities       Date  Low_Price  High_Price  Sales_Total  \\\n",
       "0  APPLE GOLDEN DELICIOUS 2020-07-09      128.0       136.0       5008.0   \n",
       "1  APPLE GOLDEN DELICIOUS 2020-01-20      220.0       220.0       1760.0   \n",
       "\n",
       "   Total_Qty_Sold  Total_Kg_Sold  Stock_On_Hand Day    Month  Year  Season  \n",
       "0              38          456.0              0  09     July  2020  Winter  \n",
       "1               8          146.4              2  20  January  2020  Summer  "
      ]
     },
     "execution_count": 103,
     "metadata": {},
     "output_type": "execute_result"
    }
   ],
   "source": [
    "#df_test['Season'] = pd.DataFrame(season(df_test['Date']))\n",
    "#df_test.head(2)"
   ]
  },
  {
   "cell_type": "markdown",
   "metadata": {},
   "source": [
    "## Exploratory Data Analysis"
   ]
  },
  {
   "cell_type": "markdown",
   "metadata": {},
   "source": [
    "### Univariate Analysis"
   ]
  },
  {
   "cell_type": "markdown",
   "metadata": {},
   "source": [
    "This project is all about building a model that predict the price of the `Golden Delicious Apples`, so it before we start building our model, we should try to learn more about this price. The price of the `Golden Delicious Apples` in our dataset is represented by the variable `avg_price_per_kg`. We'll go ahead and look at the summary statistics of this variable."
   ]
  },
  {
   "cell_type": "code",
   "execution_count": 43,
   "metadata": {},
   "outputs": [
    {
     "data": {
      "text/plain": [
       "count    1952.000000\n",
       "mean        6.778893\n",
       "std         2.248744\n",
       "min         0.250000\n",
       "25%         5.460000\n",
       "50%         6.670000\n",
       "75%         8.280000\n",
       "max        21.240000\n",
       "Name: avg_price_per_kg, dtype: float64"
      ]
     },
     "execution_count": 43,
     "metadata": {},
     "output_type": "execute_result"
    }
   ],
   "source": [
    "df_train.avg_price_per_kg.describe()"
   ]
  },
  {
   "cell_type": "markdown",
   "metadata": {},
   "source": [
    "Very well... It seems that our minimum price is larger than zero. Now let's look at its distribution"
   ]
  },
  {
   "cell_type": "code",
   "execution_count": 44,
   "metadata": {},
   "outputs": [
    {
     "name": "stderr",
     "output_type": "stream",
     "text": [
      "C:\\DSToolkit\\lib\\site-packages\\seaborn\\distributions.py:2551: FutureWarning: `distplot` is a deprecated function and will be removed in a future version. Please adapt your code to use either `displot` (a figure-level function with similar flexibility) or `histplot` (an axes-level function for histograms).\n",
      "  warnings.warn(msg, FutureWarning)\n"
     ]
    },
    {
     "data": {
      "text/plain": [
       "<AxesSubplot:xlabel='avg_price_per_kg', ylabel='Density'>"
      ]
     },
     "execution_count": 44,
     "metadata": {},
     "output_type": "execute_result"
    },
    {
     "data": {
      "image/png": "[encoded data removed]",
      "text/plain": [
       "<Figure size 432x288 with 1 Axes>"
      ]
     },
     "metadata": {},
     "output_type": "display_data"
    }
   ],
   "source": [
    "#histogram\n",
    "sns.color_palette()\n",
    "plt.style.use('ggplot')\n",
    "sns.distplot(df_train['avg_price_per_kg'])"
   ]
  },
  {
   "cell_type": "markdown",
   "metadata": {},
   "source": [
    "Excellent!, we can see that `avg_price_per_kg` is normally distributed. However, it looks like we have few prices that are in the range of `15` to `20`, these are values are probably `outliers`. Let's go ahead and find out if this are indeed outliers."
   ]
  },
  {
   "cell_type": "code",
   "execution_count": 45,
   "metadata": {},
   "outputs": [
    {
     "data": {
      "image/png": "[encoded data removed]",
      "text/plain": [
       "<Figure size 432x288 with 1 Axes>"
      ]
     },
     "metadata": {},
     "output_type": "display_data"
    }
   ],
   "source": [
    "sns.boxplot(x='avg_price_per_kg', data=df_train, color= 'b');"
   ]
  },
  {
   "cell_type": "code",
   "execution_count": 46,
   "metadata": {},
   "outputs": [
    {
     "name": "stdout",
     "output_type": "stream",
     "text": [
      "Skewness: 0.082452\n",
      "Kurtosis: 1.042921\n"
     ]
    }
   ],
   "source": [
    "#skewness and kurtosis\n",
    "print(\"Skewness: %f\" % df_train['avg_price_per_kg'].skew())\n",
    "print(\"Kurtosis: %f\" % df_train['avg_price_per_kg'].kurt())"
   ]
  },
  {
   "cell_type": "markdown",
   "metadata": {},
   "source": [
    "Great!, we can see from the above analysis that `avg_price_per_kg` is `Fairly Symmetrical`. A `Kurtosis of less than 3 represent lack of outliers`. However, we might want to do something about `avg_price_per_kg` with a value greater than 20. They're definately `outliers`."
   ]
  },
  {
   "cell_type": "code",
   "execution_count": 47,
   "metadata": {},
   "outputs": [
    {
     "data": {
      "image/png": "[encoded data removed]",
      "text/plain": [
       "<Figure size 1296x720 with 8 Axes>"
      ]
     },
     "metadata": {},
     "output_type": "display_data"
    }
   ],
   "source": [
    "fig, axes = plt.subplots(2, 4, figsize = (18, 10))\n",
    "sns.boxplot(ax=axes[0,0], data = df_train, x = 'Weight_Kg', color='y')\n",
    "sns.boxplot(ax=axes[0,1], data = df_train, x = 'Low_Price', color='orange')\n",
    "sns.boxplot(ax=axes[0,2], data = df_train, x = 'High_Price', color='red')\n",
    "sns.boxplot(ax=axes[0,3], data = df_train, x = 'Sales_Total', color='g')\n",
    "sns.boxplot(ax=axes[1,0], data = df_train, x = 'Total_Qty_Sold', color='r')\n",
    "sns.boxplot(ax=axes[1,1], data = df_train, x = 'Total_Kg_Sold', color='pink')\n",
    "sns.boxplot(ax=axes[1,2], data = df_train, x = 'Stock_On_Hand', color='yellow')\n",
    "sns.boxplot(ax=axes[1,3], data = df_train, x = 'avg_price_per_kg', color='b')\n",
    "plt.show()"
   ]
  },
  {
   "cell_type": "markdown",
   "metadata": {},
   "source": [
    "Regression models are sensitive to outliers. So let's check if our variables contains outliers"
   ]
  },
  {
   "cell_type": "code",
   "execution_count": 48,
   "metadata": {},
   "outputs": [
    {
     "data": {
      "text/plain": [
       "Weight_Kg            9.109698\n",
       "Low_Price           17.073369\n",
       "High_Price          13.630768\n",
       "Sales_Total         24.200524\n",
       "Total_Qty_Sold      32.338123\n",
       "Total_Kg_Sold       45.153801\n",
       "Stock_On_Hand       14.671224\n",
       "avg_price_per_kg     1.042921\n",
       "Day                 -1.122178\n",
       "Year                26.587803\n",
       "dtype: float64"
      ]
     },
     "execution_count": 48,
     "metadata": {},
     "output_type": "execute_result"
    }
   ],
   "source": [
    "df_train.kurtosis()"
   ]
  },
  {
   "cell_type": "markdown",
   "metadata": {},
   "source": [
    "Only `avg_price_per_kg` has an few outliers, Kurtosis of less than 3 represent lack of outliers. Other variables have a lot of outliers. Let's do something about this outliers. We need to know how this variables are distributed to choose the right method of dealing with outliers."
   ]
  },
  {
   "cell_type": "code",
   "execution_count": null,
   "metadata": {},
   "outputs": [],
   "source": []
  },
  {
   "cell_type": "markdown",
   "metadata": {},
   "source": [
    "### Multivariate Analysis"
   ]
  },
  {
   "cell_type": "markdown",
   "metadata": {},
   "source": [
    "We are also interested in knowing if the price of the `Golden Delicious Apples` change in different seasons. We will use a bar graph to see how the price stays the same in different seasons or not."
   ]
  },
  {
   "cell_type": "code",
   "execution_count": 50,
   "metadata": {},
   "outputs": [
    {
     "data": {
      "text/plain": [
       "<AxesSubplot:xlabel='Season', ylabel='avg_price_per_kg'>"
      ]
     },
     "execution_count": 50,
     "metadata": {},
     "output_type": "execute_result"
    },
    {
     "data": {
      "image/png": "[encoded data removed]",
      "text/plain": [
       "<Figure size 720x360 with 1 Axes>"
      ]
     },
     "metadata": {},
     "output_type": "display_data"
    }
   ],
   "source": [
    "plt.figure(figsize=(10,5))\n",
    "sns.barplot(data = df_train, x=\"Season\", y=\"avg_price_per_kg\", hue = \"Season\")"
   ]
  },
  {
   "cell_type": "markdown",
   "metadata": {},
   "source": [
    "Great!, this isn't supring at all. It looks like apples are cheap in Spring and Summer. This is probably a result of supply exceeding demand. According to [South Africa Harvest Calendar - PickYourOwn.org](http://pickyourown.org/south-africa-harvest-calendar.php), apples tend to be harvested from February to May.\n",
    "\n",
    "So does the `season` determines number of sales of the `Golden Delicious Apples`? Let's find out,"
   ]
  },
  {
   "cell_type": "code",
   "execution_count": 49,
   "metadata": {},
   "outputs": [
    {
     "data": {
      "text/plain": [
       "<AxesSubplot:xlabel='Season', ylabel='Sales_Total'>"
      ]
     },
     "execution_count": 49,
     "metadata": {},
     "output_type": "execute_result"
    },
    {
     "data": {
      "image/png": "[encoded data removed]",
      "text/plain": [
       "<Figure size 720x360 with 1 Axes>"
      ]
     },
     "metadata": {},
     "output_type": "display_data"
    }
   ],
   "source": [
    "plt.figure(figsize=(10,5))\n",
    "sns.barplot(data = df_train, x=\"Season\", y='Sales_Total', hue = \"Season\")"
   ]
  },
  {
   "cell_type": "markdown",
   "metadata": {},
   "source": [
    "It looks like there are many sales of the `Golden Delicious Apples` in `Winter` and `Summer`, suprisingly what's when the price of the `Golden Delicious Apples` is high."
   ]
  },
  {
   "cell_type": "code",
   "execution_count": null,
   "metadata": {},
   "outputs": [],
   "source": []
  },
  {
   "cell_type": "markdown",
   "metadata": {},
   "source": [
    "### `avg_price_per_kg` relationship with numerical variables"
   ]
  },
  {
   "cell_type": "code",
   "execution_count": 51,
   "metadata": {},
   "outputs": [
    {
     "data": {
      "text/plain": [
       "<AxesSubplot:xlabel='Weight_Kg', ylabel='avg_price_per_kg'>"
      ]
     },
     "execution_count": 51,
     "metadata": {},
     "output_type": "execute_result"
    },
    {
     "data": {
      "image/png": "[encoded data removed]",
      "text/plain": [
       "<Figure size 432x288 with 1 Axes>"
      ]
     },
     "metadata": {},
     "output_type": "display_data"
    }
   ],
   "source": [
    "#scatter plot grlivarea/saleprice\n",
    "sns.scatterplot(data = df_train, x=\"Weight_Kg\", y=\"avg_price_per_kg\")"
   ]
  },
  {
   "cell_type": "code",
   "execution_count": 52,
   "metadata": {},
   "outputs": [
    {
     "data": {
      "text/plain": [
       "<AxesSubplot:xlabel='Sales_Total', ylabel='avg_price_per_kg'>"
      ]
     },
     "execution_count": 52,
     "metadata": {},
     "output_type": "execute_result"
    },
    {
     "data": {
      "image/png": "[encoded data removed]",
      "text/plain": [
       "<Figure size 432x288 with 1 Axes>"
      ]
     },
     "metadata": {},
     "output_type": "display_data"
    }
   ],
   "source": [
    "#scatter plot grlivarea/saleprice\n",
    "sns.scatterplot(data = df_train, x=\"Sales_Total\", y=\"avg_price_per_kg\")"
   ]
  },
  {
   "cell_type": "code",
   "execution_count": 53,
   "metadata": {},
   "outputs": [
    {
     "data": {
      "text/plain": [
       "<seaborn.axisgrid.PairGrid at 0x1b11ed8e670>"
      ]
     },
     "execution_count": 53,
     "metadata": {},
     "output_type": "execute_result"
    },
    {
     "data": {
      "image/png": "[encoded data removed]",
      "text/plain": [
       "<Figure size 1440x1440 with 72 Axes>"
      ]
     },
     "metadata": {},
     "output_type": "display_data"
    }
   ],
   "source": [
    "sns.pairplot(df_train)"
   ]
  },
  {
   "cell_type": "code",
   "execution_count": 54,
   "metadata": {},
   "outputs": [
    {
     "data": {
      "text/html": [
       "<div>\n",
       "<style scoped>\n",
       "    .dataframe tbody tr th:only-of-type {\n",
       "        vertical-align: middle;\n",
       "    }\n",
       "\n",
       "    .dataframe tbody tr th {\n",
       "        vertical-align: top;\n",
       "    }\n",
       "\n",
       "    .dataframe thead th {\n",
       "        text-align: right;\n",
       "    }\n",
       "</style>\n",
       "<table border=\"1\" class=\"dataframe\">\n",
       "  <thead>\n",
       "    <tr style=\"text-align: right;\">\n",
       "      <th></th>\n",
       "      <th>Weight_Kg</th>\n",
       "      <th>Low_Price</th>\n",
       "      <th>High_Price</th>\n",
       "      <th>Sales_Total</th>\n",
       "      <th>Total_Qty_Sold</th>\n",
       "      <th>Total_Kg_Sold</th>\n",
       "      <th>Stock_On_Hand</th>\n",
       "      <th>avg_price_per_kg</th>\n",
       "    </tr>\n",
       "  </thead>\n",
       "  <tbody>\n",
       "    <tr>\n",
       "      <th>Weight_Kg</th>\n",
       "      <td>1.000000</td>\n",
       "      <td>0.863182</td>\n",
       "      <td>0.905852</td>\n",
       "      <td>0.180518</td>\n",
       "      <td>-0.133317</td>\n",
       "      <td>0.294117</td>\n",
       "      <td>-0.144105</td>\n",
       "      <td>-0.337886</td>\n",
       "    </tr>\n",
       "    <tr>\n",
       "      <th>Low_Price</th>\n",
       "      <td>0.863182</td>\n",
       "      <td>1.000000</td>\n",
       "      <td>0.938140</td>\n",
       "      <td>0.183230</td>\n",
       "      <td>-0.122823</td>\n",
       "      <td>0.269744</td>\n",
       "      <td>-0.127677</td>\n",
       "      <td>-0.141740</td>\n",
       "    </tr>\n",
       "    <tr>\n",
       "      <th>High_Price</th>\n",
       "      <td>0.905852</td>\n",
       "      <td>0.938140</td>\n",
       "      <td>1.000000</td>\n",
       "      <td>0.265672</td>\n",
       "      <td>-0.096456</td>\n",
       "      <td>0.372282</td>\n",
       "      <td>-0.094174</td>\n",
       "      <td>-0.164496</td>\n",
       "    </tr>\n",
       "    <tr>\n",
       "      <th>Sales_Total</th>\n",
       "      <td>0.180518</td>\n",
       "      <td>0.183230</td>\n",
       "      <td>0.265672</td>\n",
       "      <td>1.000000</td>\n",
       "      <td>0.771865</td>\n",
       "      <td>0.962338</td>\n",
       "      <td>0.284693</td>\n",
       "      <td>0.108473</td>\n",
       "    </tr>\n",
       "    <tr>\n",
       "      <th>Total_Qty_Sold</th>\n",
       "      <td>-0.133317</td>\n",
       "      <td>-0.122823</td>\n",
       "      <td>-0.096456</td>\n",
       "      <td>0.771865</td>\n",
       "      <td>1.000000</td>\n",
       "      <td>0.651440</td>\n",
       "      <td>0.390168</td>\n",
       "      <td>0.087536</td>\n",
       "    </tr>\n",
       "    <tr>\n",
       "      <th>Total_Kg_Sold</th>\n",
       "      <td>0.294117</td>\n",
       "      <td>0.269744</td>\n",
       "      <td>0.372282</td>\n",
       "      <td>0.962338</td>\n",
       "      <td>0.651440</td>\n",
       "      <td>1.000000</td>\n",
       "      <td>0.229062</td>\n",
       "      <td>-0.001007</td>\n",
       "    </tr>\n",
       "    <tr>\n",
       "      <th>Stock_On_Hand</th>\n",
       "      <td>-0.144105</td>\n",
       "      <td>-0.127677</td>\n",
       "      <td>-0.094174</td>\n",
       "      <td>0.284693</td>\n",
       "      <td>0.390168</td>\n",
       "      <td>0.229062</td>\n",
       "      <td>1.000000</td>\n",
       "      <td>0.105028</td>\n",
       "    </tr>\n",
       "    <tr>\n",
       "      <th>avg_price_per_kg</th>\n",
       "      <td>-0.337886</td>\n",
       "      <td>-0.141740</td>\n",
       "      <td>-0.164496</td>\n",
       "      <td>0.108473</td>\n",
       "      <td>0.087536</td>\n",
       "      <td>-0.001007</td>\n",
       "      <td>0.105028</td>\n",
       "      <td>1.000000</td>\n",
       "    </tr>\n",
       "  </tbody>\n",
       "</table>\n",
       "</div>"
      ],
      "text/plain": [
       "                  Weight_Kg  Low_Price  High_Price  Sales_Total  \\\n",
       "Weight_Kg          1.000000   0.863182    0.905852     0.180518   \n",
       "Low_Price          0.863182   1.000000    0.938140     0.183230   \n",
       "High_Price         0.905852   0.938140    1.000000     0.265672   \n",
       "Sales_Total        0.180518   0.183230    0.265672     1.000000   \n",
       "Total_Qty_Sold    -0.133317  -0.122823   -0.096456     0.771865   \n",
       "Total_Kg_Sold      0.294117   0.269744    0.372282     0.962338   \n",
       "Stock_On_Hand     -0.144105  -0.127677   -0.094174     0.284693   \n",
       "avg_price_per_kg  -0.337886  -0.141740   -0.164496     0.108473   \n",
       "\n",
       "                  Total_Qty_Sold  Total_Kg_Sold  Stock_On_Hand  \\\n",
       "Weight_Kg              -0.133317       0.294117      -0.144105   \n",
       "Low_Price              -0.122823       0.269744      -0.127677   \n",
       "High_Price             -0.096456       0.372282      -0.094174   \n",
       "Sales_Total             0.771865       0.962338       0.284693   \n",
       "Total_Qty_Sold          1.000000       0.651440       0.390168   \n",
       "Total_Kg_Sold           0.651440       1.000000       0.229062   \n",
       "Stock_On_Hand           0.390168       0.229062       1.000000   \n",
       "avg_price_per_kg        0.087536      -0.001007       0.105028   \n",
       "\n",
       "                  avg_price_per_kg  \n",
       "Weight_Kg                -0.337886  \n",
       "Low_Price                -0.141740  \n",
       "High_Price               -0.164496  \n",
       "Sales_Total               0.108473  \n",
       "Total_Qty_Sold            0.087536  \n",
       "Total_Kg_Sold            -0.001007  \n",
       "Stock_On_Hand             0.105028  \n",
       "avg_price_per_kg          1.000000  "
      ]
     },
     "execution_count": 54,
     "metadata": {},
     "output_type": "execute_result"
    }
   ],
   "source": [
    "df_train.corr()"
   ]
  },
  {
   "cell_type": "code",
   "execution_count": 55,
   "metadata": {},
   "outputs": [
    {
     "data": {
      "text/plain": [
       "<AxesSubplot:>"
      ]
     },
     "execution_count": 55,
     "metadata": {},
     "output_type": "execute_result"
    },
    {
     "data": {
      "image/png": "[encoded data removed]",
      "text/plain": [
       "<Figure size 432x288 with 2 Axes>"
      ]
     },
     "metadata": {},
     "output_type": "display_data"
    }
   ],
   "source": [
    "sns.heatmap(df_train.corr(), vmin = -1, vmax = 1, annot = True)"
   ]
  },
  {
   "cell_type": "markdown",
   "metadata": {},
   "source": [
    "## Feature Engineering and Selection"
   ]
  },
  {
   "cell_type": "markdown",
   "metadata": {},
   "source": [
    "### Dummy Variables"
   ]
  },
  {
   "cell_type": "code",
   "execution_count": 56,
   "metadata": {},
   "outputs": [],
   "source": [
    "df_train = df_train.drop(columns = ['Date'])\n",
    "df_test = df_test.drop(columns = ['Date'])"
   ]
  },
  {
   "cell_type": "code",
   "execution_count": 57,
   "metadata": {},
   "outputs": [],
   "source": [
    "#df_train['avg_price'] = (df_train['High_Price'] + df_train['Low_Price'])/2"
   ]
  },
  {
   "cell_type": "code",
   "execution_count": 58,
   "metadata": {},
   "outputs": [],
   "source": [
    "#df_train = df_train.drop(columns = ['High_Price', 'Low_Price'])\n",
    "#df_train = df_train.drop(columns = ['avg_price'])"
   ]
  },
  {
   "cell_type": "code",
   "execution_count": 59,
   "metadata": {},
   "outputs": [],
   "source": [
    "df_train_ = pd.get_dummies(df_train, drop_first=True)\n",
    "df_train_.columns = [col.replace(\" \",\"_\") for col in df_train_.columns]\n",
    "df_train_.columns = [col.replace(\"-\",\"_\") for col in df_train_.columns]\n",
    "df_train_.columns = [col.replace(\"(\",\"_\") for col in df_train_.columns]\n",
    "df_train_.columns = [col.replace(\")\",\"_\") for col in df_train_.columns]\n",
    "df_train_.columns = [col.replace(\".\",\"_\") for col in df_train_.columns]"
   ]
  },
  {
   "cell_type": "markdown",
   "metadata": {},
   "source": [
    "### Variable Selection"
   ]
  },
  {
   "cell_type": "code",
   "execution_count": 26,
   "metadata": {},
   "outputs": [],
   "source": [
    "# import SelectKBest\n",
    "#from sklearn.feature_selection import SelectKBest\n",
    "\n",
    "#Let us now try to fit a model but we have to import neccessary tools to do that\n",
    "#from sklearn.tree import DecisionTreeRegressor\n",
    "\n",
    "# create a SelectKBest object\n",
    "#skb = SelectKBest(score_func=mutual_info_regression, k = 10)\n",
    "# fit the object to the training data\n",
    "#X_data_new = skb.fit_transform(X_standardise, y)\n",
    "\n",
    "# print the selected features\n",
    "#for feature_list_index in skb.get_support(indices = True):\n",
    "#    print(feature_names[feature_list_index])666\n",
    "\n",
    "# print the final prediction score\n",
    "#print(efs.best_score_)"
   ]
  },
  {
   "cell_type": "code",
   "execution_count": null,
   "metadata": {},
   "outputs": [],
   "source": []
  },
  {
   "cell_type": "code",
   "execution_count": null,
   "metadata": {},
   "outputs": [],
   "source": []
  },
  {
   "cell_type": "code",
   "execution_count": null,
   "metadata": {},
   "outputs": [],
   "source": []
  },
  {
   "cell_type": "markdown",
   "metadata": {},
   "source": [
    "df_train_ = df_train_.drop(columns = ['Low_Price', 'Total_Kg_Sold', 'High_Price'])\n",
    "df_train_.head()"
   ]
  },
  {
   "cell_type": "markdown",
   "metadata": {},
   "source": [
    "### Checking for Multicollinearity\n",
    "\n",
    "Multicollinearity refers to the presence of strong correlation among two or more of the predictor variables in the dataset. The presence of any correlation among predictors is detrimental to model quality for two reasons:"
   ]
  },
  {
   "cell_type": "code",
   "execution_count": 27,
   "metadata": {},
   "outputs": [
    {
     "data": {
      "text/plain": [
       "avg_price_per_kg                 1.000000\n",
       "Container_M4183                  0.403229\n",
       "Province_NATAL                   0.379801\n",
       "Container_IA400                  0.355565\n",
       "Size_Grade_2S                    0.352996\n",
       "Weight_Kg                        0.337886\n",
       "Container_JE090                  0.322235\n",
       "Province_W_CAPE_BERGRIVER_ETC    0.262051\n",
       "Size_Grade_1X                    0.251451\n",
       "Container_EC120                  0.188162\n",
       "Province_EASTERN_CAPE            0.178531\n",
       "Size_Grade_1M                    0.175779\n",
       "High_Price                       0.164496\n",
       "Size_Grade_2M                    0.153372\n",
       "Low_Price                        0.141740\n",
       "Container_JG110                  0.140148\n",
       "Year                             0.135526\n",
       "Container_EF120                  0.114297\n",
       "Sales_Total                      0.108473\n",
       "Stock_On_Hand                    0.105028\n",
       "Size_Grade_2L                    0.089733\n",
       "Total_Qty_Sold                   0.087536\n",
       "Day                              0.071334\n",
       "Size_Grade_2U                    0.069457\n",
       "Container_DT063                  0.059579\n",
       "Size_Grade_2X                    0.051624\n",
       "Size_Grade_1S                    0.028506\n",
       "Size_Grade_1U                    0.027335\n",
       "Province_WEST_COAST              0.025122\n",
       "Province_ORANGE_FREE_STATE       0.025026\n",
       "Container_EG140                  0.023753\n",
       "Province_TRANSVAAL               0.020415\n",
       "Container_M6125                  0.007568\n",
       "Month                            0.005205\n",
       "Container_M9125                  0.002812\n",
       "Total_Kg_Sold                    0.001007\n",
       "Name: avg_price_per_kg, dtype: float64"
      ]
     },
     "execution_count": 27,
     "metadata": {},
     "output_type": "execute_result"
    }
   ],
   "source": [
    "df_train_.corr()['avg_price_per_kg'].abs().sort_values(ascending=False)"
   ]
  },
  {
   "cell_type": "code",
   "execution_count": 28,
   "metadata": {},
   "outputs": [
    {
     "data": {
      "text/plain": [
       "(1952, 36)"
      ]
     },
     "execution_count": 28,
     "metadata": {},
     "output_type": "execute_result"
    }
   ],
   "source": [
    "df_train_.shape"
   ]
  },
  {
   "cell_type": "code",
   "execution_count": 29,
   "metadata": {},
   "outputs": [
    {
     "data": {
      "text/plain": [
       "<Figure size 3096x3096 with 0 Axes>"
      ]
     },
     "execution_count": 29,
     "metadata": {},
     "output_type": "execute_result"
    },
    {
     "data": {
      "text/plain": [
       "<Figure size 3096x3096 with 0 Axes>"
      ]
     },
     "metadata": {},
     "output_type": "display_data"
    }
   ],
   "source": [
    "plt.figure(figsize = (43,43))\n",
    "#sns.heatmap(df_train_.corr(), vmin = -1, vmax = 1, annot = True)"
   ]
  },
  {
   "cell_type": "markdown",
   "metadata": {},
   "source": [
    "#df_train_ = df_train_.drop(columns = ['Container_IA400', 'High_Price', 'Low_Price', 'Total_Kg_Sold'])\n",
    "df_train_ = df_train_[['avg_price_per_kg',\n",
    "'Container_M4183',\n",
    "'Province_NATAL',\n",
    "'Container_IA400',\n",
    "'Size_Grade_2S',\n",
    "'Container_JE090',\n",
    "'Province_W_CAPE_BERGRIVER_ETC',\n",
    "'Size_Grade_1X',\n",
    "'Container_EC120',\n",
    "'Province_EASTERN_CAPE',\n",
    "'Size_Grade_1M',\n",
    "'High_Price',\n",
    "'Size_Grade_2M',\n",
    "'Container_JG110',\n",
    "'Container_EF120',\n",
    "'Stock_On_Hand']]"
   ]
  },
  {
   "cell_type": "code",
   "execution_count": 30,
   "metadata": {},
   "outputs": [],
   "source": [
    "column_names = [col for col in df_train_.columns if col!= 'avg_price_per_kg'] + ['avg_price_per_kg']\n",
    "df_train_ = df_train_.reindex(columns=column_names)"
   ]
  },
  {
   "cell_type": "markdown",
   "metadata": {},
   "source": [
    "## Variable Selection by Variance Thresholds\n",
    "Variance Thresholds remove features whose values don't change much from observation to observation. The objective here is to remove all features that have a variance lower than the selected threshold.\n",
    "\n",
    "For example, suppose that in our loans dataset 97% of observations were for 40-year-old women, then the Age and Gender features can be removed without a great loss in information.\n",
    "\n",
    "It is important to note that variance is dependent on scale, so the features will have to be normalized before implementing variance thresholding."
   ]
  },
  {
   "cell_type": "code",
   "execution_count": 32,
   "metadata": {},
   "outputs": [],
   "source": [
    "# Separate data into independent (X) and independent (y) variables\n",
    "X_data = df_train_.drop('avg_price_per_kg', axis=1)\n",
    "y_data = df_train_['avg_price_per_kg']"
   ]
  },
  {
   "cell_type": "code",
   "execution_count": 33,
   "metadata": {},
   "outputs": [],
   "source": [
    "# Normalize data\n",
    "from sklearn.preprocessing import MinMaxScaler\n",
    "scaler = MinMaxScaler()\n",
    "X_scaled = scaler.fit_transform(X_data)\n",
    "X_normalize = pd.DataFrame(X_scaled, columns=X_data.columns)"
   ]
  },
  {
   "cell_type": "markdown",
   "metadata": {},
   "source": [
    "### Variance Threshold in Scikit Learn\n",
    "\n",
    "To implement Variance Threshold in Scikit Learn we have to do the following:\n",
    "\n",
    "Import and create an instance of the VarianceThreshold class;\n",
    "Use the .fit() method to select subset of features based on the threshold."
   ]
  },
  {
   "cell_type": "code",
   "execution_count": 34,
   "metadata": {},
   "outputs": [],
   "source": [
    "from sklearn.feature_selection import VarianceThreshold\n",
    "\n",
    "# Create Variance Threshold object\n",
    "selector_1 = VarianceThreshold(threshold=0.05)\n",
    "selector_2 = VarianceThreshold(threshold=0.1)\n",
    "selector_3 = VarianceThreshold(threshold=0.15)\n",
    "selector_4 = VarianceThreshold(threshold=0.03)"
   ]
  },
  {
   "cell_type": "code",
   "execution_count": 35,
   "metadata": {},
   "outputs": [
    {
     "ename": "AttributeError",
     "evalue": "'VarianceThreshold' object has no attribute 'variances_'",
     "output_type": "error",
     "traceback": [
      "\u001b[1;31m---------------------------------------------------------------------------\u001b[0m",
      "\u001b[1;31mAttributeError\u001b[0m                            Traceback (most recent call last)",
      "\u001b[1;32m<ipython-input-35-6da242c75e34>\u001b[0m in \u001b[0;36m<module>\u001b[1;34m\u001b[0m\n\u001b[0;32m      1\u001b[0m \u001b[1;31m# Get column variances\u001b[0m\u001b[1;33m\u001b[0m\u001b[1;33m\u001b[0m\u001b[1;33m\u001b[0m\u001b[0m\n\u001b[1;32m----> 2\u001b[1;33m \u001b[0mcolumn_variances\u001b[0m \u001b[1;33m=\u001b[0m \u001b[0mselector_4\u001b[0m\u001b[1;33m.\u001b[0m\u001b[0mvariances_\u001b[0m\u001b[1;33m\u001b[0m\u001b[1;33m\u001b[0m\u001b[0m\n\u001b[0m\u001b[0;32m      3\u001b[0m \u001b[1;33m\u001b[0m\u001b[0m\n\u001b[0;32m      4\u001b[0m \u001b[0mvars_dict\u001b[0m \u001b[1;33m=\u001b[0m \u001b[1;33m{\u001b[0m\u001b[1;33m}\u001b[0m\u001b[1;33m\u001b[0m\u001b[1;33m\u001b[0m\u001b[0m\n\u001b[0;32m      5\u001b[0m vars_dict = [{\"Variable_Name\": c_name, \"Variance\": c_var}\n",
      "\u001b[1;31mAttributeError\u001b[0m: 'VarianceThreshold' object has no attribute 'variances_'"
     ]
    }
   ],
   "source": [
    "# Get column variances\n",
    "column_variances = selector_4.variances_\n",
    "\n",
    "vars_dict = {}\n",
    "vars_dict = [{\"Variable_Name\": c_name, \"Variance\": c_var}\n",
    "             for c_name, c_var in zip(X_normalize.columns, column_variances)]\n",
    "df_vars = pd.DataFrame(vars_dict)\n",
    "df_vars.sort_values(by='Variance', ascending=False)"
   ]
  },
  {
   "cell_type": "code",
   "execution_count": 38,
   "metadata": {},
   "outputs": [
    {
     "data": {
      "text/plain": [
       "VarianceThreshold(threshold=0.03)"
      ]
     },
     "execution_count": 38,
     "metadata": {},
     "output_type": "execute_result"
    }
   ],
   "source": [
    "# Use the object to apply the threshold on data\n",
    "selector_1.fit(X_normalize)\n",
    "selector_2.fit(X_normalize)\n",
    "selector_3.fit(X_normalize)\n",
    "selector_4.fit(X_normalize)"
   ]
  },
  {
   "cell_type": "code",
   "execution_count": 39,
   "metadata": {},
   "outputs": [],
   "source": [
    "# Select subset of columns\n",
    "X_1 = X_normalize[X_normalize.columns[selector_1.get_support(indices=True)]]\n",
    "X_2 = X_normalize[X_normalize.columns[selector_2.get_support(indices=True)]]\n",
    "X_3 = X_normalize[X_normalize.columns[selector_3.get_support(indices=True)]]\n",
    "X_4 = X_normalize[X_normalize.columns[selector_4.get_support(indices=True)]]"
   ]
  },
  {
   "cell_type": "code",
   "execution_count": 40,
   "metadata": {},
   "outputs": [
    {
     "data": {
      "text/html": [
       "<div>\n",
       "<style scoped>\n",
       "    .dataframe tbody tr th:only-of-type {\n",
       "        vertical-align: middle;\n",
       "    }\n",
       "\n",
       "    .dataframe tbody tr th {\n",
       "        vertical-align: top;\n",
       "    }\n",
       "\n",
       "    .dataframe thead th {\n",
       "        text-align: right;\n",
       "    }\n",
       "</style>\n",
       "<table border=\"1\" class=\"dataframe\">\n",
       "  <thead>\n",
       "    <tr style=\"text-align: right;\">\n",
       "      <th></th>\n",
       "      <th>Weight_Kg</th>\n",
       "      <th>Day</th>\n",
       "      <th>Month</th>\n",
       "      <th>Year</th>\n",
       "      <th>Province_EASTERN_CAPE</th>\n",
       "      <th>Province_NATAL</th>\n",
       "      <th>Province_W_CAPE_BERGRIVER_ETC</th>\n",
       "      <th>Province_WEST_COAST</th>\n",
       "      <th>Container_EC120</th>\n",
       "      <th>Container_EF120</th>\n",
       "      <th>Container_IA400</th>\n",
       "      <th>Container_JE090</th>\n",
       "      <th>Container_JG110</th>\n",
       "      <th>Container_M4183</th>\n",
       "      <th>Size_Grade_1M</th>\n",
       "      <th>Size_Grade_1S</th>\n",
       "      <th>Size_Grade_1X</th>\n",
       "      <th>Size_Grade_2L</th>\n",
       "      <th>Size_Grade_2M</th>\n",
       "      <th>Size_Grade_2S</th>\n",
       "    </tr>\n",
       "  </thead>\n",
       "  <tbody>\n",
       "    <tr>\n",
       "      <th>0</th>\n",
       "      <td>0.038539</td>\n",
       "      <td>0.266667</td>\n",
       "      <td>0.727273</td>\n",
       "      <td>1.0</td>\n",
       "      <td>0.0</td>\n",
       "      <td>0.0</td>\n",
       "      <td>0.0</td>\n",
       "      <td>0.0</td>\n",
       "      <td>0.0</td>\n",
       "      <td>0.0</td>\n",
       "      <td>0.0</td>\n",
       "      <td>0.0</td>\n",
       "      <td>0.0</td>\n",
       "      <td>1.0</td>\n",
       "      <td>0.0</td>\n",
       "      <td>0.0</td>\n",
       "      <td>0.0</td>\n",
       "      <td>0.0</td>\n",
       "      <td>0.0</td>\n",
       "      <td>0.0</td>\n",
       "    </tr>\n",
       "    <tr>\n",
       "      <th>1</th>\n",
       "      <td>0.020151</td>\n",
       "      <td>0.433333</td>\n",
       "      <td>0.272727</td>\n",
       "      <td>1.0</td>\n",
       "      <td>0.0</td>\n",
       "      <td>0.0</td>\n",
       "      <td>0.0</td>\n",
       "      <td>0.0</td>\n",
       "      <td>0.0</td>\n",
       "      <td>0.0</td>\n",
       "      <td>0.0</td>\n",
       "      <td>0.0</td>\n",
       "      <td>1.0</td>\n",
       "      <td>0.0</td>\n",
       "      <td>0.0</td>\n",
       "      <td>0.0</td>\n",
       "      <td>0.0</td>\n",
       "      <td>0.0</td>\n",
       "      <td>1.0</td>\n",
       "      <td>0.0</td>\n",
       "    </tr>\n",
       "    <tr>\n",
       "      <th>2</th>\n",
       "      <td>0.015113</td>\n",
       "      <td>0.500000</td>\n",
       "      <td>0.272727</td>\n",
       "      <td>1.0</td>\n",
       "      <td>0.0</td>\n",
       "      <td>0.0</td>\n",
       "      <td>1.0</td>\n",
       "      <td>0.0</td>\n",
       "      <td>0.0</td>\n",
       "      <td>0.0</td>\n",
       "      <td>0.0</td>\n",
       "      <td>1.0</td>\n",
       "      <td>0.0</td>\n",
       "      <td>0.0</td>\n",
       "      <td>0.0</td>\n",
       "      <td>0.0</td>\n",
       "      <td>0.0</td>\n",
       "      <td>0.0</td>\n",
       "      <td>0.0</td>\n",
       "      <td>1.0</td>\n",
       "    </tr>\n",
       "    <tr>\n",
       "      <th>3</th>\n",
       "      <td>0.038539</td>\n",
       "      <td>0.100000</td>\n",
       "      <td>0.363636</td>\n",
       "      <td>1.0</td>\n",
       "      <td>0.0</td>\n",
       "      <td>0.0</td>\n",
       "      <td>0.0</td>\n",
       "      <td>0.0</td>\n",
       "      <td>0.0</td>\n",
       "      <td>0.0</td>\n",
       "      <td>0.0</td>\n",
       "      <td>0.0</td>\n",
       "      <td>0.0</td>\n",
       "      <td>1.0</td>\n",
       "      <td>0.0</td>\n",
       "      <td>1.0</td>\n",
       "      <td>0.0</td>\n",
       "      <td>0.0</td>\n",
       "      <td>0.0</td>\n",
       "      <td>0.0</td>\n",
       "    </tr>\n",
       "    <tr>\n",
       "      <th>4</th>\n",
       "      <td>1.000000</td>\n",
       "      <td>0.900000</td>\n",
       "      <td>0.727273</td>\n",
       "      <td>1.0</td>\n",
       "      <td>1.0</td>\n",
       "      <td>0.0</td>\n",
       "      <td>0.0</td>\n",
       "      <td>0.0</td>\n",
       "      <td>0.0</td>\n",
       "      <td>0.0</td>\n",
       "      <td>1.0</td>\n",
       "      <td>0.0</td>\n",
       "      <td>0.0</td>\n",
       "      <td>0.0</td>\n",
       "      <td>0.0</td>\n",
       "      <td>1.0</td>\n",
       "      <td>0.0</td>\n",
       "      <td>0.0</td>\n",
       "      <td>0.0</td>\n",
       "      <td>0.0</td>\n",
       "    </tr>\n",
       "  </tbody>\n",
       "</table>\n",
       "</div>"
      ],
      "text/plain": [
       "   Weight_Kg       Day     Month  Year  Province_EASTERN_CAPE  Province_NATAL  \\\n",
       "0   0.038539  0.266667  0.727273   1.0                    0.0             0.0   \n",
       "1   0.020151  0.433333  0.272727   1.0                    0.0             0.0   \n",
       "2   0.015113  0.500000  0.272727   1.0                    0.0             0.0   \n",
       "3   0.038539  0.100000  0.363636   1.0                    0.0             0.0   \n",
       "4   1.000000  0.900000  0.727273   1.0                    1.0             0.0   \n",
       "\n",
       "   Province_W_CAPE_BERGRIVER_ETC  Province_WEST_COAST  Container_EC120  \\\n",
       "0                            0.0                  0.0              0.0   \n",
       "1                            0.0                  0.0              0.0   \n",
       "2                            1.0                  0.0              0.0   \n",
       "3                            0.0                  0.0              0.0   \n",
       "4                            0.0                  0.0              0.0   \n",
       "\n",
       "   Container_EF120  Container_IA400  Container_JE090  Container_JG110  \\\n",
       "0              0.0              0.0              0.0              0.0   \n",
       "1              0.0              0.0              0.0              1.0   \n",
       "2              0.0              0.0              1.0              0.0   \n",
       "3              0.0              0.0              0.0              0.0   \n",
       "4              0.0              1.0              0.0              0.0   \n",
       "\n",
       "   Container_M4183  Size_Grade_1M  Size_Grade_1S  Size_Grade_1X  \\\n",
       "0              1.0            0.0            0.0            0.0   \n",
       "1              0.0            0.0            0.0            0.0   \n",
       "2              0.0            0.0            0.0            0.0   \n",
       "3              1.0            0.0            1.0            0.0   \n",
       "4              0.0            0.0            1.0            0.0   \n",
       "\n",
       "   Size_Grade_2L  Size_Grade_2M  Size_Grade_2S  \n",
       "0            0.0            0.0            0.0  \n",
       "1            0.0            1.0            0.0  \n",
       "2            0.0            0.0            1.0  \n",
       "3            0.0            0.0            0.0  \n",
       "4            0.0            0.0            0.0  "
      ]
     },
     "execution_count": 40,
     "metadata": {},
     "output_type": "execute_result"
    }
   ],
   "source": [
    "# Save variable names for later\n",
    "X_1_var_names = X_1.columns\n",
    "X_2_var_names = X_2.columns\n",
    "X_3_var_names = X_3.columns\n",
    "X_4_var_names = X_4.columns\n",
    "\n",
    "# View first few entries\n",
    "X_4.head()"
   ]
  },
  {
   "cell_type": "code",
   "execution_count": 41,
   "metadata": {},
   "outputs": [],
   "source": [
    "from sklearn.linear_model import LinearRegression\n",
    "from sklearn.model_selection import train_test_split\n",
    "\n",
    "# Train-test split\n",
    "X_train, X_test, y_train, y_test = train_test_split(X_data, y_data, test_size=0.20, shuffle=False)\n",
    "\n",
    "# Get training and testing data for variance threshold model\n",
    "X_var_train = X_train[X_4_var_names]\n",
    "X_var_test = X_test[X_4_var_names]"
   ]
  },
  {
   "cell_type": "markdown",
   "metadata": {},
   "source": [
    "## Fitting the model using `statsmodels.OLS`\n",
    "\n",
    "As was previously motivated within the train, `sklearn` is limited in terms of metrics and tools available to evaluate the appropriateness of the regression models we fit. Thus, as a means to expland our analysis, we import the `statsmodels` library which has a rich set of statistical tools to help us. "
   ]
  },
  {
   "cell_type": "code",
   "execution_count": 42,
   "metadata": {},
   "outputs": [],
   "source": [
    "import statsmodels.formula.api as sm"
   ]
  },
  {
   "cell_type": "code",
   "execution_count": 43,
   "metadata": {},
   "outputs": [
    {
     "data": {
      "text/plain": [
       "'avg_price_per_kg ~ Weight_Kg+Low_Price+High_Price+Sales_Total+Total_Qty_Sold+Total_Kg_Sold+Stock_On_Hand+Day+Month+Year+Province_EASTERN_CAPE+Province_NATAL+Province_ORANGE_FREE_STATE+Province_TRANSVAAL+Province_W_CAPE_BERGRIVER_ETC+Province_WEST_COAST+Container_DT063+Container_EC120+Container_EF120+Container_EG140+Container_IA400+Container_JE090+Container_JG110+Container_M4183+Container_M6125+Container_M9125+Size_Grade_1M+Size_Grade_1S+Size_Grade_1U+Size_Grade_1X+Size_Grade_2L+Size_Grade_2M+Size_Grade_2S+Size_Grade_2U+Size_Grade_2X'"
      ]
     },
     "execution_count": 43,
     "metadata": {},
     "output_type": "execute_result"
    }
   ],
   "source": [
    "formula_str = df_train_.columns[-1]+' ~ '+'+'.join(df_train_.columns[:-1]); formula_str"
   ]
  },
  {
   "cell_type": "markdown",
   "metadata": {},
   "source": [
    "### Construct and fit the model\n",
    "We now go ahead and fit our model. We use the ols or Ordinary Least Squares regression model from the statsmodels library to do this:"
   ]
  },
  {
   "cell_type": "code",
   "execution_count": 44,
   "metadata": {},
   "outputs": [],
   "source": [
    "model=sm.ols(formula=formula_str, data=df_train_)"
   ]
  },
  {
   "cell_type": "code",
   "execution_count": 45,
   "metadata": {},
   "outputs": [],
   "source": [
    "fitted = model.fit()"
   ]
  },
  {
   "cell_type": "markdown",
   "metadata": {},
   "source": [
    "### Print model summary"
   ]
  },
  {
   "cell_type": "code",
   "execution_count": 46,
   "metadata": {},
   "outputs": [
    {
     "name": "stdout",
     "output_type": "stream",
     "text": [
      "                            OLS Regression Results                            \n",
      "==============================================================================\n",
      "Dep. Variable:       avg_price_per_kg   R-squared:                       0.627\n",
      "Model:                            OLS   Adj. R-squared:                  0.620\n",
      "Method:                 Least Squares   F-statistic:                     94.72\n",
      "Date:                Wed, 19 May 2021   Prob (F-statistic):               0.00\n",
      "Time:                        23:52:59   Log-Likelihood:                -3389.0\n",
      "No. Observations:                1952   AIC:                             6848.\n",
      "Df Residuals:                    1917   BIC:                             7043.\n",
      "Df Model:                          34                                         \n",
      "Covariance Type:            nonrobust                                         \n",
      "=================================================================================================\n",
      "                                    coef    std err          t      P>|t|      [0.025      0.975]\n",
      "-------------------------------------------------------------------------------------------------\n",
      "Intercept                      3079.8100    407.295      7.562      0.000    2281.022    3878.598\n",
      "Weight_Kg                         0.0472      0.008      6.094      0.000       0.032       0.062\n",
      "Low_Price                         0.0004      0.000      1.416      0.157      -0.000       0.001\n",
      "High_Price                        0.0016      0.000      5.793      0.000       0.001       0.002\n",
      "Sales_Total                    6.855e-05   4.85e-06     14.127      0.000     5.9e-05    7.81e-05\n",
      "Total_Qty_Sold                   -0.0021      0.000     -9.346      0.000      -0.003      -0.002\n",
      "Total_Kg_Sold                    -0.0004   2.64e-05    -13.393      0.000      -0.000      -0.000\n",
      "Stock_On_Hand                    -0.0001   5.14e-05     -2.452      0.014      -0.000   -2.53e-05\n",
      "Day                              -0.0079      0.004     -2.147      0.032      -0.015      -0.001\n",
      "Month                             0.0121      0.013      0.906      0.365      -0.014       0.038\n",
      "Year                             -1.5213      0.202     -7.545      0.000      -1.917      -1.126\n",
      "Province_EASTERN_CAPE            -1.4331      0.118    -12.099      0.000      -1.665      -1.201\n",
      "Province_NATAL                   -2.0404      0.167    -12.252      0.000      -2.367      -1.714\n",
      "Province_ORANGE_FREE_STATE       -1.6431      0.469     -3.505      0.000      -2.562      -0.724\n",
      "Province_TRANSVAAL               -0.6445      0.373     -1.728      0.084      -1.376       0.087\n",
      "Province_W_CAPE_BERGRIVER_ETC     0.4043      0.086      4.714      0.000       0.236       0.573\n",
      "Province_WEST_COAST              -0.3869      0.138     -2.799      0.005      -0.658      -0.116\n",
      "Container_DT063                   0.7612      0.636      1.197      0.232      -0.486       2.009\n",
      "Container_EC120                   1.0288      0.286      3.594      0.000       0.467       1.590\n",
      "Container_EF120                   1.2564      0.322      3.898      0.000       0.624       1.889\n",
      "Container_EG140                   1.1268      0.849      1.327      0.185      -0.539       2.793\n",
      "Container_IA400                 -23.3646      3.060     -7.634      0.000     -29.367     -17.362\n",
      "Container_JE090                   0.4932      0.313      1.578      0.115      -0.120       1.106\n",
      "Container_JG110                  -0.2060      0.350     -0.589      0.556      -0.892       0.480\n",
      "Container_M4183                   0.0018      0.311      0.006      0.995      -0.607       0.611\n",
      "Container_M6125                   0.5177      0.531      0.975      0.330      -0.523       1.559\n",
      "Container_M9125                  -0.5644      0.854     -0.661      0.509      -2.239       1.111\n",
      "Size_Grade_1M                    -0.4038      0.137     -2.938      0.003      -0.673      -0.134\n",
      "Size_Grade_1S                    -0.7905      0.141     -5.617      0.000      -1.067      -0.515\n",
      "Size_Grade_1U                    -2.7978      0.987     -2.836      0.005      -4.733      -0.863\n",
      "Size_Grade_1X                     0.4468      0.146      3.065      0.002       0.161       0.733\n",
      "Size_Grade_2L                    -1.5557      0.301     -5.171      0.000      -2.146      -0.966\n",
      "Size_Grade_2M                    -1.2031      0.284     -4.243      0.000      -1.759      -0.647\n",
      "Size_Grade_2S                    -1.8750      0.264     -7.093      0.000      -2.393      -1.356\n",
      "Size_Grade_2U                    -2.4107      0.437     -5.518      0.000      -3.268      -1.554\n",
      "Size_Grade_2X                    -1.9508      0.382     -5.113      0.000      -2.699      -1.203\n",
      "==============================================================================\n",
      "Omnibus:                      237.650   Durbin-Watson:                   1.978\n",
      "Prob(Omnibus):                  0.000   Jarque-Bera (JB):             1858.732\n",
      "Skew:                           0.280   Prob(JB):                         0.00\n",
      "Kurtosis:                       7.748   Cond. No.                     2.25e+15\n",
      "==============================================================================\n",
      "\n",
      "Notes:\n",
      "[1] Standard Errors assume that the covariance matrix of the errors is correctly specified.\n",
      "[2] The smallest eigenvalue is 7.57e-19. This might indicate that there are\n",
      "strong multicollinearity problems or that the design matrix is singular.\n"
     ]
    }
   ],
   "source": [
    "print(fitted.summary())"
   ]
  },
  {
   "cell_type": "code",
   "execution_count": 47,
   "metadata": {},
   "outputs": [],
   "source": [
    "# Calculate correlations between predictor variables and the response variable\n",
    "corrs = df_train_.corr()['avg_price_per_kg'].sort_values(ascending=False)"
   ]
  },
  {
   "cell_type": "code",
   "execution_count": 48,
   "metadata": {},
   "outputs": [
    {
     "data": {
      "text/html": [
       "<div>\n",
       "<style scoped>\n",
       "    .dataframe tbody tr th:only-of-type {\n",
       "        vertical-align: middle;\n",
       "    }\n",
       "\n",
       "    .dataframe tbody tr th {\n",
       "        vertical-align: top;\n",
       "    }\n",
       "\n",
       "    .dataframe thead th {\n",
       "        text-align: right;\n",
       "    }\n",
       "</style>\n",
       "<table border=\"1\" class=\"dataframe\">\n",
       "  <thead>\n",
       "    <tr style=\"text-align: right;\">\n",
       "      <th></th>\n",
       "      <th>Correlation_Coefficient</th>\n",
       "      <th>P_Value</th>\n",
       "    </tr>\n",
       "  </thead>\n",
       "  <tbody>\n",
       "    <tr>\n",
       "      <th>Container_M4183</th>\n",
       "      <td>0.403229</td>\n",
       "      <td>0.000000</td>\n",
       "    </tr>\n",
       "    <tr>\n",
       "      <th>Size_Grade_2S</th>\n",
       "      <td>-0.352996</td>\n",
       "      <td>0.000000</td>\n",
       "    </tr>\n",
       "    <tr>\n",
       "      <th>Weight_Kg</th>\n",
       "      <td>-0.337886</td>\n",
       "      <td>0.000000</td>\n",
       "    </tr>\n",
       "    <tr>\n",
       "      <th>Container_JE090</th>\n",
       "      <td>-0.322235</td>\n",
       "      <td>0.000000</td>\n",
       "    </tr>\n",
       "    <tr>\n",
       "      <th>Province_EASTERN_CAPE</th>\n",
       "      <td>-0.178531</td>\n",
       "      <td>0.000000</td>\n",
       "    </tr>\n",
       "    <tr>\n",
       "      <th>High_Price</th>\n",
       "      <td>-0.164496</td>\n",
       "      <td>0.000000</td>\n",
       "    </tr>\n",
       "    <tr>\n",
       "      <th>Size_Grade_2M</th>\n",
       "      <td>-0.153372</td>\n",
       "      <td>0.000000</td>\n",
       "    </tr>\n",
       "    <tr>\n",
       "      <th>Low_Price</th>\n",
       "      <td>-0.141740</td>\n",
       "      <td>0.000000</td>\n",
       "    </tr>\n",
       "    <tr>\n",
       "      <th>Container_JG110</th>\n",
       "      <td>-0.140148</td>\n",
       "      <td>0.000000</td>\n",
       "    </tr>\n",
       "    <tr>\n",
       "      <th>Year</th>\n",
       "      <td>-0.135526</td>\n",
       "      <td>0.000000</td>\n",
       "    </tr>\n",
       "    <tr>\n",
       "      <th>Container_IA400</th>\n",
       "      <td>-0.355565</td>\n",
       "      <td>0.000000</td>\n",
       "    </tr>\n",
       "    <tr>\n",
       "      <th>Province_NATAL</th>\n",
       "      <td>-0.379801</td>\n",
       "      <td>0.000000</td>\n",
       "    </tr>\n",
       "    <tr>\n",
       "      <th>Province_W_CAPE_BERGRIVER_ETC</th>\n",
       "      <td>0.262051</td>\n",
       "      <td>0.000000</td>\n",
       "    </tr>\n",
       "    <tr>\n",
       "      <th>Size_Grade_1X</th>\n",
       "      <td>0.251451</td>\n",
       "      <td>0.000000</td>\n",
       "    </tr>\n",
       "    <tr>\n",
       "      <th>Container_EC120</th>\n",
       "      <td>0.188162</td>\n",
       "      <td>0.000000</td>\n",
       "    </tr>\n",
       "    <tr>\n",
       "      <th>Size_Grade_1M</th>\n",
       "      <td>0.175779</td>\n",
       "      <td>0.000000</td>\n",
       "    </tr>\n",
       "    <tr>\n",
       "      <th>Container_EF120</th>\n",
       "      <td>0.114297</td>\n",
       "      <td>0.000000</td>\n",
       "    </tr>\n",
       "    <tr>\n",
       "      <th>Sales_Total</th>\n",
       "      <td>0.108473</td>\n",
       "      <td>0.000002</td>\n",
       "    </tr>\n",
       "    <tr>\n",
       "      <th>Stock_On_Hand</th>\n",
       "      <td>0.105028</td>\n",
       "      <td>0.000003</td>\n",
       "    </tr>\n",
       "    <tr>\n",
       "      <th>Size_Grade_2L</th>\n",
       "      <td>-0.089733</td>\n",
       "      <td>0.000072</td>\n",
       "    </tr>\n",
       "    <tr>\n",
       "      <th>Total_Qty_Sold</th>\n",
       "      <td>0.087536</td>\n",
       "      <td>0.000108</td>\n",
       "    </tr>\n",
       "    <tr>\n",
       "      <th>Day</th>\n",
       "      <td>-0.071334</td>\n",
       "      <td>0.001612</td>\n",
       "    </tr>\n",
       "    <tr>\n",
       "      <th>Size_Grade_2U</th>\n",
       "      <td>-0.069457</td>\n",
       "      <td>0.002137</td>\n",
       "    </tr>\n",
       "    <tr>\n",
       "      <th>Container_DT063</th>\n",
       "      <td>-0.059579</td>\n",
       "      <td>0.008465</td>\n",
       "    </tr>\n",
       "    <tr>\n",
       "      <th>Size_Grade_2X</th>\n",
       "      <td>-0.051624</td>\n",
       "      <td>0.022556</td>\n",
       "    </tr>\n",
       "  </tbody>\n",
       "</table>\n",
       "</div>"
      ],
      "text/plain": [
       "                               Correlation_Coefficient   P_Value\n",
       "Container_M4183                               0.403229  0.000000\n",
       "Size_Grade_2S                                -0.352996  0.000000\n",
       "Weight_Kg                                    -0.337886  0.000000\n",
       "Container_JE090                              -0.322235  0.000000\n",
       "Province_EASTERN_CAPE                        -0.178531  0.000000\n",
       "High_Price                                   -0.164496  0.000000\n",
       "Size_Grade_2M                                -0.153372  0.000000\n",
       "Low_Price                                    -0.141740  0.000000\n",
       "Container_JG110                              -0.140148  0.000000\n",
       "Year                                         -0.135526  0.000000\n",
       "Container_IA400                              -0.355565  0.000000\n",
       "Province_NATAL                               -0.379801  0.000000\n",
       "Province_W_CAPE_BERGRIVER_ETC                 0.262051  0.000000\n",
       "Size_Grade_1X                                 0.251451  0.000000\n",
       "Container_EC120                               0.188162  0.000000\n",
       "Size_Grade_1M                                 0.175779  0.000000\n",
       "Container_EF120                               0.114297  0.000000\n",
       "Sales_Total                                   0.108473  0.000002\n",
       "Stock_On_Hand                                 0.105028  0.000003\n",
       "Size_Grade_2L                                -0.089733  0.000072\n",
       "Total_Qty_Sold                                0.087536  0.000108\n",
       "Day                                          -0.071334  0.001612\n",
       "Size_Grade_2U                                -0.069457  0.002137\n",
       "Container_DT063                              -0.059579  0.008465\n",
       "Size_Grade_2X                                -0.051624  0.022556"
      ]
     },
     "execution_count": 48,
     "metadata": {},
     "output_type": "execute_result"
    }
   ],
   "source": [
    "from scipy.stats import pearsonr\n",
    "\n",
    "# Build a dictionary of correlation coefficients and p-values\n",
    "dict_cp = {}\n",
    "\n",
    "column_titles = [col for col in corrs.index if col!= 'avg_price_per_kg']\n",
    "for col in column_titles:\n",
    "    p_val = round(pearsonr(df_train_[col], df_train_['avg_price_per_kg'])[1],6)\n",
    "    dict_cp[col] = {'Correlation_Coefficient':corrs[col],\n",
    "                    'P_Value':p_val}\n",
    "    \n",
    "df_cp = pd.DataFrame(dict_cp).T\n",
    "df_cp_sorted = df_cp.sort_values('P_Value')\n",
    "df_cp_sorted[df_cp_sorted['P_Value']<0.05]"
   ]
  },
  {
   "cell_type": "code",
   "execution_count": 49,
   "metadata": {},
   "outputs": [],
   "source": [
    "# The dependent variable remains the same:\n",
    "y_data = df_train_['avg_price_per_kg']\n",
    "\n",
    "# Model building - Independent Variable (IV) DataFrame\n",
    "X_names = list(df_cp[df_cp['P_Value'] < 0.05].index)\n",
    "X_data = df_train_[X_names]"
   ]
  },
  {
   "cell_type": "code",
   "execution_count": 50,
   "metadata": {},
   "outputs": [
    {
     "data": {
      "text/html": [
       "<div>\n",
       "<style scoped>\n",
       "    .dataframe tbody tr th:only-of-type {\n",
       "        vertical-align: middle;\n",
       "    }\n",
       "\n",
       "    .dataframe tbody tr th {\n",
       "        vertical-align: top;\n",
       "    }\n",
       "\n",
       "    .dataframe thead th {\n",
       "        text-align: right;\n",
       "    }\n",
       "</style>\n",
       "<table border=\"1\" class=\"dataframe\">\n",
       "  <thead>\n",
       "    <tr style=\"text-align: right;\">\n",
       "      <th></th>\n",
       "      <th>High_Price</th>\n",
       "      <th>Low_Price</th>\n",
       "      <th>Weight_Kg</th>\n",
       "      <th>Container_IA400</th>\n",
       "      <th>High_Price</th>\n",
       "      <th>Container_IA400</th>\n",
       "      <th>High_Price</th>\n",
       "      <th>Weight_Kg</th>\n",
       "    </tr>\n",
       "  </thead>\n",
       "  <tbody>\n",
       "    <tr>\n",
       "      <th>Low_Price</th>\n",
       "      <td>0.938140</td>\n",
       "      <td>1.000000</td>\n",
       "      <td>0.863182</td>\n",
       "      <td>0.860219</td>\n",
       "      <td>0.938140</td>\n",
       "      <td>0.860219</td>\n",
       "      <td>0.938140</td>\n",
       "      <td>0.863182</td>\n",
       "    </tr>\n",
       "    <tr>\n",
       "      <th>High_Price</th>\n",
       "      <td>1.000000</td>\n",
       "      <td>0.938140</td>\n",
       "      <td>0.905852</td>\n",
       "      <td>0.902518</td>\n",
       "      <td>1.000000</td>\n",
       "      <td>0.902518</td>\n",
       "      <td>1.000000</td>\n",
       "      <td>0.905852</td>\n",
       "    </tr>\n",
       "    <tr>\n",
       "      <th>High_Price</th>\n",
       "      <td>1.000000</td>\n",
       "      <td>0.938140</td>\n",
       "      <td>0.905852</td>\n",
       "      <td>0.902518</td>\n",
       "      <td>1.000000</td>\n",
       "      <td>0.902518</td>\n",
       "      <td>1.000000</td>\n",
       "      <td>0.905852</td>\n",
       "    </tr>\n",
       "    <tr>\n",
       "      <th>High_Price</th>\n",
       "      <td>1.000000</td>\n",
       "      <td>0.938140</td>\n",
       "      <td>0.905852</td>\n",
       "      <td>0.902518</td>\n",
       "      <td>1.000000</td>\n",
       "      <td>0.902518</td>\n",
       "      <td>1.000000</td>\n",
       "      <td>0.905852</td>\n",
       "    </tr>\n",
       "    <tr>\n",
       "      <th>Weight_Kg</th>\n",
       "      <td>0.905852</td>\n",
       "      <td>0.863182</td>\n",
       "      <td>1.000000</td>\n",
       "      <td>0.999231</td>\n",
       "      <td>0.905852</td>\n",
       "      <td>0.999231</td>\n",
       "      <td>0.905852</td>\n",
       "      <td>1.000000</td>\n",
       "    </tr>\n",
       "    <tr>\n",
       "      <th>Weight_Kg</th>\n",
       "      <td>0.905852</td>\n",
       "      <td>0.863182</td>\n",
       "      <td>1.000000</td>\n",
       "      <td>0.999231</td>\n",
       "      <td>0.905852</td>\n",
       "      <td>0.999231</td>\n",
       "      <td>0.905852</td>\n",
       "      <td>1.000000</td>\n",
       "    </tr>\n",
       "    <tr>\n",
       "      <th>Container_IA400</th>\n",
       "      <td>0.902518</td>\n",
       "      <td>0.860219</td>\n",
       "      <td>0.999231</td>\n",
       "      <td>1.000000</td>\n",
       "      <td>0.902518</td>\n",
       "      <td>1.000000</td>\n",
       "      <td>0.902518</td>\n",
       "      <td>0.999231</td>\n",
       "    </tr>\n",
       "    <tr>\n",
       "      <th>Container_IA400</th>\n",
       "      <td>0.902518</td>\n",
       "      <td>0.860219</td>\n",
       "      <td>0.999231</td>\n",
       "      <td>1.000000</td>\n",
       "      <td>0.902518</td>\n",
       "      <td>1.000000</td>\n",
       "      <td>0.902518</td>\n",
       "      <td>0.999231</td>\n",
       "    </tr>\n",
       "  </tbody>\n",
       "</table>\n",
       "</div>"
      ],
      "text/plain": [
       "                 High_Price  Low_Price  Weight_Kg  Container_IA400  \\\n",
       "Low_Price          0.938140   1.000000   0.863182         0.860219   \n",
       "High_Price         1.000000   0.938140   0.905852         0.902518   \n",
       "High_Price         1.000000   0.938140   0.905852         0.902518   \n",
       "High_Price         1.000000   0.938140   0.905852         0.902518   \n",
       "Weight_Kg          0.905852   0.863182   1.000000         0.999231   \n",
       "Weight_Kg          0.905852   0.863182   1.000000         0.999231   \n",
       "Container_IA400    0.902518   0.860219   0.999231         1.000000   \n",
       "Container_IA400    0.902518   0.860219   0.999231         1.000000   \n",
       "\n",
       "                 High_Price  Container_IA400  High_Price  Weight_Kg  \n",
       "Low_Price          0.938140         0.860219    0.938140   0.863182  \n",
       "High_Price         1.000000         0.902518    1.000000   0.905852  \n",
       "High_Price         1.000000         0.902518    1.000000   0.905852  \n",
       "High_Price         1.000000         0.902518    1.000000   0.905852  \n",
       "Weight_Kg          0.905852         0.999231    0.905852   1.000000  \n",
       "Weight_Kg          0.905852         0.999231    0.905852   1.000000  \n",
       "Container_IA400    0.902518         1.000000    0.902518   0.999231  \n",
       "Container_IA400    0.902518         1.000000    0.902518   0.999231  "
      ]
     },
     "execution_count": 50,
     "metadata": {},
     "output_type": "execute_result"
    }
   ],
   "source": [
    "# As before, we create the correlation matrix\n",
    "# and find rows and columnd where correlation coefficients > 0.9 or <-0.9\n",
    "corr = X_data.corr()\n",
    "r, c = np.where(np.abs(corr) > 0.9)\n",
    "\n",
    "# We are only interested in the off diagonal entries:\n",
    "off_diagonal = np.where(r != c)\n",
    "\n",
    "# Show the correlation matrix rows and columns where we have highly correlated off diagonal entries:\n",
    "corr.iloc[r[off_diagonal], c[off_diagonal]]"
   ]
  },
  {
   "cell_type": "markdown",
   "metadata": {},
   "source": [
    "Container_M4183\n",
    "Size_Grade_2S\n",
    "Weight_Kg\n",
    "Container_JE090\n",
    "Province_EASTERN_CAPE\n",
    "Size_Grade_2M\n",
    "Container_JG110\n",
    "Province_NATAL\n",
    "Province_W_CAPE_BERGRIVER_ETC\n",
    "Size_Grade_1X\n",
    "Container_EC120\n",
    "Size_Grade_1M\n",
    "Container_EF120\n",
    "Sales_Total\n",
    "Stock_On_Hand\n",
    "Size_Grade_2L\n",
    "Total_Qty_Sold\n",
    "Size_Grade_2U\n",
    "Container_DT063\n",
    "Size_Grade_2X"
   ]
  },
  {
   "cell_type": "markdown",
   "metadata": {},
   "source": [
    "## Model Building\n",
    "### Data Scaling\n",
    "The units of our data are not fit to be used for comparing different variables, this makes it hard for us to study the relationship between different variables. As result, we will scale our data to so that our module is impacted by the relationship between different variables, `NOT` by the units of measurement of the variables. We will use **Z-score standardisation** to scale our data. Z-score standardisation robust to outlier values. \n",
    "\n",
    "Let's go ahead an apply standard scaling to our model. We'll import the StandardScalar() object from sklearn.preprocessing"
   ]
  },
  {
   "cell_type": "code",
   "execution_count": 51,
   "metadata": {},
   "outputs": [],
   "source": [
    "# Split data into predictors and response\n",
    "X = df_train_.drop('avg_price_per_kg', axis=1)\n",
    "#X = df_train_.drop(['avg_price_per_kg', 'Weight_Kg', 'High_Price', 'Low_Price', 'Container_IA400'], axis=1)\n",
    "y = df_train_['avg_price_per_kg']"
   ]
  },
  {
   "cell_type": "code",
   "execution_count": 52,
   "metadata": {},
   "outputs": [],
   "source": [
    "# Import scaler method from sklearn\n",
    "from sklearn.preprocessing import StandardScaler"
   ]
  },
  {
   "cell_type": "code",
   "execution_count": 53,
   "metadata": {},
   "outputs": [],
   "source": [
    "# Create scaler object\n",
    "scaler = StandardScaler()"
   ]
  },
  {
   "cell_type": "code",
   "execution_count": 54,
   "metadata": {},
   "outputs": [],
   "source": [
    "# Create scaled version of the predictors (there is no need to scale the response)\n",
    "X_scaled2 = scaler.fit_transform(X)"
   ]
  },
  {
   "cell_type": "code",
   "execution_count": 55,
   "metadata": {},
   "outputs": [
    {
     "data": {
      "text/html": [
       "<div>\n",
       "<style scoped>\n",
       "    .dataframe tbody tr th:only-of-type {\n",
       "        vertical-align: middle;\n",
       "    }\n",
       "\n",
       "    .dataframe tbody tr th {\n",
       "        vertical-align: top;\n",
       "    }\n",
       "\n",
       "    .dataframe thead th {\n",
       "        text-align: right;\n",
       "    }\n",
       "</style>\n",
       "<table border=\"1\" class=\"dataframe\">\n",
       "  <thead>\n",
       "    <tr style=\"text-align: right;\">\n",
       "      <th></th>\n",
       "      <th>Weight_Kg</th>\n",
       "      <th>Low_Price</th>\n",
       "      <th>High_Price</th>\n",
       "      <th>Sales_Total</th>\n",
       "      <th>Total_Qty_Sold</th>\n",
       "      <th>Total_Kg_Sold</th>\n",
       "      <th>Stock_On_Hand</th>\n",
       "      <th>Day</th>\n",
       "      <th>Month</th>\n",
       "      <th>Year</th>\n",
       "      <th>...</th>\n",
       "      <th>Container_M9125</th>\n",
       "      <th>Size_Grade_1M</th>\n",
       "      <th>Size_Grade_1S</th>\n",
       "      <th>Size_Grade_1U</th>\n",
       "      <th>Size_Grade_1X</th>\n",
       "      <th>Size_Grade_2L</th>\n",
       "      <th>Size_Grade_2M</th>\n",
       "      <th>Size_Grade_2S</th>\n",
       "      <th>Size_Grade_2U</th>\n",
       "      <th>Size_Grade_2X</th>\n",
       "    </tr>\n",
       "  </thead>\n",
       "  <tbody>\n",
       "    <tr>\n",
       "      <th>0</th>\n",
       "      <td>-0.222433</td>\n",
       "      <td>-0.065087</td>\n",
       "      <td>-0.105317</td>\n",
       "      <td>0.811807</td>\n",
       "      <td>0.510117</td>\n",
       "      <td>0.511073</td>\n",
       "      <td>0.571070</td>\n",
       "      <td>-0.788911</td>\n",
       "      <td>1.262165</td>\n",
       "      <td>0.181119</td>\n",
       "      <td>...</td>\n",
       "      <td>-0.039233</td>\n",
       "      <td>-0.44198</td>\n",
       "      <td>-0.612085</td>\n",
       "      <td>-0.032026</td>\n",
       "      <td>-0.30986</td>\n",
       "      <td>-0.255934</td>\n",
       "      <td>-0.367265</td>\n",
       "      <td>-0.432837</td>\n",
       "      <td>-0.093731</td>\n",
       "      <td>-0.116187</td>\n",
       "    </tr>\n",
       "    <tr>\n",
       "      <th>1</th>\n",
       "      <td>-0.295704</td>\n",
       "      <td>-0.332855</td>\n",
       "      <td>-0.382175</td>\n",
       "      <td>-0.103950</td>\n",
       "      <td>0.471248</td>\n",
       "      <td>0.091837</td>\n",
       "      <td>-0.563874</td>\n",
       "      <td>-0.214430</td>\n",
       "      <td>-0.598952</td>\n",
       "      <td>0.181119</td>\n",
       "      <td>...</td>\n",
       "      <td>-0.039233</td>\n",
       "      <td>-0.44198</td>\n",
       "      <td>-0.612085</td>\n",
       "      <td>-0.032026</td>\n",
       "      <td>-0.30986</td>\n",
       "      <td>-0.255934</td>\n",
       "      <td>2.722828</td>\n",
       "      <td>-0.432837</td>\n",
       "      <td>-0.093731</td>\n",
       "      <td>-0.116187</td>\n",
       "    </tr>\n",
       "    <tr>\n",
       "      <th>2</th>\n",
       "      <td>-0.315779</td>\n",
       "      <td>-0.319467</td>\n",
       "      <td>-0.370639</td>\n",
       "      <td>-0.488870</td>\n",
       "      <td>-0.506948</td>\n",
       "      <td>-0.459029</td>\n",
       "      <td>1.515476</td>\n",
       "      <td>0.015363</td>\n",
       "      <td>-0.598952</td>\n",
       "      <td>0.181119</td>\n",
       "      <td>...</td>\n",
       "      <td>-0.039233</td>\n",
       "      <td>-0.44198</td>\n",
       "      <td>-0.612085</td>\n",
       "      <td>-0.032026</td>\n",
       "      <td>-0.30986</td>\n",
       "      <td>-0.255934</td>\n",
       "      <td>-0.367265</td>\n",
       "      <td>2.310338</td>\n",
       "      <td>-0.093731</td>\n",
       "      <td>-0.116187</td>\n",
       "    </tr>\n",
       "    <tr>\n",
       "      <th>3</th>\n",
       "      <td>-0.222433</td>\n",
       "      <td>-0.252525</td>\n",
       "      <td>-0.220674</td>\n",
       "      <td>0.306871</td>\n",
       "      <td>0.691504</td>\n",
       "      <td>0.679187</td>\n",
       "      <td>0.047781</td>\n",
       "      <td>-1.363392</td>\n",
       "      <td>-0.226728</td>\n",
       "      <td>0.181119</td>\n",
       "      <td>...</td>\n",
       "      <td>-0.039233</td>\n",
       "      <td>-0.44198</td>\n",
       "      <td>1.633760</td>\n",
       "      <td>-0.032026</td>\n",
       "      <td>-0.30986</td>\n",
       "      <td>-0.255934</td>\n",
       "      <td>-0.367265</td>\n",
       "      <td>-0.432837</td>\n",
       "      <td>-0.093731</td>\n",
       "      <td>-0.116187</td>\n",
       "    </tr>\n",
       "    <tr>\n",
       "      <th>4</th>\n",
       "      <td>3.608756</td>\n",
       "      <td>4.353082</td>\n",
       "      <td>3.655338</td>\n",
       "      <td>-0.468098</td>\n",
       "      <td>-0.562012</td>\n",
       "      <td>-0.419986</td>\n",
       "      <td>-0.561112</td>\n",
       "      <td>1.394117</td>\n",
       "      <td>1.262165</td>\n",
       "      <td>0.181119</td>\n",
       "      <td>...</td>\n",
       "      <td>-0.039233</td>\n",
       "      <td>-0.44198</td>\n",
       "      <td>1.633760</td>\n",
       "      <td>-0.032026</td>\n",
       "      <td>-0.30986</td>\n",
       "      <td>-0.255934</td>\n",
       "      <td>-0.367265</td>\n",
       "      <td>-0.432837</td>\n",
       "      <td>-0.093731</td>\n",
       "      <td>-0.116187</td>\n",
       "    </tr>\n",
       "  </tbody>\n",
       "</table>\n",
       "<p>5 rows × 35 columns</p>\n",
       "</div>"
      ],
      "text/plain": [
       "   Weight_Kg  Low_Price  High_Price  Sales_Total  Total_Qty_Sold  \\\n",
       "0  -0.222433  -0.065087   -0.105317     0.811807        0.510117   \n",
       "1  -0.295704  -0.332855   -0.382175    -0.103950        0.471248   \n",
       "2  -0.315779  -0.319467   -0.370639    -0.488870       -0.506948   \n",
       "3  -0.222433  -0.252525   -0.220674     0.306871        0.691504   \n",
       "4   3.608756   4.353082    3.655338    -0.468098       -0.562012   \n",
       "\n",
       "   Total_Kg_Sold  Stock_On_Hand       Day     Month      Year  ...  \\\n",
       "0       0.511073       0.571070 -0.788911  1.262165  0.181119  ...   \n",
       "1       0.091837      -0.563874 -0.214430 -0.598952  0.181119  ...   \n",
       "2      -0.459029       1.515476  0.015363 -0.598952  0.181119  ...   \n",
       "3       0.679187       0.047781 -1.363392 -0.226728  0.181119  ...   \n",
       "4      -0.419986      -0.561112  1.394117  1.262165  0.181119  ...   \n",
       "\n",
       "   Container_M9125  Size_Grade_1M  Size_Grade_1S  Size_Grade_1U  \\\n",
       "0        -0.039233       -0.44198      -0.612085      -0.032026   \n",
       "1        -0.039233       -0.44198      -0.612085      -0.032026   \n",
       "2        -0.039233       -0.44198      -0.612085      -0.032026   \n",
       "3        -0.039233       -0.44198       1.633760      -0.032026   \n",
       "4        -0.039233       -0.44198       1.633760      -0.032026   \n",
       "\n",
       "   Size_Grade_1X  Size_Grade_2L  Size_Grade_2M  Size_Grade_2S  Size_Grade_2U  \\\n",
       "0       -0.30986      -0.255934      -0.367265      -0.432837      -0.093731   \n",
       "1       -0.30986      -0.255934       2.722828      -0.432837      -0.093731   \n",
       "2       -0.30986      -0.255934      -0.367265       2.310338      -0.093731   \n",
       "3       -0.30986      -0.255934      -0.367265      -0.432837      -0.093731   \n",
       "4       -0.30986      -0.255934      -0.367265      -0.432837      -0.093731   \n",
       "\n",
       "   Size_Grade_2X  \n",
       "0      -0.116187  \n",
       "1      -0.116187  \n",
       "2      -0.116187  \n",
       "3      -0.116187  \n",
       "4      -0.116187  \n",
       "\n",
       "[5 rows x 35 columns]"
      ]
     },
     "execution_count": 55,
     "metadata": {},
     "output_type": "execute_result"
    }
   ],
   "source": [
    "# Convert the scaled predictor values into a dataframe\n",
    "X_standardise = pd.DataFrame(X_scaled2,columns=X.columns)\n",
    "X_standardise.head()"
   ]
  },
  {
   "cell_type": "markdown",
   "metadata": {},
   "source": [
    "## Regression Models\n",
    "We will first split our data into a training and a testing set. Let's go ahead and import neccessary libraries"
   ]
  },
  {
   "cell_type": "code",
   "execution_count": 60,
   "metadata": {},
   "outputs": [],
   "source": [
    "# Import train/test splitting function from sklearn\n",
    "from sklearn.model_selection import train_test_split"
   ]
  },
  {
   "cell_type": "code",
   "execution_count": 61,
   "metadata": {},
   "outputs": [],
   "source": [
    "# Import metrics module\n",
    "from sklearn import metrics"
   ]
  },
  {
   "cell_type": "code",
   "execution_count": 58,
   "metadata": {},
   "outputs": [],
   "source": [
    "# Split the data into train and test, being sure to use the standardised predictors\n",
    "X_train, X_test, y_train, y_test = train_test_split(X_standardise, y, test_size=0.2, shuffle=False)"
   ]
  },
  {
   "cell_type": "markdown",
   "metadata": {},
   "source": [
    "## Linear Regression\n",
    "### Preprocessing"
   ]
  },
  {
   "cell_type": "code",
   "execution_count": 59,
   "metadata": {},
   "outputs": [],
   "source": [
    "# Import the ridge regression module from sklearn\n",
    "from sklearn.linear_model import LinearRegression"
   ]
  },
  {
   "cell_type": "code",
   "execution_count": 60,
   "metadata": {},
   "outputs": [],
   "source": [
    "# Create linear model\n",
    "lm = LinearRegression()\n",
    "#lm_var = LinearRegression()"
   ]
  },
  {
   "cell_type": "code",
   "execution_count": 61,
   "metadata": {},
   "outputs": [
    {
     "data": {
      "text/plain": [
       "LinearRegression()"
      ]
     },
     "execution_count": 61,
     "metadata": {},
     "output_type": "execute_result"
    }
   ],
   "source": [
    "# Train the model\n",
    "lm.fit(X_train, y_train)\n",
    "#lm_var.fit(X_var_train, y_train)"
   ]
  },
  {
   "cell_type": "markdown",
   "metadata": {},
   "source": [
    "### Assess the predictive accuracy of the model"
   ]
  },
  {
   "cell_type": "code",
   "execution_count": 66,
   "metadata": {},
   "outputs": [
    {
     "name": "stdout",
     "output_type": "stream",
     "text": [
      "Ridge Training RMSE:  1.3522864046204952\n",
      "Ridge Training R-Squared:  0.6324091918740362\n"
     ]
    }
   ],
   "source": [
    "# Check training accuracy\n",
    "train_lm = lm.predict(X_train)\n",
    "#train_var_lm = lm_var.predict(X_var_train)\n",
    "\n",
    "print('Ridge Training RMSE: ', np.sqrt(metrics.mean_squared_error(y_train, train_lm)))\n",
    "print('Ridge Training R-Squared: ', metrics.r2_score(y_train, train_lm))"
   ]
  },
  {
   "cell_type": "code",
   "execution_count": 67,
   "metadata": {},
   "outputs": [
    {
     "name": "stdout",
     "output_type": "stream",
     "text": [
      "Ridge Testing RMSE:  1.4677257046220793\n",
      "Ridge Testing R-Squared:  0.5966466706285722\n"
     ]
    }
   ],
   "source": [
    "# Check testing accuracy\n",
    "test_lm = lm.predict(X_test)\n",
    "#test_var_lm = lm.predict(X_test)\n",
    "\n",
    "print('Ridge Testing RMSE: ', np.sqrt(metrics.mean_squared_error(y_test, test_lm)))\n",
    "print('Ridge Testing R-Squared: ', metrics.r2_score(y_test, test_lm))"
   ]
  },
  {
   "cell_type": "markdown",
   "metadata": {},
   "source": [
    "## Random Forest Regression Model\n",
    "### Preprocessing"
   ]
  },
  {
   "cell_type": "code",
   "execution_count": 71,
   "metadata": {},
   "outputs": [],
   "source": [
    "from sklearn.ensemble import RandomForestRegressor"
   ]
  },
  {
   "cell_type": "code",
   "execution_count": 72,
   "metadata": {},
   "outputs": [],
   "source": [
    "from sklearn.metrics import mean_squared_error"
   ]
  },
  {
   "cell_type": "code",
   "execution_count": 73,
   "metadata": {},
   "outputs": [],
   "source": [
    "# Separate data into independent (X) and independent (y) variables\n",
    "X_data_train = df_train_.drop('avg_price_per_kg', axis=1)\n",
    "y_data_train = df_train_['avg_price_per_kg']\n",
    "\n",
    "X_train, X_test, y_train, y_test = train_test_split(X_data_train, y_data_train, test_size=0.2, shuffle=False)"
   ]
  },
  {
   "cell_type": "code",
   "execution_count": 76,
   "metadata": {},
   "outputs": [
    {
     "data": {
      "text/plain": [
       "RandomForestRegressor(max_depth=10)"
      ]
     },
     "execution_count": 76,
     "metadata": {},
     "output_type": "execute_result"
    }
   ],
   "source": [
    "# Our forest consists of 100 trees with a max depth of 5 in this example\n",
    "RF = RandomForestRegressor(random_state=42)\n",
    "RF.fit(X_train, y_train)"
   ]
  },
  {
   "cell_type": "code",
   "execution_count": 77,
   "metadata": {},
   "outputs": [
    {
     "name": "stdout",
     "output_type": "stream",
     "text": [
      "RMSE: 0.5209588374402666\n"
     ]
    }
   ],
   "source": [
    "# Get predictions\n",
    "y_pred_3 = RF.predict(X_test)\n",
    "\n",
    "# Compute RMSE\n",
    "print(\"RMSE:\",np.sqrt(mean_squared_error(y_test, y_pred_3)))"
   ]
  },
  {
   "cell_type": "markdown",
   "metadata": {},
   "source": [
    "## Decision Tree\n",
    "### Preprocessing\n",
    "We will first split our data into a training and a testing set. Let's go ahead and import neccessary libraries"
   ]
  },
  {
   "cell_type": "code",
   "execution_count": 75,
   "metadata": {},
   "outputs": [],
   "source": [
    "#Let us now try to fit a model but we have to import neccessary tools to do that\n",
    "from sklearn.tree import DecisionTreeRegressor"
   ]
  },
  {
   "cell_type": "code",
   "execution_count": 126,
   "metadata": {},
   "outputs": [],
   "source": [
    "regr_tree = DecisionTreeRegressor(max_depth=10, random_state=42)\n",
    "#regr_tree_var = DecisionTreeRegressor(max_depth=10, random_state=42)"
   ]
  },
  {
   "cell_type": "code",
   "execution_count": 127,
   "metadata": {},
   "outputs": [
    {
     "data": {
      "text/plain": [
       "DecisionTreeRegressor(max_depth=10, random_state=42)"
      ]
     },
     "execution_count": 127,
     "metadata": {},
     "output_type": "execute_result"
    }
   ],
   "source": [
    "regr_tree.fit(X_train, y_train)\n",
    "#regr_tree_var.fit(X_var_train, y_train)"
   ]
  },
  {
   "cell_type": "markdown",
   "metadata": {},
   "source": [
    "### Assess the predictive accuracy of the model"
   ]
  },
  {
   "cell_type": "code",
   "execution_count": 128,
   "metadata": {},
   "outputs": [
    {
     "name": "stdout",
     "output_type": "stream",
     "text": [
      "Decision Tree RMSE:  0.24901111196232956\n",
      "Decision Tree R-Squared:  0.987535790655654\n"
     ]
    }
   ],
   "source": [
    "# get predictions for test data\n",
    "# Check training accuracy\n",
    "y_train_pred = regr_tree.predict(X_train)\n",
    "#y_var_train_pred = regr_tree_var.predict(X_var_train)\n",
    "\n",
    "print('Decision Tree RMSE: ', np.sqrt(metrics.mean_squared_error(y_train, y_train_pred)))\n",
    "print('Decision Tree R-Squared: ', metrics.r2_score(y_train, y_train_pred))\n",
    "#print('Decision Tree RMSE (var): ', np.sqrt(metrics.mean_squared_error(y_train, y_var_train_pred)))\n",
    "#print('Decision Tree R-Squared (var): ', metrics.r2_score(y_train, y_var_train_pred))"
   ]
  },
  {
   "cell_type": "code",
   "execution_count": 129,
   "metadata": {},
   "outputs": [
    {
     "name": "stdout",
     "output_type": "stream",
     "text": [
      "Decision Tree Testing RMSE:  0.5925529476021422\n",
      "Decision Tree Testing R-Squared:  0.9342569011063107\n"
     ]
    }
   ],
   "source": [
    "# Check testing accuracy\n",
    "# Check testing accuracy\n",
    "y_test_pred = regr_tree.predict(X_test)\n",
    "#y_var_test_pred = regr_tree_var.predict(X_var_test)\n",
    "\n",
    "print('Decision Tree Testing RMSE: ', np.sqrt(metrics.mean_squared_error(y_test, y_test_pred)))\n",
    "print('Decision Tree Testing R-Squared: ', metrics.r2_score(y_test, y_test_pred))\n",
    "#print('Decision Tree Testing RMSE (var): ', np.sqrt(metrics.mean_squared_error(y_test, y_var_test_pred)))\n",
    "#print('Decision Tree Testing R-Squared (var): ', metrics.r2_score(y_test, y_var_test_pred))"
   ]
  },
  {
   "cell_type": "markdown",
   "metadata": {},
   "source": [
    "## Bagging (AKA Bootstrap Aggregating)\n",
    "### Preprocessing\n",
    "We will first split our data into a training and a testing set. Let's go ahead and import neccessary libraries"
   ]
  },
  {
   "cell_type": "code",
   "execution_count": 118,
   "metadata": {},
   "outputs": [],
   "source": [
    "from sklearn.ensemble import BaggingRegressor"
   ]
  },
  {
   "cell_type": "code",
   "execution_count": 172,
   "metadata": {},
   "outputs": [],
   "source": [
    "# Instantiate decision tree regression model to use as the base model\n",
    "d_tree = DecisionTreeRegressor(max_depth=10)\n",
    "# Instantiate BaggingRegressor model with a decision tree as the base model\n",
    "bag_reg = BaggingRegressor(base_estimator = d_tree)"
   ]
  },
  {
   "cell_type": "code",
   "execution_count": 173,
   "metadata": {},
   "outputs": [
    {
     "data": {
      "text/plain": [
       "BaggingRegressor(base_estimator=DecisionTreeRegressor(max_depth=10))"
      ]
     },
     "execution_count": 173,
     "metadata": {},
     "output_type": "execute_result"
    }
   ],
   "source": [
    "# sv_reg.fit(X_train, y_train)\n",
    "bag_reg.fit(X_train,y_train)"
   ]
  },
  {
   "cell_type": "code",
   "execution_count": 174,
   "metadata": {},
   "outputs": [
    {
     "name": "stdout",
     "output_type": "stream",
     "text": [
      "RMSE:  0.4858044367792391\n"
     ]
    }
   ],
   "source": [
    "y_pred = bag_reg.predict(X_test)\n",
    "print(\"RMSE: \", np.sqrt(metrics.mean_squared_error(y_test,y_pred)))"
   ]
  },
  {
   "cell_type": "markdown",
   "metadata": {},
   "source": [
    "## Boosting"
   ]
  },
  {
   "cell_type": "code",
   "execution_count": 181,
   "metadata": {},
   "outputs": [],
   "source": [
    "from sklearn.ensemble import AdaBoostRegressor"
   ]
  },
  {
   "cell_type": "code",
   "execution_count": 299,
   "metadata": {},
   "outputs": [],
   "source": [
    "# Instantiate decision tree regression model to use as the base model\n",
    "d_tree_2 = DecisionTreeRegressor(max_depth=10, random_state=42)\n",
    "# Instantiate AdaBoostRegressor model with a decision tree as the base model\n",
    "bst_reg = AdaBoostRegressor(base_estimator = d_tree_2)"
   ]
  },
  {
   "cell_type": "code",
   "execution_count": 300,
   "metadata": {},
   "outputs": [
    {
     "data": {
      "text/plain": [
       "AdaBoostRegressor(base_estimator=DecisionTreeRegressor(max_depth=10,\n",
       "                                                       random_state=42))"
      ]
     },
     "execution_count": 300,
     "metadata": {},
     "output_type": "execute_result"
    }
   ],
   "source": [
    "bst_reg.fit(X_train, y_train)"
   ]
  },
  {
   "cell_type": "code",
   "execution_count": 301,
   "metadata": {},
   "outputs": [
    {
     "name": "stdout",
     "output_type": "stream",
     "text": [
      "RMSE:  0.4699508164431626\n"
     ]
    }
   ],
   "source": [
    "y_pred_2 = bst_reg.predict(X_test)\n",
    "print(\"RMSE: \", np.sqrt(metrics.mean_squared_error(y_test, y_pred_2)))"
   ]
  },
  {
   "cell_type": "markdown",
   "metadata": {},
   "source": [
    "## Predicting on the test set\n",
    "Preprocessing\n",
    "The first thing we need to do is to get our data in the correct format. We will use the same techniques we used when preparing the training data to ensure we do not get any errors.\n",
    "\n",
    "### Preprocessing"
   ]
  },
  {
   "cell_type": "code",
   "execution_count": 310,
   "metadata": {},
   "outputs": [
    {
     "data": {
      "text/html": [
       "<div>\n",
       "<style scoped>\n",
       "    .dataframe tbody tr th:only-of-type {\n",
       "        vertical-align: middle;\n",
       "    }\n",
       "\n",
       "    .dataframe tbody tr th {\n",
       "        vertical-align: top;\n",
       "    }\n",
       "\n",
       "    .dataframe thead th {\n",
       "        text-align: right;\n",
       "    }\n",
       "</style>\n",
       "<table border=\"1\" class=\"dataframe\">\n",
       "  <thead>\n",
       "    <tr style=\"text-align: right;\">\n",
       "      <th></th>\n",
       "      <th>Weight_Kg</th>\n",
       "      <th>Low_Price</th>\n",
       "      <th>High_Price</th>\n",
       "      <th>Sales_Total</th>\n",
       "      <th>Total_Qty_Sold</th>\n",
       "      <th>Total_Kg_Sold</th>\n",
       "      <th>Stock_On_Hand</th>\n",
       "      <th>Province_EASTERN_CAPE</th>\n",
       "      <th>Province_NATAL</th>\n",
       "      <th>Province_ORANGE_FREE_STATE</th>\n",
       "      <th>...</th>\n",
       "      <th>Size_Grade_1U</th>\n",
       "      <th>Size_Grade_1X</th>\n",
       "      <th>Size_Grade_2L</th>\n",
       "      <th>Size_Grade_2M</th>\n",
       "      <th>Size_Grade_2S</th>\n",
       "      <th>Size_Grade_2U</th>\n",
       "      <th>Size_Grade_2X</th>\n",
       "      <th>Season_Spring</th>\n",
       "      <th>Season_Summer</th>\n",
       "      <th>Season_Winter</th>\n",
       "    </tr>\n",
       "  </thead>\n",
       "  <tbody>\n",
       "    <tr>\n",
       "      <th>0</th>\n",
       "      <td>12.0</td>\n",
       "      <td>128.0</td>\n",
       "      <td>136.0</td>\n",
       "      <td>5008.0</td>\n",
       "      <td>38</td>\n",
       "      <td>456.0</td>\n",
       "      <td>0</td>\n",
       "      <td>0</td>\n",
       "      <td>0</td>\n",
       "      <td>0</td>\n",
       "      <td>...</td>\n",
       "      <td>0</td>\n",
       "      <td>0</td>\n",
       "      <td>0</td>\n",
       "      <td>0</td>\n",
       "      <td>0</td>\n",
       "      <td>0</td>\n",
       "      <td>0</td>\n",
       "      <td>0</td>\n",
       "      <td>0</td>\n",
       "      <td>1</td>\n",
       "    </tr>\n",
       "    <tr>\n",
       "      <th>1</th>\n",
       "      <td>18.3</td>\n",
       "      <td>220.0</td>\n",
       "      <td>220.0</td>\n",
       "      <td>1760.0</td>\n",
       "      <td>8</td>\n",
       "      <td>146.4</td>\n",
       "      <td>2</td>\n",
       "      <td>0</td>\n",
       "      <td>0</td>\n",
       "      <td>0</td>\n",
       "      <td>...</td>\n",
       "      <td>0</td>\n",
       "      <td>1</td>\n",
       "      <td>0</td>\n",
       "      <td>0</td>\n",
       "      <td>0</td>\n",
       "      <td>0</td>\n",
       "      <td>0</td>\n",
       "      <td>0</td>\n",
       "      <td>1</td>\n",
       "      <td>0</td>\n",
       "    </tr>\n",
       "    <tr>\n",
       "      <th>2</th>\n",
       "      <td>12.0</td>\n",
       "      <td>120.0</td>\n",
       "      <td>120.0</td>\n",
       "      <td>720.0</td>\n",
       "      <td>6</td>\n",
       "      <td>72.0</td>\n",
       "      <td>45</td>\n",
       "      <td>0</td>\n",
       "      <td>0</td>\n",
       "      <td>0</td>\n",
       "      <td>...</td>\n",
       "      <td>0</td>\n",
       "      <td>0</td>\n",
       "      <td>0</td>\n",
       "      <td>0</td>\n",
       "      <td>0</td>\n",
       "      <td>0</td>\n",
       "      <td>0</td>\n",
       "      <td>0</td>\n",
       "      <td>0</td>\n",
       "      <td>1</td>\n",
       "    </tr>\n",
       "    <tr>\n",
       "      <th>3</th>\n",
       "      <td>18.3</td>\n",
       "      <td>160.0</td>\n",
       "      <td>160.0</td>\n",
       "      <td>160.0</td>\n",
       "      <td>1</td>\n",
       "      <td>18.3</td>\n",
       "      <td>8</td>\n",
       "      <td>0</td>\n",
       "      <td>0</td>\n",
       "      <td>0</td>\n",
       "      <td>...</td>\n",
       "      <td>0</td>\n",
       "      <td>0</td>\n",
       "      <td>0</td>\n",
       "      <td>0</td>\n",
       "      <td>0</td>\n",
       "      <td>0</td>\n",
       "      <td>0</td>\n",
       "      <td>0</td>\n",
       "      <td>0</td>\n",
       "      <td>0</td>\n",
       "    </tr>\n",
       "    <tr>\n",
       "      <th>4</th>\n",
       "      <td>18.3</td>\n",
       "      <td>140.0</td>\n",
       "      <td>160.0</td>\n",
       "      <td>14140.0</td>\n",
       "      <td>100</td>\n",
       "      <td>1830.0</td>\n",
       "      <td>19</td>\n",
       "      <td>0</td>\n",
       "      <td>0</td>\n",
       "      <td>0</td>\n",
       "      <td>...</td>\n",
       "      <td>0</td>\n",
       "      <td>0</td>\n",
       "      <td>0</td>\n",
       "      <td>0</td>\n",
       "      <td>0</td>\n",
       "      <td>0</td>\n",
       "      <td>0</td>\n",
       "      <td>0</td>\n",
       "      <td>0</td>\n",
       "      <td>0</td>\n",
       "    </tr>\n",
       "  </tbody>\n",
       "</table>\n",
       "<p>5 rows × 35 columns</p>\n",
       "</div>"
      ],
      "text/plain": [
       "   Weight_Kg  Low_Price  High_Price  Sales_Total  Total_Qty_Sold  \\\n",
       "0       12.0      128.0       136.0       5008.0              38   \n",
       "1       18.3      220.0       220.0       1760.0               8   \n",
       "2       12.0      120.0       120.0        720.0               6   \n",
       "3       18.3      160.0       160.0        160.0               1   \n",
       "4       18.3      140.0       160.0      14140.0             100   \n",
       "\n",
       "   Total_Kg_Sold  Stock_On_Hand  Province_EASTERN_CAPE  Province_NATAL  \\\n",
       "0          456.0              0                      0               0   \n",
       "1          146.4              2                      0               0   \n",
       "2           72.0             45                      0               0   \n",
       "3           18.3              8                      0               0   \n",
       "4         1830.0             19                      0               0   \n",
       "\n",
       "   Province_ORANGE_FREE_STATE  ...  Size_Grade_1U  Size_Grade_1X  \\\n",
       "0                           0  ...              0              0   \n",
       "1                           0  ...              0              1   \n",
       "2                           0  ...              0              0   \n",
       "3                           0  ...              0              0   \n",
       "4                           0  ...              0              0   \n",
       "\n",
       "   Size_Grade_2L  Size_Grade_2M  Size_Grade_2S  Size_Grade_2U  Size_Grade_2X  \\\n",
       "0              0              0              0              0              0   \n",
       "1              0              0              0              0              0   \n",
       "2              0              0              0              0              0   \n",
       "3              0              0              0              0              0   \n",
       "4              0              0              0              0              0   \n",
       "\n",
       "   Season_Spring  Season_Summer  Season_Winter  \n",
       "0              0              0              1  \n",
       "1              0              1              0  \n",
       "2              0              0              1  \n",
       "3              0              0              0  \n",
       "4              0              0              0  \n",
       "\n",
       "[5 rows x 35 columns]"
      ]
     },
     "execution_count": 310,
     "metadata": {},
     "output_type": "execute_result"
    }
   ],
   "source": [
    "x_test_ = pd.get_dummies(df_test, drop_first=True)\n",
    "x_test_.columns = [col.replace(\" \",\"_\") for col in x_test_.columns]\n",
    "x_test_.columns = [col.replace(\"-\",\"_\") for col in x_test_.columns]\n",
    "x_test_.columns = [col.replace(\"(\",\"_\") for col in x_test_.columns]\n",
    "x_test_.columns = [col.replace(\")\",\"_\") for col in x_test_.columns]\n",
    "x_test_.columns = [col.replace(\".\",\"_\") for col in x_test_.columns]\n",
    "x_test_.head()"
   ]
  },
  {
   "cell_type": "code",
   "execution_count": 311,
   "metadata": {},
   "outputs": [],
   "source": [
    "# Create scaled version of the predictors (there is no need to scale the response)\n",
    "x_tests = scaler.fit_transform(x_test_)"
   ]
  },
  {
   "cell_type": "code",
   "execution_count": 312,
   "metadata": {},
   "outputs": [
    {
     "data": {
      "text/html": [
       "<div>\n",
       "<style scoped>\n",
       "    .dataframe tbody tr th:only-of-type {\n",
       "        vertical-align: middle;\n",
       "    }\n",
       "\n",
       "    .dataframe tbody tr th {\n",
       "        vertical-align: top;\n",
       "    }\n",
       "\n",
       "    .dataframe thead th {\n",
       "        text-align: right;\n",
       "    }\n",
       "</style>\n",
       "<table border=\"1\" class=\"dataframe\">\n",
       "  <thead>\n",
       "    <tr style=\"text-align: right;\">\n",
       "      <th></th>\n",
       "      <th>Weight_Kg</th>\n",
       "      <th>Low_Price</th>\n",
       "      <th>High_Price</th>\n",
       "      <th>Sales_Total</th>\n",
       "      <th>Total_Qty_Sold</th>\n",
       "      <th>Total_Kg_Sold</th>\n",
       "      <th>Stock_On_Hand</th>\n",
       "      <th>Province_EASTERN_CAPE</th>\n",
       "      <th>Province_NATAL</th>\n",
       "      <th>Province_ORANGE_FREE_STATE</th>\n",
       "      <th>...</th>\n",
       "      <th>Size_Grade_1U</th>\n",
       "      <th>Size_Grade_1X</th>\n",
       "      <th>Size_Grade_2L</th>\n",
       "      <th>Size_Grade_2M</th>\n",
       "      <th>Size_Grade_2S</th>\n",
       "      <th>Size_Grade_2U</th>\n",
       "      <th>Size_Grade_2X</th>\n",
       "      <th>Season_Spring</th>\n",
       "      <th>Season_Summer</th>\n",
       "      <th>Season_Winter</th>\n",
       "    </tr>\n",
       "  </thead>\n",
       "  <tbody>\n",
       "    <tr>\n",
       "      <th>0</th>\n",
       "      <td>-0.253022</td>\n",
       "      <td>-0.102006</td>\n",
       "      <td>-0.153257</td>\n",
       "      <td>-0.406172</td>\n",
       "      <td>-0.457601</td>\n",
       "      <td>-0.448904</td>\n",
       "      <td>-0.613932</td>\n",
       "      <td>-0.366205</td>\n",
       "      <td>-0.173422</td>\n",
       "      <td>-0.07664</td>\n",
       "      <td>...</td>\n",
       "      <td>-0.038236</td>\n",
       "      <td>-0.361058</td>\n",
       "      <td>-0.261998</td>\n",
       "      <td>-0.373854</td>\n",
       "      <td>-0.388922</td>\n",
       "      <td>-0.115385</td>\n",
       "      <td>-0.085749</td>\n",
       "      <td>-0.289587</td>\n",
       "      <td>-0.488567</td>\n",
       "      <td>1.258930</td>\n",
       "    </tr>\n",
       "    <tr>\n",
       "      <th>1</th>\n",
       "      <td>-0.181032</td>\n",
       "      <td>0.157216</td>\n",
       "      <td>0.062779</td>\n",
       "      <td>-0.501907</td>\n",
       "      <td>-0.557890</td>\n",
       "      <td>-0.510145</td>\n",
       "      <td>-0.611136</td>\n",
       "      <td>-0.366205</td>\n",
       "      <td>-0.173422</td>\n",
       "      <td>-0.07664</td>\n",
       "      <td>...</td>\n",
       "      <td>-0.038236</td>\n",
       "      <td>2.769636</td>\n",
       "      <td>-0.261998</td>\n",
       "      <td>-0.373854</td>\n",
       "      <td>-0.388922</td>\n",
       "      <td>-0.115385</td>\n",
       "      <td>-0.085749</td>\n",
       "      <td>-0.289587</td>\n",
       "      <td>2.046801</td>\n",
       "      <td>-0.794325</td>\n",
       "    </tr>\n",
       "    <tr>\n",
       "      <th>2</th>\n",
       "      <td>-0.253022</td>\n",
       "      <td>-0.124547</td>\n",
       "      <td>-0.194406</td>\n",
       "      <td>-0.532562</td>\n",
       "      <td>-0.564576</td>\n",
       "      <td>-0.524862</td>\n",
       "      <td>-0.551035</td>\n",
       "      <td>-0.366205</td>\n",
       "      <td>-0.173422</td>\n",
       "      <td>-0.07664</td>\n",
       "      <td>...</td>\n",
       "      <td>-0.038236</td>\n",
       "      <td>-0.361058</td>\n",
       "      <td>-0.261998</td>\n",
       "      <td>-0.373854</td>\n",
       "      <td>-0.388922</td>\n",
       "      <td>-0.115385</td>\n",
       "      <td>-0.085749</td>\n",
       "      <td>-0.289587</td>\n",
       "      <td>-0.488567</td>\n",
       "      <td>1.258930</td>\n",
       "    </tr>\n",
       "    <tr>\n",
       "      <th>3</th>\n",
       "      <td>-0.181032</td>\n",
       "      <td>-0.011842</td>\n",
       "      <td>-0.091532</td>\n",
       "      <td>-0.549068</td>\n",
       "      <td>-0.581291</td>\n",
       "      <td>-0.535484</td>\n",
       "      <td>-0.602750</td>\n",
       "      <td>-0.366205</td>\n",
       "      <td>-0.173422</td>\n",
       "      <td>-0.07664</td>\n",
       "      <td>...</td>\n",
       "      <td>-0.038236</td>\n",
       "      <td>-0.361058</td>\n",
       "      <td>-0.261998</td>\n",
       "      <td>-0.373854</td>\n",
       "      <td>-0.388922</td>\n",
       "      <td>-0.115385</td>\n",
       "      <td>-0.085749</td>\n",
       "      <td>-0.289587</td>\n",
       "      <td>-0.488567</td>\n",
       "      <td>-0.794325</td>\n",
       "    </tr>\n",
       "    <tr>\n",
       "      <th>4</th>\n",
       "      <td>-0.181032</td>\n",
       "      <td>-0.068195</td>\n",
       "      <td>-0.091532</td>\n",
       "      <td>-0.137004</td>\n",
       "      <td>-0.250335</td>\n",
       "      <td>-0.177117</td>\n",
       "      <td>-0.587375</td>\n",
       "      <td>-0.366205</td>\n",
       "      <td>-0.173422</td>\n",
       "      <td>-0.07664</td>\n",
       "      <td>...</td>\n",
       "      <td>-0.038236</td>\n",
       "      <td>-0.361058</td>\n",
       "      <td>-0.261998</td>\n",
       "      <td>-0.373854</td>\n",
       "      <td>-0.388922</td>\n",
       "      <td>-0.115385</td>\n",
       "      <td>-0.085749</td>\n",
       "      <td>-0.289587</td>\n",
       "      <td>-0.488567</td>\n",
       "      <td>-0.794325</td>\n",
       "    </tr>\n",
       "  </tbody>\n",
       "</table>\n",
       "<p>5 rows × 35 columns</p>\n",
       "</div>"
      ],
      "text/plain": [
       "   Weight_Kg  Low_Price  High_Price  Sales_Total  Total_Qty_Sold  \\\n",
       "0  -0.253022  -0.102006   -0.153257    -0.406172       -0.457601   \n",
       "1  -0.181032   0.157216    0.062779    -0.501907       -0.557890   \n",
       "2  -0.253022  -0.124547   -0.194406    -0.532562       -0.564576   \n",
       "3  -0.181032  -0.011842   -0.091532    -0.549068       -0.581291   \n",
       "4  -0.181032  -0.068195   -0.091532    -0.137004       -0.250335   \n",
       "\n",
       "   Total_Kg_Sold  Stock_On_Hand  Province_EASTERN_CAPE  Province_NATAL  \\\n",
       "0      -0.448904      -0.613932              -0.366205       -0.173422   \n",
       "1      -0.510145      -0.611136              -0.366205       -0.173422   \n",
       "2      -0.524862      -0.551035              -0.366205       -0.173422   \n",
       "3      -0.535484      -0.602750              -0.366205       -0.173422   \n",
       "4      -0.177117      -0.587375              -0.366205       -0.173422   \n",
       "\n",
       "   Province_ORANGE_FREE_STATE  ...  Size_Grade_1U  Size_Grade_1X  \\\n",
       "0                    -0.07664  ...      -0.038236      -0.361058   \n",
       "1                    -0.07664  ...      -0.038236       2.769636   \n",
       "2                    -0.07664  ...      -0.038236      -0.361058   \n",
       "3                    -0.07664  ...      -0.038236      -0.361058   \n",
       "4                    -0.07664  ...      -0.038236      -0.361058   \n",
       "\n",
       "   Size_Grade_2L  Size_Grade_2M  Size_Grade_2S  Size_Grade_2U  Size_Grade_2X  \\\n",
       "0      -0.261998      -0.373854      -0.388922      -0.115385      -0.085749   \n",
       "1      -0.261998      -0.373854      -0.388922      -0.115385      -0.085749   \n",
       "2      -0.261998      -0.373854      -0.388922      -0.115385      -0.085749   \n",
       "3      -0.261998      -0.373854      -0.388922      -0.115385      -0.085749   \n",
       "4      -0.261998      -0.373854      -0.388922      -0.115385      -0.085749   \n",
       "\n",
       "   Season_Spring  Season_Summer  Season_Winter  \n",
       "0      -0.289587      -0.488567       1.258930  \n",
       "1      -0.289587       2.046801      -0.794325  \n",
       "2      -0.289587      -0.488567       1.258930  \n",
       "3      -0.289587      -0.488567      -0.794325  \n",
       "4      -0.289587      -0.488567      -0.794325  \n",
       "\n",
       "[5 rows x 35 columns]"
      ]
     },
     "execution_count": 312,
     "metadata": {},
     "output_type": "execute_result"
    }
   ],
   "source": [
    "x_test_standardised = pd.DataFrame(x_tests, columns=x_test_.columns)\n",
    "x_test_standardised.head()"
   ]
  },
  {
   "cell_type": "markdown",
   "metadata": {},
   "source": [
    "### Making predictions"
   ]
  },
  {
   "cell_type": "code",
   "execution_count": 317,
   "metadata": {},
   "outputs": [],
   "source": [
    "preds = bst_reg.predict(x_test_standardised)"
   ]
  },
  {
   "cell_type": "code",
   "execution_count": 318,
   "metadata": {},
   "outputs": [
    {
     "data": {
      "text/plain": [
       "array([10.4       , 12.02      , 10.16      ,  9.54625   ,  8.7947619 ,\n",
       "        5.25      ,  3.64      ,  8.59294118,  8.885     ,  9.97      ,\n",
       "        5.638     ,  5.67      ,  9.04166667,  3.755     ,  4.54181818,\n",
       "        5.45      ,  8.14      ,  4.65      , 10.4375    ,  6.10133333,\n",
       "        5.94909091,  5.41      ,  5.54625   ,  6.985     ,  5.        ,\n",
       "        6.12      ,  7.3225    ,  8.65      ,  8.07717949,  8.17409091,\n",
       "        8.98      ,  5.63125   , 10.275     ,  8.20909091,  5.3       ,\n",
       "       10.59      , 11.39      , 11.27      ,  6.40185185,  7.12      ,\n",
       "        8.31      ,  8.54102041,  5.46      ,  5.53727273,  4.71083333,\n",
       "        5.03375   ,  5.5       ,  4.64      ,  5.3475    ,  5.3       ,\n",
       "        2.        ,  5.65083333,  7.3972    , 14.1       ,  8.35875   ,\n",
       "        6.75      , 10.4       ,  9.01741935,  8.26957265,  6.23      ,\n",
       "        8.29      , 11.27      ,  5.476     , 10.01      ,  6.55      ,\n",
       "        6.19666667,  5.745     ,  4.84      ,  5.5       ,  7.692     ,\n",
       "        6.18882353,  4.678125  ,  4.05      ,  8.39      ,  5.91133333,\n",
       "        4.6925    ,  5.46411765, 10.01      , 11.96      ,  5.65083333,\n",
       "        8.12      ,  5.5       ,  6.274     ,  4.71083333,  1.59      ,\n",
       "        6.72285714,  7.30571429, 11.23      ,  4.85      ,  6.43      ,\n",
       "        9.38      , 10.43      ,  7.2       ,  6.02785714,  5.83      ,\n",
       "        6.66111842,  9.07674419,  9.02      ,  6.42169231,  4.94470588,\n",
       "       11.39      ,  5.28      ,  6.        ,  8.25888889,  7.275     ,\n",
       "        9.35625   ,  7.63777778,  2.78      , 10.16      ,  5.41      ,\n",
       "        4.23      ,  6.88358491,  5.21333333,  4.6       ,  6.66432432,\n",
       "       10.16      ,  5.6       ,  9.66      ,  4.24      ,  7.275     ,\n",
       "        5.17      ,  4.53111111,  8.42      ,  4.75      ,  9.234     ,\n",
       "        8.1       ,  4.24      ,  9.26      , 10.67      ,  4.68      ,\n",
       "        6.71571429,  5.31380952, 10.03333333,  8.50642857,  1.25      ,\n",
       "        5.638     ,  6.88      ,  8.44      ,  8.07285714,  5.29181818,\n",
       "        8.65      ,  5.5       ,  8.42      ,  5.10571429,  9.855     ,\n",
       "        5.70181818,  5.6       ,  8.28666667,  6.52153846,  9.44      ,\n",
       "       10.4       ,  8.63285714,  4.64      ,  7.913     ,  7.73      ,\n",
       "       12.02      ,  5.87214286,  4.44      ,  5.97666667,  5.6       ,\n",
       "        8.3875    ,  9.2625    ,  6.97      ,  8.93545455,  7.04      ,\n",
       "        8.95642857,  6.83105263,  8.44833333,  4.55      ,  7.60436782,\n",
       "        9.125     ,  7.91583333,  5.3225    ,  8.69      ,  5.28      ,\n",
       "        5.52090909,  8.12      ,  4.87      ,  6.20263158,  7.17545455,\n",
       "        5.21333333,  0.38      , 10.41916667,  7.51      ,  7.2       ,\n",
       "        0.38      ,  4.53111111, 10.655     ,  7.87      ,  5.24363636,\n",
       "        4.67      ,  9.25142857,  5.5       ,  4.54181818, 10.4       ,\n",
       "        8.75      ,  8.5       ,  6.68      ,  6.        ,  7.9925    ,\n",
       "        6.42169231,  3.        ,  7.82      ,  1.67      ,  6.05111111,\n",
       "        4.61      ,  8.46613636,  6.985     ,  7.92      ,  8.28      ,\n",
       "        7.82846154, 11.29      ,  5.6       ,  7.09320755,  8.42      ,\n",
       "        4.68      ,  4.68      ,  5.6       ,  9.60611111,  7.49833333,\n",
       "        5.69      ,  5.02      ,  8.39      , 11.39      , 11.39      ,\n",
       "        6.64111111,  5.656     ,  5.4       ,  8.42      ,  4.68      ,\n",
       "        5.255     , 10.93      ,  8.277     ,  5.4       ,  5.745     ,\n",
       "        5.24      ,  8.39      ,  9.49076923,  4.11      ,  5.74333333,\n",
       "        3.94      ,  5.6       ,  6.05111111,  8.14      , 12.02      ,\n",
       "        7.2       ,  6.        ,  8.25888889,  5.6       ,  9.53      ,\n",
       "        8.44      , 10.474     ,  4.18      ,  5.31380952,  5.6578125 ,\n",
       "        4.64      ,  7.2       ,  9.38666667,  9.49076923,  9.16      ,\n",
       "       10.29      , 10.4       ,  5.7525    ,  5.13368421,  4.59333333,\n",
       "        7.38      ,  4.67      ,  5.9108    ,  4.885     ,  5.6578125 ,\n",
       "        8.54369565,  6.19      , 11.175     ,  1.59      ,  9.04166667,\n",
       "        8.42      ,  5.3       ,  5.6578125 ,  6.29846154,  8.09609756,\n",
       "        4.65      ,  7.08      ,  6.        ,  4.33      , 10.15      ,\n",
       "        5.33      ,  5.13      ,  5.2       ,  8.74      ,  8.27833333,\n",
       "        6.        ,  5.87052632,  5.53911765,  1.25      ,  7.1       ,\n",
       "        7.5       ,  8.69      ,  8.3       ,  6.97      ,  6.81      ,\n",
       "        4.65928571,  5.17      ,  4.12      ,  6.74375   ,  8.55      ,\n",
       "        9.84      ,  5.7825    ,  3.705     ,  8.33238095,  6.23125   ,\n",
       "        7.15590909,  7.48375   ,  5.47      ,  8.39      , 10.4       ,\n",
       "        9.48      ,  5.70181818,  5.79      ,  5.27      ,  6.66111842,\n",
       "        5.65083333,  5.79333333,  4.61      ,  7.50857143,  5.5       ,\n",
       "        3.68714286,  8.09609756,  5.638     , 11.4425    ,  7.62894737,\n",
       "        5.65083333,  4.71083333,  9.58      ,  7.46418605,  8.74      ,\n",
       "        8.39      ,  8.79115385,  5.6578125 ,  8.        ,  4.44      ,\n",
       "        6.90222222,  5.6       ,  8.675     ,  7.2       ,  8.9025    ,\n",
       "        7.2       ,  9.125     ,  4.85      ,  8.31875   ,  8.39      ,\n",
       "        6.975     , 10.474     ,  8.277     ,  9.38666667,  7.39      ,\n",
       "        5.99363636,  5.13      ,  9.33      ,  8.5375    ,  9.15634146,\n",
       "        7.17333333,  5.65083333,  8.66403226,  8.86317073,  7.09355556,\n",
       "        7.19      ,  7.63566667,  8.        ,  5.84      ,  9.399     ,\n",
       "        5.        ,  5.6578125 ,  5.45      ,  9.01741935,  6.656     ,\n",
       "        6.45904762,  5.41      ,  6.11380952,  8.277     ,  5.83      ,\n",
       "        6.45904762,  7.67      ,  7.264     ,  8.268     ,  3.18526316,\n",
       "        8.30727273,  6.50285714,  7.70043478,  3.57      ,  9.28333333,\n",
       "        7.47661972,  6.05111111, 10.01      ,  8.9025    ,  1.75      ,\n",
       "        8.90658824,  5.99363636,  6.11      ,  7.9025    ,  7.12      ,\n",
       "        5.652     ,  3.33      ,  9.96      ,  5.71809524,  6.11      ,\n",
       "        9.84      ,  5.24363636,  7.2       ,  5.33      ,  9.60611111,\n",
       "       10.43333333,  4.6       ,  5.33333333,  9.28333333,  9.97      ,\n",
       "        4.68      ,  9.58      ,  5.6       , 10.37333333,  6.01511111,\n",
       "        4.885     ,  4.94470588,  8.268     ,  4.85      ,  5.94909091,\n",
       "        8.5       ,  8.62139535,  6.88      ,  8.55      ,  6.75911765,\n",
       "       10.4       ,  7.26      ,  8.0553125 ,  8.55347826,  6.66111842,\n",
       "        7.61235294,  4.584     ,  4.68      ,  6.76882353,  5.638     ,\n",
       "        8.32      ,  6.05111111, 10.4       ,  9.60611111,  8.79122449,\n",
       "       11.0625    ,  6.77868421,  8.74      ,  8.4275    ,  8.43546875,\n",
       "       10.16      ,  7.19      , 10.43      ,  7.41      ,  7.80076923,\n",
       "        8.07409091,  9.07242424,  8.73823529,  4.3       ,  8.5825    ,\n",
       "        4.35      ,  9.15634146,  4.65928571,  5.13368421,  9.08      ,\n",
       "        4.12      ,  4.94470588,  8.09833333,  4.67      ,  8.39      ,\n",
       "        8.89666667,  8.69      ,  5.90666667,  4.55      ,  5.8166129 ,\n",
       "        8.42      , 10.89      ,  4.5       ,  6.45541667,  4.6925    ,\n",
       "        5.2       ,  8.25888889,  5.16      ,  3.83      ,  9.07242424,\n",
       "        8.43546875,  8.45583333,  3.35666667,  5.03375   ,  4.5       ,\n",
       "        5.62333333,  6.02923077,  8.44      ,  8.        , 11.12      ,\n",
       "        6.03      ,  5.17      ,  8.08      ,  8.74      ,  9.84      ,\n",
       "        8.42      ,  9.764     ,  8.9025    ,  8.9025    ,  8.26957265,\n",
       "       10.16      ,  7.69291667,  5.6578125 ,  7.55375   ,  5.4       ,\n",
       "        9.35625   ,  7.692     ,  5.17      ,  3.94      ,  8.424     ,\n",
       "        9.52      ,  8.675     ,  6.72076923,  6.69      ,  5.22366667,\n",
       "        8.53777778,  4.13      ,  6.72759036,  6.43545455,  7.92      ,\n",
       "        7.63222222,  8.277     ,  3.        ,  4.3       ,  8.42      ,\n",
       "       10.62875   ,  4.85      ,  9.46      ,  7.85      ,  9.71      ,\n",
       "        9.35625   ,  8.394     ,  6.70877551,  5.71677419,  8.6175    ,\n",
       "        8.42      ,  5.33      ,  8.62139535,  8.46613636,  7.02      ,\n",
       "        6.15375   ,  8.3       ,  6.365     ,  4.92      ,  6.83944444,\n",
       "        4.765     ,  6.01666667,  5.34571429,  5.3       ,  4.64193548,\n",
       "        5.57555556,  9.86625   ,  7.86235294,  5.5825    ,  5.31380952,\n",
       "        9.38666667,  4.75      ,  5.        ,  5.4       ,  7.30162162,\n",
       "        5.185     ,  9.4175    ,  6.42169231,  8.9025    ,  9.23666667,\n",
       "        5.33      ,  5.17      ,  9.87      ,  8.3725    ,  5.4       ,\n",
       "        6.        ,  5.476     ,  2.98      ,  8.        , 12.02      ,\n",
       "        4.68      ,  5.255     ,  3.33      ,  7.33185185,  8.3875    ,\n",
       "        8.74      ,  7.26526316, 10.15      ,  5.68      ,  7.28      ,\n",
       "        7.94333333,  8.09833333,  5.71333333,  6.29625   ,  7.33      ,\n",
       "        5.502     ,  6.23      ,  5.70181818,  7.3       ,  5.8166129 ,\n",
       "        7.1       ,  6.182     , 11.154     ,  8.5       ,  6.84974359,\n",
       "        2.23666667,  8.65      ,  4.22333333,  8.31875   ,  9.87      ,\n",
       "        8.53777778,  8.39      ,  8.0056    ,  4.67      , 10.4       ,\n",
       "        5.16      ,  6.03      ,  9.855     ,  5.809     ,  8.63285714,\n",
       "        5.5075    , 11.21333333,  7.875     ,  4.67      ,  5.21333333,\n",
       "        5.46      ,  5.34571429,  4.584     ,  6.12      ,  6.64428571,\n",
       "        5.83      ,  6.36333333,  6.08111111,  5.4       ,  6.247     ,\n",
       "        5.04666667, 10.01      ,  4.94470588,  4.12636364,  8.5       ,\n",
       "        6.29846154,  5.5       ,  9.07242424,  4.678125  , 11.39      ,\n",
       "        6.49      ,  7.1       ,  4.34333333, 10.20166667,  8.875625  ,\n",
       "        6.1734375 ,  7.22714286,  6.91428571,  9.505     ,  4.24      ,\n",
       "        7.63566667,  4.98      ,  4.678125  ,  6.395     ,  8.86      ,\n",
       "        5.54333333,  5.6578125 ,  5.34421053,  1.59      , 11.29      ,\n",
       "        8.74      ,  7.53666667,  5.25      , 11.27      ,  5.61      ,\n",
       "       10.64      ,  4.81166667,  4.995     ,  6.29846154, 11.12      ,\n",
       "       10.4       ,  6.61      ,  7.1       ,  7.60436782,  2.73      ,\n",
       "        3.35666667,  7.785     ,  5.34571429,  7.92      ,  8.75      ])"
      ]
     },
     "execution_count": 318,
     "metadata": {},
     "output_type": "execute_result"
    }
   ],
   "source": [
    "preds"
   ]
  },
  {
   "cell_type": "markdown",
   "metadata": {},
   "source": [
    "### Submission"
   ]
  },
  {
   "cell_type": "code",
   "execution_count": 319,
   "metadata": {},
   "outputs": [],
   "source": [
    "# create submission dataframe\n",
    "# Create Dataframe of Order_No and Time from Pickup to Arrival\n",
    "submission = pd.DataFrame(\n",
    "    {'Index': test_index,\n",
    "     'avg_price_per_kg': preds\n",
    "    })"
   ]
  },
  {
   "cell_type": "code",
   "execution_count": 320,
   "metadata": {},
   "outputs": [
    {
     "data": {
      "text/html": [
       "<div>\n",
       "<style scoped>\n",
       "    .dataframe tbody tr th:only-of-type {\n",
       "        vertical-align: middle;\n",
       "    }\n",
       "\n",
       "    .dataframe tbody tr th {\n",
       "        vertical-align: top;\n",
       "    }\n",
       "\n",
       "    .dataframe thead th {\n",
       "        text-align: right;\n",
       "    }\n",
       "</style>\n",
       "<table border=\"1\" class=\"dataframe\">\n",
       "  <thead>\n",
       "    <tr style=\"text-align: right;\">\n",
       "      <th></th>\n",
       "      <th>Index</th>\n",
       "      <th>avg_price_per_kg</th>\n",
       "    </tr>\n",
       "  </thead>\n",
       "  <tbody>\n",
       "    <tr>\n",
       "      <th>0</th>\n",
       "      <td>1</td>\n",
       "      <td>10.400000</td>\n",
       "    </tr>\n",
       "    <tr>\n",
       "      <th>1</th>\n",
       "      <td>2</td>\n",
       "      <td>12.020000</td>\n",
       "    </tr>\n",
       "    <tr>\n",
       "      <th>2</th>\n",
       "      <td>3</td>\n",
       "      <td>10.160000</td>\n",
       "    </tr>\n",
       "    <tr>\n",
       "      <th>3</th>\n",
       "      <td>4</td>\n",
       "      <td>9.546250</td>\n",
       "    </tr>\n",
       "    <tr>\n",
       "      <th>4</th>\n",
       "      <td>5</td>\n",
       "      <td>8.794762</td>\n",
       "    </tr>\n",
       "  </tbody>\n",
       "</table>\n",
       "</div>"
      ],
      "text/plain": [
       "   Index  avg_price_per_kg\n",
       "0      1         10.400000\n",
       "1      2         12.020000\n",
       "2      3         10.160000\n",
       "3      4          9.546250\n",
       "4      5          8.794762"
      ]
     },
     "execution_count": 320,
     "metadata": {},
     "output_type": "execute_result"
    }
   ],
   "source": [
    "submission.head()"
   ]
  },
  {
   "cell_type": "code",
   "execution_count": 309,
   "metadata": {},
   "outputs": [],
   "source": [
    "# save DataFrame to csv file for submission\n",
    "submission.to_csv(\"Regression_AM2_DSFT.csv\", index=False)"
   ]
  },
  {
   "cell_type": "code",
   "execution_count": null,
   "metadata": {},
   "outputs": [],
   "source": []
  }
 ],
 "metadata": {
  "kernelspec": {
   "display_name": "Python 3",
   "language": "python",
   "name": "python3"
  },
  "language_info": {
   "codemirror_mode": {
    "name": "ipython",
    "version": 3
   },
   "file_extension": ".py",
   "mimetype": "text/x-python",
   "name": "python",
   "nbconvert_exporter": "python",
   "pygments_lexer": "ipython3",
   "version": "3.8.5"
  }
 },
 "nbformat": 4,
 "nbformat_minor": 4
}
